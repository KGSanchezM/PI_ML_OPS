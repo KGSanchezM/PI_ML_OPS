{
 "cells": [
  {
   "cell_type": "markdown",
   "metadata": {},
   "source": [
    "# UserRecommend\n",
    "\n",
    "La función UsersRecommend tiene como objetivo proporcionar a los usuarios la información sobre los tres juegos más recomendados para un año específico. La función toma como entrada un año y devuelve el top 3 de juegos más recomendados por la comunidad de usuarios. Solo se considerarán comentarios positivos de las reseñas. \n",
    "\n",
    "Ejemplo de retorno: [{\"Puesto 1\" : X}, {\"Puesto 2\" : Y},{\"Puesto 3\" : Z}]"
   ]
  },
  {
   "cell_type": "markdown",
   "metadata": {},
   "source": [
    "### Importación de librerias"
   ]
  },
  {
   "cell_type": "code",
   "execution_count": 9,
   "metadata": {},
   "outputs": [],
   "source": [
    "import pandas as pd"
   ]
  },
  {
   "cell_type": "markdown",
   "metadata": {},
   "source": [
    "### Lectura de los CSV"
   ]
  },
  {
   "cell_type": "code",
   "execution_count": 10,
   "metadata": {},
   "outputs": [],
   "source": [
    "steam_games = pd.read_csv(\"..\\\\Datsets\\\\CSV\\\\steam_games.csv\")\n",
    "user_reviews =pd.read_csv(\"..\\\\Datsets\\\\CSV\\\\user_reviews.csv\")"
   ]
  },
  {
   "cell_type": "markdown",
   "metadata": {},
   "source": [
    "### Creación de DataFrame\n",
    "\n",
    "Para la implementación de esta función, se utilizarán dos DataFrames: user_reviews y steam_games. Estos DataFrames se concatenarán  para obtener las columnas necesarias que serán utilizadas en la función."
   ]
  },
  {
   "cell_type": "code",
   "execution_count": 11,
   "metadata": {},
   "outputs": [
    {
     "data": {
      "text/html": [
       "<div>\n",
       "<style scoped>\n",
       "    .dataframe tbody tr th:only-of-type {\n",
       "        vertical-align: middle;\n",
       "    }\n",
       "\n",
       "    .dataframe tbody tr th {\n",
       "        vertical-align: top;\n",
       "    }\n",
       "\n",
       "    .dataframe thead th {\n",
       "        text-align: right;\n",
       "    }\n",
       "</style>\n",
       "<table border=\"1\" class=\"dataframe\">\n",
       "  <thead>\n",
       "    <tr style=\"text-align: right;\">\n",
       "      <th></th>\n",
       "      <th>user_id</th>\n",
       "      <th>item_id</th>\n",
       "      <th>recommend</th>\n",
       "      <th>posted_year</th>\n",
       "      <th>sentiment_score</th>\n",
       "      <th>sentiment_analysis</th>\n",
       "      <th>genres</th>\n",
       "      <th>app_name</th>\n",
       "      <th>tags</th>\n",
       "      <th>specs</th>\n",
       "      <th>price</th>\n",
       "      <th>early_access</th>\n",
       "      <th>id</th>\n",
       "      <th>developer</th>\n",
       "      <th>release_year</th>\n",
       "    </tr>\n",
       "  </thead>\n",
       "  <tbody>\n",
       "    <tr>\n",
       "      <th>0</th>\n",
       "      <td>76561197970982479</td>\n",
       "      <td>1250</td>\n",
       "      <td>True</td>\n",
       "      <td>2011.0</td>\n",
       "      <td>0.8481</td>\n",
       "      <td>2</td>\n",
       "      <td>['Action', 'Adventure']</td>\n",
       "      <td>Killing Floor</td>\n",
       "      <td>['FPS', 'Zombies', 'Co-op', 'Survival', 'Actio...</td>\n",
       "      <td>['Single-player', 'Multi-player', 'Co-op', 'Cr...</td>\n",
       "      <td>19.99</td>\n",
       "      <td>0.0</td>\n",
       "      <td>1250.0</td>\n",
       "      <td>Tripwire Interactive</td>\n",
       "      <td>2009.0</td>\n",
       "    </tr>\n",
       "    <tr>\n",
       "      <th>1</th>\n",
       "      <td>death-hunter</td>\n",
       "      <td>1250</td>\n",
       "      <td>True</td>\n",
       "      <td>2015.0</td>\n",
       "      <td>0.7644</td>\n",
       "      <td>2</td>\n",
       "      <td>['Action', 'Adventure']</td>\n",
       "      <td>Killing Floor</td>\n",
       "      <td>['FPS', 'Zombies', 'Co-op', 'Survival', 'Actio...</td>\n",
       "      <td>['Single-player', 'Multi-player', 'Co-op', 'Cr...</td>\n",
       "      <td>19.99</td>\n",
       "      <td>0.0</td>\n",
       "      <td>1250.0</td>\n",
       "      <td>Tripwire Interactive</td>\n",
       "      <td>2009.0</td>\n",
       "    </tr>\n",
       "    <tr>\n",
       "      <th>2</th>\n",
       "      <td>DJKamBer</td>\n",
       "      <td>1250</td>\n",
       "      <td>True</td>\n",
       "      <td>2013.0</td>\n",
       "      <td>-0.5348</td>\n",
       "      <td>0</td>\n",
       "      <td>['Action', 'Adventure']</td>\n",
       "      <td>Killing Floor</td>\n",
       "      <td>['FPS', 'Zombies', 'Co-op', 'Survival', 'Actio...</td>\n",
       "      <td>['Single-player', 'Multi-player', 'Co-op', 'Cr...</td>\n",
       "      <td>19.99</td>\n",
       "      <td>0.0</td>\n",
       "      <td>1250.0</td>\n",
       "      <td>Tripwire Interactive</td>\n",
       "      <td>2009.0</td>\n",
       "    </tr>\n",
       "    <tr>\n",
       "      <th>3</th>\n",
       "      <td>diego9031</td>\n",
       "      <td>1250</td>\n",
       "      <td>True</td>\n",
       "      <td>2015.0</td>\n",
       "      <td>0.0000</td>\n",
       "      <td>1</td>\n",
       "      <td>['Action', 'Adventure']</td>\n",
       "      <td>Killing Floor</td>\n",
       "      <td>['FPS', 'Zombies', 'Co-op', 'Survival', 'Actio...</td>\n",
       "      <td>['Single-player', 'Multi-player', 'Co-op', 'Cr...</td>\n",
       "      <td>19.99</td>\n",
       "      <td>0.0</td>\n",
       "      <td>1250.0</td>\n",
       "      <td>Tripwire Interactive</td>\n",
       "      <td>2009.0</td>\n",
       "    </tr>\n",
       "    <tr>\n",
       "      <th>4</th>\n",
       "      <td>76561198081962345</td>\n",
       "      <td>1250</td>\n",
       "      <td>True</td>\n",
       "      <td>2014.0</td>\n",
       "      <td>0.0000</td>\n",
       "      <td>1</td>\n",
       "      <td>['Action', 'Adventure']</td>\n",
       "      <td>Killing Floor</td>\n",
       "      <td>['FPS', 'Zombies', 'Co-op', 'Survival', 'Actio...</td>\n",
       "      <td>['Single-player', 'Multi-player', 'Co-op', 'Cr...</td>\n",
       "      <td>19.99</td>\n",
       "      <td>0.0</td>\n",
       "      <td>1250.0</td>\n",
       "      <td>Tripwire Interactive</td>\n",
       "      <td>2009.0</td>\n",
       "    </tr>\n",
       "  </tbody>\n",
       "</table>\n",
       "</div>"
      ],
      "text/plain": [
       "             user_id  item_id  recommend  posted_year  sentiment_score  \\\n",
       "0  76561197970982479     1250       True       2011.0           0.8481   \n",
       "1       death-hunter     1250       True       2015.0           0.7644   \n",
       "2           DJKamBer     1250       True       2013.0          -0.5348   \n",
       "3          diego9031     1250       True       2015.0           0.0000   \n",
       "4  76561198081962345     1250       True       2014.0           0.0000   \n",
       "\n",
       "   sentiment_analysis                   genres       app_name  \\\n",
       "0                   2  ['Action', 'Adventure']  Killing Floor   \n",
       "1                   2  ['Action', 'Adventure']  Killing Floor   \n",
       "2                   0  ['Action', 'Adventure']  Killing Floor   \n",
       "3                   1  ['Action', 'Adventure']  Killing Floor   \n",
       "4                   1  ['Action', 'Adventure']  Killing Floor   \n",
       "\n",
       "                                                tags  \\\n",
       "0  ['FPS', 'Zombies', 'Co-op', 'Survival', 'Actio...   \n",
       "1  ['FPS', 'Zombies', 'Co-op', 'Survival', 'Actio...   \n",
       "2  ['FPS', 'Zombies', 'Co-op', 'Survival', 'Actio...   \n",
       "3  ['FPS', 'Zombies', 'Co-op', 'Survival', 'Actio...   \n",
       "4  ['FPS', 'Zombies', 'Co-op', 'Survival', 'Actio...   \n",
       "\n",
       "                                               specs  price  early_access  \\\n",
       "0  ['Single-player', 'Multi-player', 'Co-op', 'Cr...  19.99           0.0   \n",
       "1  ['Single-player', 'Multi-player', 'Co-op', 'Cr...  19.99           0.0   \n",
       "2  ['Single-player', 'Multi-player', 'Co-op', 'Cr...  19.99           0.0   \n",
       "3  ['Single-player', 'Multi-player', 'Co-op', 'Cr...  19.99           0.0   \n",
       "4  ['Single-player', 'Multi-player', 'Co-op', 'Cr...  19.99           0.0   \n",
       "\n",
       "       id             developer  release_year  \n",
       "0  1250.0  Tripwire Interactive        2009.0  \n",
       "1  1250.0  Tripwire Interactive        2009.0  \n",
       "2  1250.0  Tripwire Interactive        2009.0  \n",
       "3  1250.0  Tripwire Interactive        2009.0  \n",
       "4  1250.0  Tripwire Interactive        2009.0  "
      ]
     },
     "execution_count": 11,
     "metadata": {},
     "output_type": "execute_result"
    }
   ],
   "source": [
    "# Combinar DataFrames basado en las columnas id y item_id\n",
    "df_UsersRecommend = pd.merge(user_reviews, steam_games, left_on='item_id', right_on='id', how='inner')\n",
    "df_UsersRecommend.head()"
   ]
  },
  {
   "cell_type": "markdown",
   "metadata": {},
   "source": [
    "Seleccionamos las columnas que van a ser necesarias "
   ]
  },
  {
   "cell_type": "code",
   "execution_count": 12,
   "metadata": {},
   "outputs": [
    {
     "data": {
      "text/html": [
       "<div>\n",
       "<style scoped>\n",
       "    .dataframe tbody tr th:only-of-type {\n",
       "        vertical-align: middle;\n",
       "    }\n",
       "\n",
       "    .dataframe tbody tr th {\n",
       "        vertical-align: top;\n",
       "    }\n",
       "\n",
       "    .dataframe thead th {\n",
       "        text-align: right;\n",
       "    }\n",
       "</style>\n",
       "<table border=\"1\" class=\"dataframe\">\n",
       "  <thead>\n",
       "    <tr style=\"text-align: right;\">\n",
       "      <th></th>\n",
       "      <th>app_name</th>\n",
       "      <th>posted_year</th>\n",
       "      <th>recommend</th>\n",
       "      <th>sentiment_analysis</th>\n",
       "    </tr>\n",
       "  </thead>\n",
       "  <tbody>\n",
       "    <tr>\n",
       "      <th>0</th>\n",
       "      <td>Killing Floor</td>\n",
       "      <td>2011.0</td>\n",
       "      <td>True</td>\n",
       "      <td>2</td>\n",
       "    </tr>\n",
       "    <tr>\n",
       "      <th>1</th>\n",
       "      <td>Killing Floor</td>\n",
       "      <td>2015.0</td>\n",
       "      <td>True</td>\n",
       "      <td>2</td>\n",
       "    </tr>\n",
       "    <tr>\n",
       "      <th>2</th>\n",
       "      <td>Killing Floor</td>\n",
       "      <td>2013.0</td>\n",
       "      <td>True</td>\n",
       "      <td>0</td>\n",
       "    </tr>\n",
       "    <tr>\n",
       "      <th>3</th>\n",
       "      <td>Killing Floor</td>\n",
       "      <td>2015.0</td>\n",
       "      <td>True</td>\n",
       "      <td>1</td>\n",
       "    </tr>\n",
       "    <tr>\n",
       "      <th>4</th>\n",
       "      <td>Killing Floor</td>\n",
       "      <td>2014.0</td>\n",
       "      <td>True</td>\n",
       "      <td>1</td>\n",
       "    </tr>\n",
       "  </tbody>\n",
       "</table>\n",
       "</div>"
      ],
      "text/plain": [
       "        app_name  posted_year  recommend  sentiment_analysis\n",
       "0  Killing Floor       2011.0       True                   2\n",
       "1  Killing Floor       2015.0       True                   2\n",
       "2  Killing Floor       2013.0       True                   0\n",
       "3  Killing Floor       2015.0       True                   1\n",
       "4  Killing Floor       2014.0       True                   1"
      ]
     },
     "execution_count": 12,
     "metadata": {},
     "output_type": "execute_result"
    }
   ],
   "source": [
    "# Seleccionar las columnas necesarias\n",
    "selected_columns = ['app_name', 'posted_year', 'recommend', 'sentiment_analysis']\n",
    "df_UsersRecommend = df_UsersRecommend[selected_columns]\n",
    "df_UsersRecommend.head()"
   ]
  },
  {
   "cell_type": "markdown",
   "metadata": {},
   "source": [
    "Filtrar los comentarios positivos y neutrales"
   ]
  },
  {
   "cell_type": "code",
   "execution_count": 13,
   "metadata": {},
   "outputs": [
    {
     "data": {
      "text/html": [
       "<div>\n",
       "<style scoped>\n",
       "    .dataframe tbody tr th:only-of-type {\n",
       "        vertical-align: middle;\n",
       "    }\n",
       "\n",
       "    .dataframe tbody tr th {\n",
       "        vertical-align: top;\n",
       "    }\n",
       "\n",
       "    .dataframe thead th {\n",
       "        text-align: right;\n",
       "    }\n",
       "</style>\n",
       "<table border=\"1\" class=\"dataframe\">\n",
       "  <thead>\n",
       "    <tr style=\"text-align: right;\">\n",
       "      <th></th>\n",
       "      <th>app_name</th>\n",
       "      <th>posted_year</th>\n",
       "      <th>recommend</th>\n",
       "      <th>sentiment_analysis</th>\n",
       "    </tr>\n",
       "  </thead>\n",
       "  <tbody>\n",
       "    <tr>\n",
       "      <th>0</th>\n",
       "      <td>Killing Floor</td>\n",
       "      <td>2011.0</td>\n",
       "      <td>True</td>\n",
       "      <td>2</td>\n",
       "    </tr>\n",
       "    <tr>\n",
       "      <th>1</th>\n",
       "      <td>Killing Floor</td>\n",
       "      <td>2015.0</td>\n",
       "      <td>True</td>\n",
       "      <td>2</td>\n",
       "    </tr>\n",
       "    <tr>\n",
       "      <th>3</th>\n",
       "      <td>Killing Floor</td>\n",
       "      <td>2015.0</td>\n",
       "      <td>True</td>\n",
       "      <td>1</td>\n",
       "    </tr>\n",
       "    <tr>\n",
       "      <th>4</th>\n",
       "      <td>Killing Floor</td>\n",
       "      <td>2014.0</td>\n",
       "      <td>True</td>\n",
       "      <td>1</td>\n",
       "    </tr>\n",
       "    <tr>\n",
       "      <th>5</th>\n",
       "      <td>Killing Floor</td>\n",
       "      <td>2010.0</td>\n",
       "      <td>True</td>\n",
       "      <td>2</td>\n",
       "    </tr>\n",
       "  </tbody>\n",
       "</table>\n",
       "</div>"
      ],
      "text/plain": [
       "        app_name  posted_year  recommend  sentiment_analysis\n",
       "0  Killing Floor       2011.0       True                   2\n",
       "1  Killing Floor       2015.0       True                   2\n",
       "3  Killing Floor       2015.0       True                   1\n",
       "4  Killing Floor       2014.0       True                   1\n",
       "5  Killing Floor       2010.0       True                   2"
      ]
     },
     "execution_count": 13,
     "metadata": {},
     "output_type": "execute_result"
    }
   ],
   "source": [
    "#Filtramos los comentarios positivos y neutrales\n",
    "df_UsersRecommend =df_UsersRecommend[df_UsersRecommend['sentiment_analysis']!=0]\n",
    "df_UsersRecommend.head()"
   ]
  },
  {
   "cell_type": "markdown",
   "metadata": {},
   "source": [
    "Agrupar por el nombre del juego y la fecha de la recomendación"
   ]
  },
  {
   "cell_type": "code",
   "execution_count": 14,
   "metadata": {},
   "outputs": [
    {
     "data": {
      "text/html": [
       "<div>\n",
       "<style scoped>\n",
       "    .dataframe tbody tr th:only-of-type {\n",
       "        vertical-align: middle;\n",
       "    }\n",
       "\n",
       "    .dataframe tbody tr th {\n",
       "        vertical-align: top;\n",
       "    }\n",
       "\n",
       "    .dataframe thead th {\n",
       "        text-align: right;\n",
       "    }\n",
       "</style>\n",
       "<table border=\"1\" class=\"dataframe\">\n",
       "  <thead>\n",
       "    <tr style=\"text-align: right;\">\n",
       "      <th></th>\n",
       "      <th>app_name</th>\n",
       "      <th>posted_year</th>\n",
       "      <th>recommend</th>\n",
       "    </tr>\n",
       "  </thead>\n",
       "  <tbody>\n",
       "    <tr>\n",
       "      <th>3232</th>\n",
       "      <td>Team Fortress 2</td>\n",
       "      <td>2014.0</td>\n",
       "      <td>1416</td>\n",
       "    </tr>\n",
       "    <tr>\n",
       "      <th>703</th>\n",
       "      <td>Counter-Strike: Global Offensive</td>\n",
       "      <td>2015.0</td>\n",
       "      <td>1317</td>\n",
       "    </tr>\n",
       "    <tr>\n",
       "      <th>702</th>\n",
       "      <td>Counter-Strike: Global Offensive</td>\n",
       "      <td>2014.0</td>\n",
       "      <td>949</td>\n",
       "    </tr>\n",
       "    <tr>\n",
       "      <th>3231</th>\n",
       "      <td>Team Fortress 2</td>\n",
       "      <td>2013.0</td>\n",
       "      <td>749</td>\n",
       "    </tr>\n",
       "    <tr>\n",
       "      <th>1396</th>\n",
       "      <td>Garry's Mod</td>\n",
       "      <td>2014.0</td>\n",
       "      <td>684</td>\n",
       "    </tr>\n",
       "  </tbody>\n",
       "</table>\n",
       "</div>"
      ],
      "text/plain": [
       "                              app_name  posted_year  recommend\n",
       "3232                   Team Fortress 2       2014.0       1416\n",
       "703   Counter-Strike: Global Offensive       2015.0       1317\n",
       "702   Counter-Strike: Global Offensive       2014.0        949\n",
       "3231                   Team Fortress 2       2013.0        749\n",
       "1396                       Garry's Mod       2014.0        684"
      ]
     },
     "execution_count": 14,
     "metadata": {},
     "output_type": "execute_result"
    }
   ],
   "source": [
    "#Agrupamos por app_name , posted_year y sumamos la cantidad de recomendaciones\n",
    "df_UsersRecommend = df_UsersRecommend.groupby(['app_name', 'posted_year']).agg({'recommend': 'sum'}).reset_index()\n",
    "df_UsersRecommend = df_UsersRecommend.sort_values('recommend',ascending=False)\n",
    "df_UsersRecommend.head()"
   ]
  },
  {
   "cell_type": "markdown",
   "metadata": {},
   "source": [
    "### Convertir el DataFrame a CSV"
   ]
  },
  {
   "cell_type": "code",
   "execution_count": 15,
   "metadata": {},
   "outputs": [],
   "source": [
    "df_UsersRecommend.to_csv('..\\\\Datsets\\\\Archivos_API\\\\UsersRecommend.csv', index=False)\n"
   ]
  },
  {
   "cell_type": "markdown",
   "metadata": {},
   "source": [
    "## Función UserRecommend"
   ]
  },
  {
   "cell_type": "code",
   "execution_count": 20,
   "metadata": {},
   "outputs": [],
   "source": [
    "def UsersRecommend(anio):\n",
    "    \"\"\"\n",
    "    Devuelve el top 3 de juegos MÁS recomendados por usuarios para el año dado.\n",
    "    \n",
    "    Args:\n",
    "    - anio (int): El año para el cual se desean obtener las recomendaciones.\n",
    "\n",
    "    Returns:\n",
    "    - dict: Un diccionario que contiene el top 3 de juegos recomendados en el formato:\n",
    "        {\"Puesto 1\": \"Nombre del Juego1\", \"Puesto 2\": \"Nombre del Juego2\", \"Puesto 3\": \"Nombre del Juego3\"}\n",
    "        En caso de no haber recomendaciones para el año especificado, devuelve un mensaje indicando esto.\n",
    "    \"\"\"\n",
    "\n",
    "    # Filtrar las recomendaciones para el año dado y recomendaciones positivas/neutrales\n",
    "    recomendaciones = df_UsersRecommend[df_UsersRecommend['posted_year'] == anio]\n",
    "\n",
    "    # Verificar si hay revisiones para el año dado\n",
    "    if recomendaciones.empty:\n",
    "        return f\"No hay recomendaciones para el año {anio}\"\n",
    "\n",
    "    # Ordenar en orden descendente por la cantidad de recomendaciones\n",
    "    recomendaciones = recomendaciones.sort_values('recommend', ascending=False)\n",
    "\n",
    "    # Crear una única línea de resultado\n",
    "    resultado = {\n",
    "        \"Puesto 1\": recomendaciones.iloc[0]['app_name'],\n",
    "        \"Puesto 2\": recomendaciones.iloc[1]['app_name'],\n",
    "        \"Puesto 3\": recomendaciones.iloc[2]['app_name']\n",
    "    }\n",
    "\n",
    "    return resultado\n"
   ]
  },
  {
   "cell_type": "code",
   "execution_count": 21,
   "metadata": {},
   "outputs": [
    {
     "data": {
      "text/plain": [
       "{'Puesto 1': 'Team Fortress 2', 'Puesto 2': 'Portal 2', 'Puesto 3': 'Terraria'}"
      ]
     },
     "execution_count": 21,
     "metadata": {},
     "output_type": "execute_result"
    }
   ],
   "source": [
    "UsersRecommend(2011)"
   ]
  }
 ],
 "metadata": {
  "kernelspec": {
   "display_name": "Python 3",
   "language": "python",
   "name": "python3"
  },
  "language_info": {
   "codemirror_mode": {
    "name": "ipython",
    "version": 3
   },
   "file_extension": ".py",
   "mimetype": "text/x-python",
   "name": "python",
   "nbconvert_exporter": "python",
   "pygments_lexer": "ipython3",
   "version": "3.11.6"
  }
 },
 "nbformat": 4,
 "nbformat_minor": 2
}
