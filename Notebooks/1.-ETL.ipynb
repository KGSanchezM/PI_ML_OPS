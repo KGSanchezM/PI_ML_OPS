{
 "cells": [
  {
   "cell_type": "markdown",
   "metadata": {},
   "source": [
    "\n",
    "# Extracción, Transformación y Carga (ETL)\n",
    "\n",
    "El propósito de este notebook es extraer información de los archivos JSON, llevar a cabo procesos de limpieza y finalmente cargar los datos en formato CSV. Esto permitirá realizar, en etapas posteriores, el análisis exploratorio de datos, implementar funciones para los endpoints, y desarrollar modelos de machine learning.\n",
    "\n",
    "## Pasos del Proceso ETL\n",
    "\n",
    "1. **Extracción de Datos:** Obtendremos la información necesaria desde los archivos JSON, identificando las fuentes y recopilando los datos relevantes.\n",
    "\n",
    "2. **Transformación de Datos:** Realizaremos operaciones de limpieza y transformación para garantizar la coherencia y calidad de los datos. Esto puede incluir la corrección de valores nulos, la normalización de formatos y la eliminación de duplicados.\n",
    "\n",
    "3. **Carga de Datos:** Una vez que los datos estén preparados, los cargaremos en un formato estructurado, como CSV, que facilitará su análisis y utilización en las siguientes etapas del proyecto.\n",
    "\n"
   ]
  },
  {
   "cell_type": "markdown",
   "metadata": {},
   "source": [
    "### Importación de Librerías\n",
    "\n",
    "En esta sección, importaremos todas las bibliotecas necesarias en este notebook."
   ]
  },
  {
   "cell_type": "code",
   "execution_count": 1,
   "metadata": {},
   "outputs": [],
   "source": [
    "import pandas as pd \n",
    "import ast"
   ]
  },
  {
   "cell_type": "markdown",
   "metadata": {},
   "source": [
    "### Funciones\n",
    "\n",
    "Creación de las funciones que empleé para leer archivos JSON y desanidar las columnas en los conjuntos de datos `australian_user_review` y `australian_user_items`. Cabe mencionar que el archivo `output_steam_games` no presentaba columnas anidadas.\n",
    "\n",
    "- **Función `cargar_json`**\n",
    "\n",
    "  Esta función carga un archivo JSON y devuelve un DataFrame de pandas. Utiliza la función `open` para abrir el archivo en modo lectura con la codificación \"MacRoman\". Luego, itera sobre cada línea en el archivo, evalúa la línea como una expresión de Python usando `ast.literal_eval` y agrega las filas resultantes a una lista. Finalmente, crea y devuelve un DataFrame a partir de esa lista.\n",
    "\n",
    "- **Función `expandir_columna_anidada`**\n",
    "\n",
    "  La función `expandir_columna_anidada` toma un DataFrame de entrada y el nombre de una columna anidada. Su propósito es crear un nuevo DataFrame donde la columna anidada se ha expandido en filas individuales, combinando los datos de la columna anidada con los datos base de cada fila original."
   ]
  },
  {
   "cell_type": "code",
   "execution_count": 2,
   "metadata": {},
   "outputs": [],
   "source": [
    "def cargar_json(ruta_archivo):\n",
    "    \"\"\"\n",
    "    Carga un archivo JSON y devuelve un DataFrame.\n",
    "\n",
    "    Parameters:\n",
    "        ruta_archivo (str): La ruta al archivo JSON.\n",
    "\n",
    "    Returns:\n",
    "        pd.DataFrame: El DataFrame cargado desde el archivo JSON.\n",
    "    \"\"\"\n",
    "    filas = []\n",
    "\n",
    "    # Abrir el archivo en modo lectura con la codificación \"MacRoman\"\n",
    "    with open(ruta_archivo, encoding=\"MacRoman\") as archivo:\n",
    "        # Iterar sobre cada línea en el archivo\n",
    "        for linea in archivo.readlines():\n",
    "            # Evaluar la línea como una expresión de Python y agregarla a la lista\n",
    "            filas.append(ast.literal_eval(linea))\n",
    "\n",
    "    # Crear y devolver un DataFrame a partir de la lista de filas\n",
    "    return pd.DataFrame(filas)\n",
    "\n",
    "\n",
    "def expandir_columna_anidada(df_entrada, columna_anidada):\n",
    "    \"\"\"\n",
    "    Expande una columna anidada en un DataFrame.\n",
    "\n",
    "    Parameters:\n",
    "    - df_entrada (pd.DataFrame): DataFrame de entrada con la columna anidada.\n",
    "    - columna_anidada (str): Nombre de la columna anidada que se va a expandir.\n",
    "\n",
    "    Returns:\n",
    "    pd.DataFrame: Nuevo DataFrame con la columna anidada expandida.\n",
    "    \"\"\"\n",
    "    # Inicializar una lista vacía para almacenar los registros expandidos.\n",
    "    registros_expandidos = []\n",
    "\n",
    "    # Iterar sobre cada fila del DataFrame de entrada.\n",
    "    for indice, fila in df_entrada.iterrows():\n",
    "        # Extraer los datos base de la fila eliminando la columna anidada y convirtiéndolos a un diccionario.\n",
    "        datos_base = fila.drop(columna_anidada).to_dict()\n",
    "        # Obtener la lista de datos anidados de la columna especificada.\n",
    "        datos_anidados_lista = fila[columna_anidada]\n",
    "\n",
    "        # Iterar sobre cada conjunto de datos anidados.\n",
    "        for datos_anidados in datos_anidados_lista:\n",
    "            # Crear un nuevo registro combinando los datos base y los datos anidados.\n",
    "            nuevo_registro = {**datos_base, **datos_anidados}\n",
    "            # Agregar el nuevo registro a la lista de registros_expandidos.\n",
    "            registros_expandidos.append(nuevo_registro)\n",
    "\n",
    "    # Crear un nuevo DataFrame a partir de la lista de registros_expandidos y devolverlo.\n",
    "    df_expandido = pd.DataFrame(registros_expandidos)\n",
    "    return df_expandido\n",
    "\n",
    "\n"
   ]
  },
  {
   "cell_type": "markdown",
   "metadata": {},
   "source": [
    "## ETL del archivo `australian_user_reviews`\n",
    "\n",
    "El objetivo de esta sección es realizar el proceso ETL específico para el archivo `australian_user_reviews`. Este conjunto de datos, que contiene las reseñas de usuarios a los juegos de la plataforma STEAM.\n"
   ]
  },
  {
   "cell_type": "markdown",
   "metadata": {},
   "source": [
    "### Lectura del Archivo\n",
    "\n",
    "Utilizamos las funciones `cargar_json` y `expandir_columna_anidada` para leer el archivo y procesar las columnas anidadas.\n"
   ]
  },
  {
   "cell_type": "code",
   "execution_count": 3,
   "metadata": {},
   "outputs": [],
   "source": [
    "# Ruta del archivo JSON\n",
    "ruta_json = \"..\\\\Datsets\\\\australian_user_reviews.json\"\n",
    "\n",
    "# Cargar el archivo JSON en un DataFrame\n",
    "user_reviews = cargar_json(ruta_json)\n",
    "\n",
    "# Expandir los diccionarios en varias filas\n",
    "user_reviews= expandir_columna_anidada(user_reviews, 'reviews')\n"
   ]
  },
  {
   "cell_type": "code",
   "execution_count": 4,
   "metadata": {},
   "outputs": [
    {
     "data": {
      "text/html": [
       "<div>\n",
       "<style scoped>\n",
       "    .dataframe tbody tr th:only-of-type {\n",
       "        vertical-align: middle;\n",
       "    }\n",
       "\n",
       "    .dataframe tbody tr th {\n",
       "        vertical-align: top;\n",
       "    }\n",
       "\n",
       "    .dataframe thead th {\n",
       "        text-align: right;\n",
       "    }\n",
       "</style>\n",
       "<table border=\"1\" class=\"dataframe\">\n",
       "  <thead>\n",
       "    <tr style=\"text-align: right;\">\n",
       "      <th></th>\n",
       "      <th>user_id</th>\n",
       "      <th>user_url</th>\n",
       "      <th>funny</th>\n",
       "      <th>posted</th>\n",
       "      <th>last_edited</th>\n",
       "      <th>item_id</th>\n",
       "      <th>helpful</th>\n",
       "      <th>recommend</th>\n",
       "      <th>review</th>\n",
       "    </tr>\n",
       "  </thead>\n",
       "  <tbody>\n",
       "    <tr>\n",
       "      <th>0</th>\n",
       "      <td>76561197970982479</td>\n",
       "      <td>http://steamcommunity.com/profiles/76561197970...</td>\n",
       "      <td></td>\n",
       "      <td>Posted November 5, 2011.</td>\n",
       "      <td></td>\n",
       "      <td>1250</td>\n",
       "      <td>No ratings yet</td>\n",
       "      <td>True</td>\n",
       "      <td>Simple yet with great replayability. In my opi...</td>\n",
       "    </tr>\n",
       "    <tr>\n",
       "      <th>1</th>\n",
       "      <td>76561197970982479</td>\n",
       "      <td>http://steamcommunity.com/profiles/76561197970...</td>\n",
       "      <td></td>\n",
       "      <td>Posted July 15, 2011.</td>\n",
       "      <td></td>\n",
       "      <td>22200</td>\n",
       "      <td>No ratings yet</td>\n",
       "      <td>True</td>\n",
       "      <td>It's unique and worth a playthrough.</td>\n",
       "    </tr>\n",
       "    <tr>\n",
       "      <th>2</th>\n",
       "      <td>76561197970982479</td>\n",
       "      <td>http://steamcommunity.com/profiles/76561197970...</td>\n",
       "      <td></td>\n",
       "      <td>Posted April 21, 2011.</td>\n",
       "      <td></td>\n",
       "      <td>43110</td>\n",
       "      <td>No ratings yet</td>\n",
       "      <td>True</td>\n",
       "      <td>Great atmosphere. The gunplay can be a bit chu...</td>\n",
       "    </tr>\n",
       "    <tr>\n",
       "      <th>3</th>\n",
       "      <td>js41637</td>\n",
       "      <td>http://steamcommunity.com/id/js41637</td>\n",
       "      <td></td>\n",
       "      <td>Posted June 24, 2014.</td>\n",
       "      <td></td>\n",
       "      <td>251610</td>\n",
       "      <td>15 of 20 people (75%) found this review helpful</td>\n",
       "      <td>True</td>\n",
       "      <td>I know what you think when you see this title ...</td>\n",
       "    </tr>\n",
       "    <tr>\n",
       "      <th>4</th>\n",
       "      <td>js41637</td>\n",
       "      <td>http://steamcommunity.com/id/js41637</td>\n",
       "      <td></td>\n",
       "      <td>Posted September 8, 2013.</td>\n",
       "      <td></td>\n",
       "      <td>227300</td>\n",
       "      <td>0 of 1 people (0%) found this review helpful</td>\n",
       "      <td>True</td>\n",
       "      <td>For a simple (it's actually not all that simpl...</td>\n",
       "    </tr>\n",
       "  </tbody>\n",
       "</table>\n",
       "</div>"
      ],
      "text/plain": [
       "             user_id                                           user_url funny  \\\n",
       "0  76561197970982479  http://steamcommunity.com/profiles/76561197970...         \n",
       "1  76561197970982479  http://steamcommunity.com/profiles/76561197970...         \n",
       "2  76561197970982479  http://steamcommunity.com/profiles/76561197970...         \n",
       "3            js41637               http://steamcommunity.com/id/js41637         \n",
       "4            js41637               http://steamcommunity.com/id/js41637         \n",
       "\n",
       "                      posted last_edited item_id  \\\n",
       "0   Posted November 5, 2011.                1250   \n",
       "1      Posted July 15, 2011.               22200   \n",
       "2     Posted April 21, 2011.               43110   \n",
       "3      Posted June 24, 2014.              251610   \n",
       "4  Posted September 8, 2013.              227300   \n",
       "\n",
       "                                           helpful  recommend  \\\n",
       "0                                   No ratings yet       True   \n",
       "1                                   No ratings yet       True   \n",
       "2                                   No ratings yet       True   \n",
       "3  15 of 20 people (75%) found this review helpful       True   \n",
       "4     0 of 1 people (0%) found this review helpful       True   \n",
       "\n",
       "                                              review  \n",
       "0  Simple yet with great replayability. In my opi...  \n",
       "1               It's unique and worth a playthrough.  \n",
       "2  Great atmosphere. The gunplay can be a bit chu...  \n",
       "3  I know what you think when you see this title ...  \n",
       "4  For a simple (it's actually not all that simpl...  "
      ]
     },
     "execution_count": 4,
     "metadata": {},
     "output_type": "execute_result"
    }
   ],
   "source": [
    "user_reviews.head()"
   ]
  },
  {
   "cell_type": "markdown",
   "metadata": {},
   "source": [
    "### Valores nulos\n",
    "\n",
    "El dataframe user_reviews no contiene valores nulos"
   ]
  },
  {
   "cell_type": "code",
   "execution_count": 5,
   "metadata": {},
   "outputs": [
    {
     "data": {
      "text/plain": [
       "user_id        0\n",
       "user_url       0\n",
       "funny          0\n",
       "posted         0\n",
       "last_edited    0\n",
       "item_id        0\n",
       "helpful        0\n",
       "recommend      0\n",
       "review         0\n",
       "dtype: int64"
      ]
     },
     "execution_count": 5,
     "metadata": {},
     "output_type": "execute_result"
    }
   ],
   "source": [
    "user_reviews.isnull().sum()"
   ]
  },
  {
   "cell_type": "markdown",
   "metadata": {},
   "source": [
    "### Duplicados\n",
    "Eliminamos los valores duplicados."
   ]
  },
  {
   "cell_type": "code",
   "execution_count": 6,
   "metadata": {},
   "outputs": [
    {
     "data": {
      "text/plain": [
       "(58431, 9)"
      ]
     },
     "execution_count": 6,
     "metadata": {},
     "output_type": "execute_result"
    }
   ],
   "source": [
    "user_reviews.drop_duplicates(inplace=True)\n",
    "user_reviews.shape"
   ]
  },
  {
   "cell_type": "markdown",
   "metadata": {},
   "source": [
    "### Eliminación de Columnas\n",
    "\n",
    "Eliminaré las columnas \"user_url\" y \"helpful\", ya que no son relevantes para el proyecto. Además, la columna \"funny\" y la columna \"last_edited\" contienen muchos datos en blanco, por lo que también serán eliminadas."
   ]
  },
  {
   "cell_type": "code",
   "execution_count": 7,
   "metadata": {},
   "outputs": [],
   "source": [
    "#Eliminamos la columna user_reviews y la columna helpful\n",
    "user_reviews = user_reviews.drop('user_url', axis=1)\n",
    "user_reviews = user_reviews.drop('helpful', axis=1)\n"
   ]
  },
  {
   "cell_type": "markdown",
   "metadata": {},
   "source": [
    "Identificación de la cantidad de caracteres en blanco"
   ]
  },
  {
   "cell_type": "code",
   "execution_count": 8,
   "metadata": {},
   "outputs": [
    {
     "name": "stdout",
     "output_type": "stream",
     "text": [
      "Número de filas que contienen caracteres en blanco en la columna 'funny': 50421\n",
      "Número de filas que contienen caracteres en blanco en la columna 'last_edited': 52394\n"
     ]
    }
   ],
   "source": [
    "# Identificar y contar las filas que contienen solo espacios o caracteres en blanco en la columna 'funny'\n",
    "filas_espacios_funny = user_reviews[user_reviews['funny'].apply(lambda x: x.isspace() or not x)].index\n",
    "\n",
    "# Imprimir el resultado\n",
    "print(\"Número de filas que contienen caracteres en blanco en la columna 'funny':\", len(filas_espacios_funny))\n",
    "\n",
    "# Identificar y contar las filas que contienen solo espacios o caracteres en blanco en la columna 'last_edited'\n",
    "filas_espacios_last = user_reviews[user_reviews['last_edited'].apply(lambda x: x.isspace() or not x)].index\n",
    "\n",
    "# Imprimir el resultado\n",
    "print(\"Número de filas que contienen caracteres en blanco en la columna 'last_edited':\", len(filas_espacios_last))"
   ]
  },
  {
   "cell_type": "code",
   "execution_count": 9,
   "metadata": {},
   "outputs": [],
   "source": [
    "#Eliminamos la columa funny\n",
    "user_reviews = user_reviews.drop('funny', axis=1)\n",
    "#Eliminamos la columa last_edited\n",
    "user_reviews = user_reviews.drop('last_edited', axis=1)\n"
   ]
  },
  {
   "cell_type": "markdown",
   "metadata": {},
   "source": [
    "### Transformación de la columna \"Posted\" a formato de fecha "
   ]
  },
  {
   "cell_type": "markdown",
   "metadata": {},
   "source": [
    "La columna \"Posted\" hace referencia a la fecha en que se realizó la reseña. Contiene la palabra \"Posted\" seguida de la fecha. Para mejorar la estructura, procederemos a eliminar la palabra \"Posted\" y convertiremos el resto a formato de fecha. También extraeremos el año y crearemos la columna \"posted_year\". Posteriormente, eliminaremos la columna original \"posted\"."
   ]
  },
  {
   "cell_type": "code",
   "execution_count": 10,
   "metadata": {},
   "outputs": [],
   "source": [
    "#Quitamos la palabra Posted \n",
    "user_reviews['posted'] = user_reviews['posted'].str.replace('Posted ', '')\n",
    "#Convertimos a fecha\n",
    "user_reviews['posted'] = pd.to_datetime(user_reviews['posted'], errors='coerce')\n",
    "#Extraemos el año y creamos otra columna llamada posted_year\n",
    "user_reviews['posted_year'] = user_reviews['posted'].dt.year\n",
    "#Borramos la columna posted\n",
    "user_reviews=user_reviews.drop('posted',axis=1)"
   ]
  },
  {
   "cell_type": "markdown",
   "metadata": {},
   "source": [
    "## ETL del archivo australian_users_items\n",
    "\n",
    "El objetivo de esta sección es realizar el proceso ETL específico para el archivo `australian_users_items`. Este conjunto de datos, contiene la información sobre los juegos que tienen los usuarios de STEAM."
   ]
  },
  {
   "cell_type": "code",
   "execution_count": 11,
   "metadata": {},
   "outputs": [],
   "source": [
    "# Ruta del archivo JSON\n",
    "ruta_json = \"..\\\\Datsets\\\\australian_users_items.json\"\n",
    "\n",
    "# Cargar el archivo JSON en un DataFrame\n",
    "user_items = cargar_json(ruta_json)\n",
    "\n",
    "# Expandir los diccionarios en varias filas\n",
    "user_items = expandir_columna_anidada(user_items, \"items\")"
   ]
  },
  {
   "cell_type": "code",
   "execution_count": 12,
   "metadata": {},
   "outputs": [
    {
     "data": {
      "text/html": [
       "<div>\n",
       "<style scoped>\n",
       "    .dataframe tbody tr th:only-of-type {\n",
       "        vertical-align: middle;\n",
       "    }\n",
       "\n",
       "    .dataframe tbody tr th {\n",
       "        vertical-align: top;\n",
       "    }\n",
       "\n",
       "    .dataframe thead th {\n",
       "        text-align: right;\n",
       "    }\n",
       "</style>\n",
       "<table border=\"1\" class=\"dataframe\">\n",
       "  <thead>\n",
       "    <tr style=\"text-align: right;\">\n",
       "      <th></th>\n",
       "      <th>user_id</th>\n",
       "      <th>items_count</th>\n",
       "      <th>steam_id</th>\n",
       "      <th>user_url</th>\n",
       "      <th>item_id</th>\n",
       "      <th>item_name</th>\n",
       "      <th>playtime_forever</th>\n",
       "      <th>playtime_2weeks</th>\n",
       "    </tr>\n",
       "  </thead>\n",
       "  <tbody>\n",
       "    <tr>\n",
       "      <th>0</th>\n",
       "      <td>76561197970982479</td>\n",
       "      <td>277</td>\n",
       "      <td>76561197970982479</td>\n",
       "      <td>http://steamcommunity.com/profiles/76561197970...</td>\n",
       "      <td>10</td>\n",
       "      <td>Counter-Strike</td>\n",
       "      <td>6</td>\n",
       "      <td>0</td>\n",
       "    </tr>\n",
       "    <tr>\n",
       "      <th>1</th>\n",
       "      <td>76561197970982479</td>\n",
       "      <td>277</td>\n",
       "      <td>76561197970982479</td>\n",
       "      <td>http://steamcommunity.com/profiles/76561197970...</td>\n",
       "      <td>20</td>\n",
       "      <td>Team Fortress Classic</td>\n",
       "      <td>0</td>\n",
       "      <td>0</td>\n",
       "    </tr>\n",
       "    <tr>\n",
       "      <th>2</th>\n",
       "      <td>76561197970982479</td>\n",
       "      <td>277</td>\n",
       "      <td>76561197970982479</td>\n",
       "      <td>http://steamcommunity.com/profiles/76561197970...</td>\n",
       "      <td>30</td>\n",
       "      <td>Day of Defeat</td>\n",
       "      <td>7</td>\n",
       "      <td>0</td>\n",
       "    </tr>\n",
       "    <tr>\n",
       "      <th>3</th>\n",
       "      <td>76561197970982479</td>\n",
       "      <td>277</td>\n",
       "      <td>76561197970982479</td>\n",
       "      <td>http://steamcommunity.com/profiles/76561197970...</td>\n",
       "      <td>40</td>\n",
       "      <td>Deathmatch Classic</td>\n",
       "      <td>0</td>\n",
       "      <td>0</td>\n",
       "    </tr>\n",
       "    <tr>\n",
       "      <th>4</th>\n",
       "      <td>76561197970982479</td>\n",
       "      <td>277</td>\n",
       "      <td>76561197970982479</td>\n",
       "      <td>http://steamcommunity.com/profiles/76561197970...</td>\n",
       "      <td>50</td>\n",
       "      <td>Half-Life: Opposing Force</td>\n",
       "      <td>0</td>\n",
       "      <td>0</td>\n",
       "    </tr>\n",
       "  </tbody>\n",
       "</table>\n",
       "</div>"
      ],
      "text/plain": [
       "             user_id  items_count           steam_id  \\\n",
       "0  76561197970982479          277  76561197970982479   \n",
       "1  76561197970982479          277  76561197970982479   \n",
       "2  76561197970982479          277  76561197970982479   \n",
       "3  76561197970982479          277  76561197970982479   \n",
       "4  76561197970982479          277  76561197970982479   \n",
       "\n",
       "                                            user_url item_id  \\\n",
       "0  http://steamcommunity.com/profiles/76561197970...      10   \n",
       "1  http://steamcommunity.com/profiles/76561197970...      20   \n",
       "2  http://steamcommunity.com/profiles/76561197970...      30   \n",
       "3  http://steamcommunity.com/profiles/76561197970...      40   \n",
       "4  http://steamcommunity.com/profiles/76561197970...      50   \n",
       "\n",
       "                   item_name  playtime_forever  playtime_2weeks  \n",
       "0             Counter-Strike                 6                0  \n",
       "1      Team Fortress Classic                 0                0  \n",
       "2              Day of Defeat                 7                0  \n",
       "3         Deathmatch Classic                 0                0  \n",
       "4  Half-Life: Opposing Force                 0                0  "
      ]
     },
     "execution_count": 12,
     "metadata": {},
     "output_type": "execute_result"
    }
   ],
   "source": [
    "user_items.head()"
   ]
  },
  {
   "cell_type": "markdown",
   "metadata": {},
   "source": [
    "### Valores nulos\n",
    "\n",
    "El dataframe user_items no contiene valores nulos"
   ]
  },
  {
   "cell_type": "code",
   "execution_count": 13,
   "metadata": {},
   "outputs": [
    {
     "data": {
      "text/plain": [
       "user_id             0\n",
       "items_count         0\n",
       "steam_id            0\n",
       "user_url            0\n",
       "item_id             0\n",
       "item_name           0\n",
       "playtime_forever    0\n",
       "playtime_2weeks     0\n",
       "dtype: int64"
      ]
     },
     "execution_count": 13,
     "metadata": {},
     "output_type": "execute_result"
    }
   ],
   "source": [
    "user_items.isnull().sum()"
   ]
  },
  {
   "cell_type": "markdown",
   "metadata": {},
   "source": [
    "### Duplicados\n",
    "Eliminamos los valores duplicados."
   ]
  },
  {
   "cell_type": "code",
   "execution_count": 14,
   "metadata": {},
   "outputs": [
    {
     "data": {
      "text/plain": [
       "(5094105, 8)"
      ]
     },
     "execution_count": 14,
     "metadata": {},
     "output_type": "execute_result"
    }
   ],
   "source": [
    "user_items.drop_duplicates(inplace=True)\n",
    "user_items.shape"
   ]
  },
  {
   "cell_type": "markdown",
   "metadata": {},
   "source": [
    "### Eliminación de Columnas\n",
    "\n",
    "Eliminaré la columna \"user_url\" y 'playtime_2weeks', ya que no son relevantes para este proyecto. La columan steam_id tambien se va a borrar porque la informacion que proporciona es similar a la de user_id"
   ]
  },
  {
   "cell_type": "code",
   "execution_count": 15,
   "metadata": {},
   "outputs": [],
   "source": [
    "#Eliminamos la columa user_url\n",
    "user_items = user_items.drop('user_url', axis=1)\n",
    "user_items = user_items.drop('playtime_2weeks', axis=1)\n",
    "user_items = user_items.drop('steam_id', axis=1)"
   ]
  },
  {
   "cell_type": "markdown",
   "metadata": {},
   "source": [
    "## ETL del archivo output_steam_games\n",
    "\n",
    "El objetivo de esta sección es realizar el proceso ETL específico para el archivo `output_steam_game`. Este conjunto de datos, que contiene la información sobre los juegos"
   ]
  },
  {
   "cell_type": "code",
   "execution_count": 16,
   "metadata": {},
   "outputs": [],
   "source": [
    "# Ruta del archivo JSON\n",
    "ruta_json = \"..\\\\Datsets\\\\output_steam_games.json\"\n",
    "\n",
    "# Cargar el archivo JSON en un DataFrame\n",
    "steam_games=pd.read_json(ruta_json, lines=True)"
   ]
  },
  {
   "cell_type": "code",
   "execution_count": 17,
   "metadata": {},
   "outputs": [
    {
     "data": {
      "text/html": [
       "<div>\n",
       "<style scoped>\n",
       "    .dataframe tbody tr th:only-of-type {\n",
       "        vertical-align: middle;\n",
       "    }\n",
       "\n",
       "    .dataframe tbody tr th {\n",
       "        vertical-align: top;\n",
       "    }\n",
       "\n",
       "    .dataframe thead th {\n",
       "        text-align: right;\n",
       "    }\n",
       "</style>\n",
       "<table border=\"1\" class=\"dataframe\">\n",
       "  <thead>\n",
       "    <tr style=\"text-align: right;\">\n",
       "      <th></th>\n",
       "      <th>publisher</th>\n",
       "      <th>genres</th>\n",
       "      <th>app_name</th>\n",
       "      <th>title</th>\n",
       "      <th>url</th>\n",
       "      <th>release_date</th>\n",
       "      <th>tags</th>\n",
       "      <th>reviews_url</th>\n",
       "      <th>specs</th>\n",
       "      <th>price</th>\n",
       "      <th>early_access</th>\n",
       "      <th>id</th>\n",
       "      <th>developer</th>\n",
       "    </tr>\n",
       "  </thead>\n",
       "  <tbody>\n",
       "    <tr>\n",
       "      <th>0</th>\n",
       "      <td>None</td>\n",
       "      <td>None</td>\n",
       "      <td>None</td>\n",
       "      <td>None</td>\n",
       "      <td>None</td>\n",
       "      <td>None</td>\n",
       "      <td>None</td>\n",
       "      <td>None</td>\n",
       "      <td>None</td>\n",
       "      <td>None</td>\n",
       "      <td>NaN</td>\n",
       "      <td>NaN</td>\n",
       "      <td>None</td>\n",
       "    </tr>\n",
       "    <tr>\n",
       "      <th>1</th>\n",
       "      <td>None</td>\n",
       "      <td>None</td>\n",
       "      <td>None</td>\n",
       "      <td>None</td>\n",
       "      <td>None</td>\n",
       "      <td>None</td>\n",
       "      <td>None</td>\n",
       "      <td>None</td>\n",
       "      <td>None</td>\n",
       "      <td>None</td>\n",
       "      <td>NaN</td>\n",
       "      <td>NaN</td>\n",
       "      <td>None</td>\n",
       "    </tr>\n",
       "    <tr>\n",
       "      <th>2</th>\n",
       "      <td>None</td>\n",
       "      <td>None</td>\n",
       "      <td>None</td>\n",
       "      <td>None</td>\n",
       "      <td>None</td>\n",
       "      <td>None</td>\n",
       "      <td>None</td>\n",
       "      <td>None</td>\n",
       "      <td>None</td>\n",
       "      <td>None</td>\n",
       "      <td>NaN</td>\n",
       "      <td>NaN</td>\n",
       "      <td>None</td>\n",
       "    </tr>\n",
       "    <tr>\n",
       "      <th>3</th>\n",
       "      <td>None</td>\n",
       "      <td>None</td>\n",
       "      <td>None</td>\n",
       "      <td>None</td>\n",
       "      <td>None</td>\n",
       "      <td>None</td>\n",
       "      <td>None</td>\n",
       "      <td>None</td>\n",
       "      <td>None</td>\n",
       "      <td>None</td>\n",
       "      <td>NaN</td>\n",
       "      <td>NaN</td>\n",
       "      <td>None</td>\n",
       "    </tr>\n",
       "    <tr>\n",
       "      <th>4</th>\n",
       "      <td>None</td>\n",
       "      <td>None</td>\n",
       "      <td>None</td>\n",
       "      <td>None</td>\n",
       "      <td>None</td>\n",
       "      <td>None</td>\n",
       "      <td>None</td>\n",
       "      <td>None</td>\n",
       "      <td>None</td>\n",
       "      <td>None</td>\n",
       "      <td>NaN</td>\n",
       "      <td>NaN</td>\n",
       "      <td>None</td>\n",
       "    </tr>\n",
       "  </tbody>\n",
       "</table>\n",
       "</div>"
      ],
      "text/plain": [
       "  publisher genres app_name title   url release_date  tags reviews_url specs  \\\n",
       "0      None   None     None  None  None         None  None        None  None   \n",
       "1      None   None     None  None  None         None  None        None  None   \n",
       "2      None   None     None  None  None         None  None        None  None   \n",
       "3      None   None     None  None  None         None  None        None  None   \n",
       "4      None   None     None  None  None         None  None        None  None   \n",
       "\n",
       "  price  early_access  id developer  \n",
       "0  None           NaN NaN      None  \n",
       "1  None           NaN NaN      None  \n",
       "2  None           NaN NaN      None  \n",
       "3  None           NaN NaN      None  \n",
       "4  None           NaN NaN      None  "
      ]
     },
     "execution_count": 17,
     "metadata": {},
     "output_type": "execute_result"
    }
   ],
   "source": [
    "steam_games.head()"
   ]
  },
  {
   "cell_type": "markdown",
   "metadata": {},
   "source": [
    "### Valores nulos\n",
    "\n",
    "El DataFrame steam_games contiene muchos valores nulos."
   ]
  },
  {
   "cell_type": "code",
   "execution_count": 18,
   "metadata": {},
   "outputs": [
    {
     "data": {
      "text/plain": [
       "publisher       96362\n",
       "genres          91593\n",
       "app_name        88312\n",
       "title           90360\n",
       "url             88310\n",
       "release_date    90377\n",
       "tags            88473\n",
       "reviews_url     88312\n",
       "specs           88980\n",
       "price           89687\n",
       "early_access    88310\n",
       "id              88312\n",
       "developer       91609\n",
       "dtype: int64"
      ]
     },
     "execution_count": 18,
     "metadata": {},
     "output_type": "execute_result"
    }
   ],
   "source": [
    "steam_games.isnull().sum()"
   ]
  },
  {
   "cell_type": "markdown",
   "metadata": {},
   "source": [
    "Primero, vamos a eliminar todas las filas en las que todos sus valores sean nulos."
   ]
  },
  {
   "cell_type": "code",
   "execution_count": 19,
   "metadata": {},
   "outputs": [
    {
     "data": {
      "text/plain": [
       "publisher       8052\n",
       "genres          3283\n",
       "app_name           2\n",
       "title           2050\n",
       "url                0\n",
       "release_date    2067\n",
       "tags             163\n",
       "reviews_url        2\n",
       "specs            670\n",
       "price           1377\n",
       "early_access       0\n",
       "id                 2\n",
       "developer       3299\n",
       "dtype: int64"
      ]
     },
     "execution_count": 19,
     "metadata": {},
     "output_type": "execute_result"
    }
   ],
   "source": [
    "#Borramos las filas en las que todos sus valores sean nulos\n",
    "steam_games.dropna(how='all', inplace=True)\n",
    "#Contamos cuantos valores nulos hay por columna\n",
    "steam_games.isnull().sum()\n"
   ]
  },
  {
   "cell_type": "markdown",
   "metadata": {},
   "source": [
    "En el caso de los géneros, extraeré una lista de los géneros existentes. Posteriormente, completaré los géneros faltantes utilizando la información de la columna \"tag\". Sin embargo, se limitará la inclusión de géneros a aquellos que estén presentes en la lista original de géneros, ya que la columna \"tags\" contiene más categorías que la columna de géneros."
   ]
  },
  {
   "cell_type": "code",
   "execution_count": 20,
   "metadata": {},
   "outputs": [],
   "source": [
    "# Convertimos la columna 'genres' a tipo lista, conservando NaN\n",
    "steam_games['genres'] = steam_games['genres'].apply(lambda x: ast.literal_eval(x) if isinstance(x, str) else x)\n",
    "# Expandimos las listas en filas\n",
    "steam_games_genres = steam_games.explode('genres')\n",
    "# Obtener la lista de géneros únicos, incluyendo los valores nulos\n",
    "lista_generos = steam_games_genres['genres'].unique()\n",
    "steam_games['tags'] = steam_games['tags'].apply(lambda x: ast.literal_eval(x) if isinstance(x, str) else x)\n",
    "steam_games['genres'] = steam_games.apply(\n",
    "    lambda row: [tag for tag in row['tags'] if tag in lista_generos] if isinstance(row['tags'], list) else row['genres'],\n",
    "    axis=1\n",
    ")"
   ]
  },
  {
   "cell_type": "markdown",
   "metadata": {},
   "source": [
    "En el caso de la columna \"Developers\", seguiré una estrategia similar. Inicialmente, extraeré una lista de los desarrolladores únicos presentes en los datos. Luego, para aquellas filas donde la columna \"Developers\" está vacía pero el \"Publisher\" se encuentra en la lista de desarrolladores, asumiremos que la compañía que publicó el juego es la misma que lo desarrolló."
   ]
  },
  {
   "cell_type": "code",
   "execution_count": 21,
   "metadata": {},
   "outputs": [],
   "source": [
    "#Lista de desarolladoras\n",
    "lista_desarroladores =steam_games['developer'].unique()\n",
    "\n",
    "\n",
    "for index, row in steam_games.iterrows():\n",
    "    # Verificar si el valor en 'developer' está vacío y si 'publisher' está en la lista de desarrolladores\n",
    "    if pd.isnull(row['developer']) and row['publisher'] in lista_desarroladores:\n",
    "        # Rellenar 'developer' con el valor de 'publisher'\n",
    "        steam_games.at[index, 'developer'] = row['publisher']\n"
   ]
  },
  {
   "cell_type": "markdown",
   "metadata": {},
   "source": [
    "### Duplicados\n",
    "\n",
    "Revisamos cuántas filas tienen valores duplicados.\n"
   ]
  },
  {
   "cell_type": "code",
   "execution_count": 25,
   "metadata": {},
   "outputs": [
    {
     "name": "stdout",
     "output_type": "stream",
     "text": [
      "Cantidad de filas duplicadas: 0\n"
     ]
    }
   ],
   "source": [
    "# Verificamos filas duplicadas en el dataframe\n",
    "duplicados = steam_games[steam_games.duplicated(['publisher', 'app_name', 'title', 'url', \n",
    "                                                                 'release_date', 'reviews_url', 'price', 'early_access', \n",
    "                                                                 'id', 'developer'])]\n",
    "print(f\"Cantidad de filas duplicadas: {len(duplicados)}\")\n",
    "subset_cols = ['publisher', 'app_name', 'title', 'url', 'release_date', 'reviews_url', 'price', 'early_access', 'id', 'developer']\n",
    "steam_games.drop_duplicates(subset=subset_cols, inplace=True)\n"
   ]
  },
  {
   "cell_type": "markdown",
   "metadata": {},
   "source": [
    "### Eliminación de Columnas\n",
    "\n",
    "En esta etapa, procedemos a eliminar las columnas `reviews_url` y `url` debido a su poca relevancia para este proyecto. Asimismo, decidimos eliminar la columna `publisher` debido a la presencia de numerosos valores nulos. Dado que las columnas `app_name` y `title` contienen información similar, y la columna `title` tiene 2050 valores nulos, optamos por conservar la columna `app_name`.\n"
   ]
  },
  {
   "cell_type": "code",
   "execution_count": 26,
   "metadata": {},
   "outputs": [],
   "source": [
    "steam_games = steam_games.drop('reviews_url', axis=1)\n",
    "steam_games = steam_games.drop('url', axis=1)\n",
    "steam_games = steam_games.drop('publisher', axis=1)\n",
    "steam_games = steam_games.drop('title', axis=1)"
   ]
  },
  {
   "cell_type": "markdown",
   "metadata": {},
   "source": [
    "### Transformación de la Columna \"release_date\"\n",
    "\n",
    "La columna \"release_date\" se transformará a tipo de dato fecha. Además, se extraerá el año y se creará la columna \"release_year\". Posteriormente, la columna original \"release_date\" será eliminada."
   ]
  },
  {
   "cell_type": "code",
   "execution_count": 27,
   "metadata": {},
   "outputs": [],
   "source": [
    "#Convertimos la columa release_date a formato fecha\n",
    "steam_games['release_date']=pd.to_datetime(steam_games['release_date'], errors='coerce', exact=False)\n",
    "# Extraer el año y crear una nueva columna 'release_year'\n",
    "steam_games['release_year'] = steam_games['release_date'].dt.year\n",
    "# Eliminar la columna 'release_date'\n",
    "steam_games = steam_games.drop(columns=['release_date'])"
   ]
  },
  {
   "cell_type": "markdown",
   "metadata": {},
   "source": [
    "### Transformación de la columna \"price\"\n",
    "\n",
    "La columna \"price\" se transformará a tipo numérico. Dado que contiene texto que indica que el juego es gratuito, se reemplazará la cadena de texto por el valor numérico 0.\n"
   ]
  },
  {
   "cell_type": "code",
   "execution_count": 28,
   "metadata": {},
   "outputs": [],
   "source": [
    "steam_games['price'] = steam_games['price'].replace('Free To Play', 0)\n",
    "steam_games['price'] = steam_games['price'].replace('Free to Play', 0)\n",
    "steam_games['price'] = steam_games['price'].replace('Free', 0)\n",
    "steam_games['price'] = steam_games['price'].replace('None', 0)\n",
    "steam_games['price'] = steam_games['price'].replace('Free HITMAN™ Holiday Pack', 0)\n",
    "steam_games['price'] = steam_games['price'].replace('Free Demo', 0)\n",
    "steam_games['price'] = steam_games['price'].replace('Play for Free!', 0)\n",
    "steam_games['price'] = steam_games['price'].replace('Play WARMACHINE: Tactics Demo', 0)\n",
    "steam_games['price'] = steam_games['price'].replace('Install Now', 0)\n",
    "steam_games['price'] = steam_games['price'].replace('Install Theme', 0)\n",
    "steam_games['price'] = steam_games['price'].replace('Third-party', 0)\n",
    "steam_games['price'] = steam_games['price'].replace('Play Now', 0)\n",
    "steam_games['price'] = steam_games['price'].replace('Play the Demo', 0)\n",
    "steam_games['price'] = steam_games['price'].replace('Free to Try', 0)\n",
    "steam_games['price'] = steam_games['price'].replace('Free to Use', 0)\n",
    "steam_games['price'] = steam_games['price'].replace('Free Movie', 0)\n",
    "steam_games['price'] = steam_games['price'].replace('Free Mod', 0)\n",
    "steam_games['price'] = steam_games['price'].replace('Free Mod', 0)\n",
    "steam_games['price'] = steam_games['price'].replace('Starting at $499.00', 499)\n",
    "steam_games['price'] = steam_games['price'].replace('Starting at $449.00', 449)\n"
   ]
  },
  {
   "cell_type": "markdown",
   "metadata": {},
   "source": [
    "## Convertir los DataFrames a CSV\n"
   ]
  },
  {
   "cell_type": "code",
   "execution_count": 29,
   "metadata": {},
   "outputs": [],
   "source": [
    "# Convertir el DataFrame 'steam_games' a CSV\n",
    "steam_games.to_csv(\"..\\\\Datsets\\\\CSV\\\\steam_games.csv\", index=False)\n",
    "\n",
    "# Convertir el DataFrame 'user_reviews' a CSV\n",
    "user_reviews.to_csv(\"..\\\\Datsets\\\\CSV\\\\user_reviews.csv\", index=False)\n",
    "\n",
    "# Convertir el DataFrame 'user_items' a CSV\n",
    "user_items.to_csv(\"..\\\\Datsets\\\\CSV\\\\user_items.csv\", index=False)\n"
   ]
  }
 ],
 "metadata": {
  "kernelspec": {
   "display_name": "Python 3",
   "language": "python",
   "name": "python3"
  },
  "language_info": {
   "codemirror_mode": {
    "name": "ipython",
    "version": 3
   },
   "file_extension": ".py",
   "mimetype": "text/x-python",
   "name": "python",
   "nbconvert_exporter": "python",
   "pygments_lexer": "ipython3",
   "version": "3.11.6"
  }
 },
 "nbformat": 4,
 "nbformat_minor": 2
}
