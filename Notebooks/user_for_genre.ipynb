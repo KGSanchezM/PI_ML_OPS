{
 "cells": [
  {
   "cell_type": "markdown",
   "metadata": {},
   "source": [
    "def UserForGenre( genero : str ): Debe devolver el usuario que acumula más horas jugadas para el género dado y una lista de la acumulación de horas jugadas por año.\n",
    "Ejemplo de retorno: {\"Usuario con más horas jugadas para Género X\" : us213ndjss09sdf, \"Horas jugadas\":[{Año: 2013, Horas: 203}, {Año: 2012, Horas: 100}, {Año: 2011, Horas: 23}]}"
   ]
  },
  {
   "cell_type": "code",
   "execution_count": 1,
   "metadata": {},
   "outputs": [],
   "source": [
    "import pandas as pd\n",
    "import ast"
   ]
  },
  {
   "cell_type": "code",
   "execution_count": 2,
   "metadata": {},
   "outputs": [],
   "source": [
    "steam_games = pd.read_csv(\"..\\\\Datsets\\\\CSV\\\\steam_games.csv\")\n",
    "user_items =pd.read_csv(\"..\\\\Datsets\\\\CSV\\\\user_items.csv\")"
   ]
  },
  {
   "cell_type": "code",
   "execution_count": 3,
   "metadata": {},
   "outputs": [],
   "source": [
    "# Unir los DataFrames usando las columnas 'id' en steam_games y 'item_id' en user_items\n",
    "df_UserForGenre = pd.merge(user_items, steam_games, left_on='item_id', right_on='id', how='inner')\n",
    "# Seleccionar las columnas requeridas\n",
    "selected_columns = ['genres', 'release_year', 'playtime_forever', 'user_id']\n",
    "# Crear un nuevo DataFrame con las columnas seleccionadas\n",
    "df_UserForGenre = df_UserForGenre[selected_columns]\n",
    "#Convertimos la columna genres a tipo lista\n",
    "# Verificar si 'genres' contiene NaN antes de aplicar ast.literal_eval\n",
    "df_UserForGenre['genres'] = df_UserForGenre['genres'].apply(lambda x: ast.literal_eval(x) if pd.notna(x) else [])\n",
    "#Expandimos las listas en columnas\n",
    "df_UserForGenre = df_UserForGenre.explode('genres').reset_index(drop=True)\n",
    "# Agrupar por 'genres', 'release_year' y 'user_id' y sumar 'playtime_forever'\n",
    "df_UserForGenre = df_UserForGenre.groupby(['genres', 'release_year', 'user_id'], as_index=False)['playtime_forever'].sum()\n",
    "\n"
   ]
  },
  {
   "cell_type": "code",
   "execution_count": 4,
   "metadata": {},
   "outputs": [],
   "source": [
    "# Agrupar por 'genres', 'user_id' y sumar 'release_year'\n",
    "grouped_df = df_UserForGenre.groupby(['genres', 'user_id'], as_index=False)['release_year'].sum()\n",
    "\n",
    "# Encontrar el 'user_id' para cada género donde la suma de 'release_year' es máxima\n",
    "idx_max_years_sum = grouped_df.groupby('genres')['release_year'].idxmax()\n",
    "result_df = grouped_df.loc[idx_max_years_sum]\n",
    "\n",
    "# Filtrar df_UserForGenre para mantener solo las filas con un único usuario por cada género\n",
    "df_UserForGenre  = df_UserForGenre[df_UserForGenre.set_index(['genres', 'user_id']).index.isin(result_df.set_index(['genres', 'user_id']).index)]\n"
   ]
  },
  {
   "cell_type": "code",
   "execution_count": 6,
   "metadata": {},
   "outputs": [],
   "source": [
    "#Convertimos a CSV\n",
    "df_UserForGenre.to_csv('..\\\\Datsets\\\\archivos_API\\\\UserForGenre', index=False)"
   ]
  },
  {
   "cell_type": "code",
   "execution_count": 22,
   "metadata": {},
   "outputs": [
    {
     "data": {
      "text/html": [
       "<div>\n",
       "<style scoped>\n",
       "    .dataframe tbody tr th:only-of-type {\n",
       "        vertical-align: middle;\n",
       "    }\n",
       "\n",
       "    .dataframe tbody tr th {\n",
       "        vertical-align: top;\n",
       "    }\n",
       "\n",
       "    .dataframe thead th {\n",
       "        text-align: right;\n",
       "    }\n",
       "</style>\n",
       "<table border=\"1\" class=\"dataframe\">\n",
       "  <thead>\n",
       "    <tr style=\"text-align: right;\">\n",
       "      <th></th>\n",
       "      <th>genres</th>\n",
       "      <th>release_year</th>\n",
       "      <th>user_id</th>\n",
       "      <th>playtime_forever</th>\n",
       "    </tr>\n",
       "  </thead>\n",
       "  <tbody>\n",
       "    <tr>\n",
       "      <th>73</th>\n",
       "      <td>Action</td>\n",
       "      <td>1983.0</td>\n",
       "      <td>djnemonic</td>\n",
       "      <td>103</td>\n",
       "    </tr>\n",
       "    <tr>\n",
       "      <th>253</th>\n",
       "      <td>Action</td>\n",
       "      <td>1988.0</td>\n",
       "      <td>djnemonic</td>\n",
       "      <td>222</td>\n",
       "    </tr>\n",
       "    <tr>\n",
       "      <th>380</th>\n",
       "      <td>Action</td>\n",
       "      <td>1989.0</td>\n",
       "      <td>djnemonic</td>\n",
       "      <td>0</td>\n",
       "    </tr>\n",
       "    <tr>\n",
       "      <th>1063</th>\n",
       "      <td>Action</td>\n",
       "      <td>1990.0</td>\n",
       "      <td>djnemonic</td>\n",
       "      <td>0</td>\n",
       "    </tr>\n",
       "    <tr>\n",
       "      <th>1486</th>\n",
       "      <td>Action</td>\n",
       "      <td>1991.0</td>\n",
       "      <td>djnemonic</td>\n",
       "      <td>0</td>\n",
       "    </tr>\n",
       "    <tr>\n",
       "      <th>1673</th>\n",
       "      <td>Action</td>\n",
       "      <td>1992.0</td>\n",
       "      <td>djnemonic</td>\n",
       "      <td>0</td>\n",
       "    </tr>\n",
       "    <tr>\n",
       "      <th>2806</th>\n",
       "      <td>Action</td>\n",
       "      <td>1993.0</td>\n",
       "      <td>djnemonic</td>\n",
       "      <td>860</td>\n",
       "    </tr>\n",
       "    <tr>\n",
       "      <th>4891</th>\n",
       "      <td>Action</td>\n",
       "      <td>1994.0</td>\n",
       "      <td>djnemonic</td>\n",
       "      <td>271</td>\n",
       "    </tr>\n",
       "    <tr>\n",
       "      <th>8995</th>\n",
       "      <td>Action</td>\n",
       "      <td>1995.0</td>\n",
       "      <td>djnemonic</td>\n",
       "      <td>928</td>\n",
       "    </tr>\n",
       "    <tr>\n",
       "      <th>11852</th>\n",
       "      <td>Action</td>\n",
       "      <td>1996.0</td>\n",
       "      <td>djnemonic</td>\n",
       "      <td>669</td>\n",
       "    </tr>\n",
       "  </tbody>\n",
       "</table>\n",
       "</div>"
      ],
      "text/plain": [
       "       genres  release_year    user_id  playtime_forever\n",
       "73     Action        1983.0  djnemonic               103\n",
       "253    Action        1988.0  djnemonic               222\n",
       "380    Action        1989.0  djnemonic                 0\n",
       "1063   Action        1990.0  djnemonic                 0\n",
       "1486   Action        1991.0  djnemonic                 0\n",
       "1673   Action        1992.0  djnemonic                 0\n",
       "2806   Action        1993.0  djnemonic               860\n",
       "4891   Action        1994.0  djnemonic               271\n",
       "8995   Action        1995.0  djnemonic               928\n",
       "11852  Action        1996.0  djnemonic               669"
      ]
     },
     "execution_count": 22,
     "metadata": {},
     "output_type": "execute_result"
    }
   ],
   "source": [
    "df_UserForGenre.head(10)"
   ]
  },
  {
   "cell_type": "code",
   "execution_count": 27,
   "metadata": {},
   "outputs": [],
   "source": [
    "def UserForGenre(genre):\n",
    "    # Filtrar el DataFrame por el género dado\n",
    "    genre_data = df_UserForGenre[df_UserForGenre['genres'] == genre]\n",
    "\n",
    "    # Crear una lista de diccionarios para las horas jugadas por año\n",
    "    hours_by_year = [{'Año': int(year), 'Horas': playtime} for year, playtime in genre_data[['release_year', 'playtime_forever']].values]\n",
    "\n",
    "    # Crear el diccionario de salida\n",
    "    result = {\n",
    "        \"Usuario con más horas jugadas para Género \" + genre: genre_data.iloc[0]['user_id'],\n",
    "        \"Horas jugadas\": hours_by_year\n",
    "    }\n",
    "\n",
    "    return result\n"
   ]
  },
  {
   "cell_type": "code",
   "execution_count": 29,
   "metadata": {},
   "outputs": [
    {
     "name": "stdout",
     "output_type": "stream",
     "text": [
      "{'Usuario con más horas jugadas para Género Indie': 'chidvd', 'Horas jugadas': [{'Año': 1988, 'Horas': 0.0}, {'Año': 1995, 'Horas': 0.0}, {'Año': 1996, 'Horas': 0.0}, {'Año': 1997, 'Horas': 144.0}, {'Año': 1998, 'Horas': 75.0}, {'Año': 1999, 'Horas': 0.0}, {'Año': 2000, 'Horas': 247.0}, {'Año': 2001, 'Horas': 4.0}, {'Año': 2002, 'Horas': 7.0}, {'Año': 2003, 'Horas': 196.0}, {'Año': 2004, 'Horas': 25.0}, {'Año': 2005, 'Horas': 235.0}, {'Año': 2006, 'Horas': 1671.0}, {'Año': 2007, 'Horas': 102.0}, {'Año': 2008, 'Horas': 2449.0}, {'Año': 2009, 'Horas': 4379.0}, {'Año': 2010, 'Horas': 7888.0}, {'Año': 2011, 'Horas': 16597.0}, {'Año': 2012, 'Horas': 35970.0}, {'Año': 2013, 'Horas': 62205.0}, {'Año': 2014, 'Horas': 90429.0}, {'Año': 2015, 'Horas': 165180.0}, {'Año': 2016, 'Horas': 76531.0}, {'Año': 2017, 'Horas': 3604.0}, {'Año': 2018, 'Horas': 285.0}]}\n"
     ]
    }
   ],
   "source": [
    "genre_result = UserForGenre('Indie')\n",
    "print(genre_result)"
   ]
  },
  {
   "cell_type": "code",
   "execution_count": 28,
   "metadata": {},
   "outputs": [
    {
     "data": {
      "text/plain": [
       "array(['Action', 'Adventure', 'Animation &amp; Modeling',\n",
       "       'Audio Production', 'Casual', 'Design &amp; Illustration',\n",
       "       'Early Access', 'Education', 'Free to Play', 'Indie',\n",
       "       'Massively Multiplayer', 'Photo Editing', 'RPG', 'Racing',\n",
       "       'Simulation', 'Software Training', 'Sports', 'Strategy',\n",
       "       'Utilities', 'Video Production', 'Web Publishing'], dtype=object)"
      ]
     },
     "execution_count": 28,
     "metadata": {},
     "output_type": "execute_result"
    }
   ],
   "source": [
    "df_UserForGenre['genres'].unique()"
   ]
  }
 ],
 "metadata": {
  "kernelspec": {
   "display_name": "Python 3",
   "language": "python",
   "name": "python3"
  },
  "language_info": {
   "codemirror_mode": {
    "name": "ipython",
    "version": 3
   },
   "file_extension": ".py",
   "mimetype": "text/x-python",
   "name": "python",
   "nbconvert_exporter": "python",
   "pygments_lexer": "ipython3",
   "version": "3.11.6"
  }
 },
 "nbformat": 4,
 "nbformat_minor": 2
}
