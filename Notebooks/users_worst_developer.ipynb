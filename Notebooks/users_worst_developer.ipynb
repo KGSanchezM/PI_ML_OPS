{
 "cells": [
  {
   "cell_type": "markdown",
   "metadata": {},
   "source": [
    "# UsersWorstDeveloper\n",
    "\n",
    "Se busca la creación de una función que proporcione el top 3 de desarrolladoras con juegos menos recomendados por usuarios para un año específico. La función toma como entrada el año y devuelve las 3 desarrolladoras con los juegos menos recomendados, considerando solo aquellos con recomendaciones \"False\" y comentarios negativos.\n",
    "\n",
    "Ejemplo de retorno : [{\"Puesto 1\" : X}, {\"Puesto 2\" : Y},{\"Puesto 3\" : Z}]\n"
   ]
  },
  {
   "cell_type": "markdown",
   "metadata": {},
   "source": [
    "### Importación de librerías"
   ]
  },
  {
   "cell_type": "code",
   "execution_count": 14,
   "metadata": {},
   "outputs": [],
   "source": [
    "import pandas as pd"
   ]
  },
  {
   "cell_type": "markdown",
   "metadata": {},
   "source": [
    "### Lectura de los archivos CSV"
   ]
  },
  {
   "cell_type": "code",
   "execution_count": 15,
   "metadata": {},
   "outputs": [],
   "source": [
    "steam_games = pd.read_csv(\"..\\\\Datsets\\\\CSV\\\\steam_games.csv\")\n",
    "user_reviews =pd.read_csv(\"..\\\\Datsets\\\\CSV\\\\user_reviews.csv\")"
   ]
  },
  {
   "cell_type": "markdown",
   "metadata": {},
   "source": [
    "### Creacion del DataFrame"
   ]
  },
  {
   "cell_type": "markdown",
   "metadata": {},
   "source": [
    "Para la implementación de la función `UsersWorstDeveloper`, se utilizarán dos archivos: \"steam_games\" y \"user_reviews\". Estos archivos contienen información para la función, las cuales son : desarrollador (`developer`), recomendación (`recommend`), análisis de sentimiento (`sentiment_analysis`), y el año de publicación (`posted_year`)."
   ]
  },
  {
   "cell_type": "code",
   "execution_count": 16,
   "metadata": {},
   "outputs": [],
   "source": [
    "# Combinar dataframes en base a las columnas id e item_id\n",
    "df_UserWorstDeveloper = pd.merge(steam_games, user_reviews, left_on='id', right_on='item_id')\n",
    "\n",
    "# Seleccionar columnas \n",
    "df_UserWorstDeveloper = df_UserWorstDeveloper[['developer', 'recommend', 'sentiment_analysis','posted_year']]"
   ]
  },
  {
   "cell_type": "markdown",
   "metadata": {},
   "source": [
    "Seleccionar únicamente aquellos juegos que cuenten con comentarios negativos del campo sentiment_analysis"
   ]
  },
  {
   "cell_type": "code",
   "execution_count": 17,
   "metadata": {},
   "outputs": [],
   "source": [
    "#Filtramos los comentarios negativos\n",
    "df_UserWorstDeveloper = df_UserWorstDeveloper[df_UserWorstDeveloper['sentiment_analysis'] == 0]"
   ]
  },
  {
   "cell_type": "markdown",
   "metadata": {},
   "source": [
    "Agrupar el número de recomendaciones por desarrollador y por año"
   ]
  },
  {
   "cell_type": "code",
   "execution_count": 18,
   "metadata": {},
   "outputs": [
    {
     "data": {
      "text/html": [
       "<div>\n",
       "<style scoped>\n",
       "    .dataframe tbody tr th:only-of-type {\n",
       "        vertical-align: middle;\n",
       "    }\n",
       "\n",
       "    .dataframe tbody tr th {\n",
       "        vertical-align: top;\n",
       "    }\n",
       "\n",
       "    .dataframe thead th {\n",
       "        text-align: right;\n",
       "    }\n",
       "</style>\n",
       "<table border=\"1\" class=\"dataframe\">\n",
       "  <thead>\n",
       "    <tr style=\"text-align: right;\">\n",
       "      <th></th>\n",
       "      <th>developer</th>\n",
       "      <th>posted_year</th>\n",
       "      <th>recommend</th>\n",
       "    </tr>\n",
       "  </thead>\n",
       "  <tbody>\n",
       "    <tr>\n",
       "      <th>0</th>\n",
       "      <td>07th Expansion</td>\n",
       "      <td>2015.0</td>\n",
       "      <td>1</td>\n",
       "    </tr>\n",
       "    <tr>\n",
       "      <th>1</th>\n",
       "      <td>10th Art Studio,Adventure Productions</td>\n",
       "      <td>2015.0</td>\n",
       "      <td>0</td>\n",
       "    </tr>\n",
       "    <tr>\n",
       "      <th>2</th>\n",
       "      <td>11 bit studios</td>\n",
       "      <td>2011.0</td>\n",
       "      <td>1</td>\n",
       "    </tr>\n",
       "    <tr>\n",
       "      <th>3</th>\n",
       "      <td>11 bit studios</td>\n",
       "      <td>2014.0</td>\n",
       "      <td>7</td>\n",
       "    </tr>\n",
       "    <tr>\n",
       "      <th>4</th>\n",
       "      <td>11 bit studios</td>\n",
       "      <td>2015.0</td>\n",
       "      <td>13</td>\n",
       "    </tr>\n",
       "  </tbody>\n",
       "</table>\n",
       "</div>"
      ],
      "text/plain": [
       "                               developer  posted_year  recommend\n",
       "0                         07th Expansion       2015.0          1\n",
       "1  10th Art Studio,Adventure Productions       2015.0          0\n",
       "2                         11 bit studios       2011.0          1\n",
       "3                         11 bit studios       2014.0          7\n",
       "4                         11 bit studios       2015.0         13"
      ]
     },
     "execution_count": 18,
     "metadata": {},
     "output_type": "execute_result"
    }
   ],
   "source": [
    "#Agrupamos las recomendaciones por desarrollador y por año\n",
    "df_UserWorstDeveloper = df_UserWorstDeveloper.groupby(['developer', 'posted_year'])['recommend'].sum().reset_index()\n",
    "df_UserWorstDeveloper.head()"
   ]
  },
  {
   "cell_type": "markdown",
   "metadata": {},
   "source": [
    "### Convertimos el DataFrame a CSV"
   ]
  },
  {
   "cell_type": "code",
   "execution_count": 22,
   "metadata": {},
   "outputs": [],
   "source": [
    "df_UserWorstDeveloper.to_csv('..\\\\Datsets\\\\Archivos_API\\\\UsersWorstDeveloper.csv', index=False)"
   ]
  },
  {
   "cell_type": "markdown",
   "metadata": {},
   "source": [
    "### Función UserWorstDeveloper"
   ]
  },
  {
   "cell_type": "code",
   "execution_count": 23,
   "metadata": {},
   "outputs": [],
   "source": [
    "def UserWorstDeveloper(anio):\n",
    "    desarrollador = df_UserWorstDeveloper[df_UserWorstDeveloper['posted_year']== anio]\n",
    "    if not desarrollador.empty:\n",
    "        # Encuentra los años con menos recomendaciones\n",
    "        desarrollador = desarrollador.nsmallest(3, 'recommend')\n",
    "        resultado = [{\"Puesto 1\" : desarrollador.iloc[0]['developer']}, \n",
    "                  {\"Puesto 2\" : desarrollador.iloc[1]['developer']},\n",
    "                  {\"Puesto 3\" : desarrollador.iloc[2]['developer']}]\n",
    "        return resultado\n",
    "    else:\n",
    "        return f\"No se encontraron datos para el año '{anio}'\"\n",
    "    "
   ]
  },
  {
   "cell_type": "code",
   "execution_count": 28,
   "metadata": {},
   "outputs": [
    {
     "data": {
      "text/plain": [
       "[{'Puesto 1': 'NeoCoreGames'},\n",
       " {'Puesto 2': 'Slant Six Games'},\n",
       " {'Puesto 3': 'Volition'}]"
      ]
     },
     "execution_count": 28,
     "metadata": {},
     "output_type": "execute_result"
    }
   ],
   "source": [
    "UserWorstDeveloper(2012)"
   ]
  }
 ],
 "metadata": {
  "kernelspec": {
   "display_name": "Python 3",
   "language": "python",
   "name": "python3"
  },
  "language_info": {
   "codemirror_mode": {
    "name": "ipython",
    "version": 3
   },
   "file_extension": ".py",
   "mimetype": "text/x-python",
   "name": "python",
   "nbconvert_exporter": "python",
   "pygments_lexer": "ipython3",
   "version": "3.11.6"
  }
 },
 "nbformat": 4,
 "nbformat_minor": 2
}
