{
 "cells": [
  {
   "cell_type": "markdown",
   "metadata": {},
   "source": [
    "def UsersWorstDeveloper( año : int ): Devuelve el top 3 de desarrolladoras con juegos MENOS recomendados por usuarios para el año dado. (reviews.recommend = False y comentarios negativos)"
   ]
  },
  {
   "cell_type": "code",
   "execution_count": 1,
   "metadata": {},
   "outputs": [],
   "source": [
    "import pandas as pd"
   ]
  },
  {
   "cell_type": "code",
   "execution_count": 13,
   "metadata": {},
   "outputs": [],
   "source": [
    "steam_games = pd.read_csv(\"..\\\\Datsets\\\\CSV\\\\steam_games.csv\")\n",
    "user_reviews =pd.read_csv(\"..\\\\Datsets\\\\CSV\\\\user_reviews.csv\")"
   ]
  },
  {
   "cell_type": "code",
   "execution_count": 16,
   "metadata": {},
   "outputs": [],
   "source": [
    "# Combinar dataframes en base a las columnas id e item_id\n",
    "df_UserWorstDeveloper = pd.merge(steam_games, user_reviews, left_on='id', right_on='item_id')\n",
    "\n",
    "# Seleccionar columnas deseadas\n",
    "df_UserWorstDeveloper = df_UserWorstDeveloper[['developer', 'recommend', 'sentiment_analysis','posted_year']]\n",
    "#Filtramos los comentarios negativos\n",
    "df_UserWorstDeveloper = df_UserWorstDeveloper[df_UserWorstDeveloper['sentiment_analysis'] == 0]\n",
    "#Agrupamos las recomendaciones por desarrollador y por año\n",
    "df_UserWorstDeveloper = df_UserWorstDeveloper.groupby(['developer', 'posted_year'])['recommend'].sum().reset_index()"
   ]
  },
  {
   "cell_type": "code",
   "execution_count": null,
   "metadata": {},
   "outputs": [],
   "source": [
    "df_UserWorstDeveloper.to_csv('..\\\\Datsets\\\\archivos_API\\\\UsersWorstDeveloper.csv', index=False)"
   ]
  },
  {
   "cell_type": "code",
   "execution_count": 32,
   "metadata": {},
   "outputs": [],
   "source": [
    "def UserWorstDeveloper(anio):\n",
    "    developer = df_UserWorstDeveloper[df_UserWorstDeveloper['posted_year']== anio]\n",
    "    if not developer.empty:\n",
    "        # Encuentra los años con menos recomendaciones\n",
    "        developer = developer.nsmallest(3, 'recommend')\n",
    "        result = [{\"Puesto 1\" : developer.iloc[0]['developer']}, \n",
    "                  {\"Puesto 2\" : developer.iloc[1]['developer']},\n",
    "                  {\"Puesto 3\" : developer.iloc[2]['developer']}]\n",
    "        return result\n",
    "    else:\n",
    "        return f\"No se encontraron datos para el año '{anio}'\"\n",
    "    \n",
    "\n",
    "    "
   ]
  },
  {
   "cell_type": "code",
   "execution_count": 47,
   "metadata": {},
   "outputs": [
    {
     "data": {
      "text/plain": [
       "\"No se encontraron datos para el año '2016'\""
      ]
     },
     "execution_count": 47,
     "metadata": {},
     "output_type": "execute_result"
    }
   ],
   "source": []
  }
 ],
 "metadata": {
  "kernelspec": {
   "display_name": "Python 3",
   "language": "python",
   "name": "python3"
  },
  "language_info": {
   "codemirror_mode": {
    "name": "ipython",
    "version": 3
   },
   "file_extension": ".py",
   "mimetype": "text/x-python",
   "name": "python",
   "nbconvert_exporter": "python",
   "pygments_lexer": "ipython3",
   "version": "3.11.6"
  }
 },
 "nbformat": 4,
 "nbformat_minor": 2
}
