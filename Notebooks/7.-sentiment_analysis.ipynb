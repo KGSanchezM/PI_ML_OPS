{
 "cells": [
  {
   "cell_type": "markdown",
   "metadata": {},
   "source": [
    "# sentiment_analysis\n",
    "\n",
    "Crearé una función que tome como entrada una cadena de texto que represente a una empresa desarrolladora y devuelva la cantidad de reseñas positivas, negativas y neutrales. Para llevar a cabo esta tarea, se creará un archivo CSV con la información necesaria para realizar la consulta. Debido a que la función se desplegará en Render y cargar datasets pesados puede resultar poco práctico.\n",
    "\n",
    "def sentiment_analysis( empresa desarrolladora : str ): Devuelve un diccionario con el nombre de la desarrolladora como llave y una lista con la cantidad total de registros de reseñas de usuarios que se encuentren categorizados con un análisis de sentimiento como valor.\n",
    "\n",
    "Ejemplo de retorno: {'Valve' : [Negative = 182, Neutral = 120, Positive = 278]}\n",
    "\n"
   ]
  },
  {
   "cell_type": "markdown",
   "metadata": {},
   "source": [
    "### Importación de Bibliotecas"
   ]
  },
  {
   "cell_type": "code",
   "execution_count": 2,
   "metadata": {},
   "outputs": [],
   "source": [
    "import pandas as pd"
   ]
  },
  {
   "cell_type": "markdown",
   "metadata": {},
   "source": [
    "### Lectura de Archivos"
   ]
  },
  {
   "cell_type": "code",
   "execution_count": 3,
   "metadata": {},
   "outputs": [],
   "source": [
    "steam_games = pd.read_csv(\"..\\\\Datsets\\\\CSV\\\\steam_games.csv\")\n",
    "user_reviews = pd.read_csv(\"..\\\\Datsets\\\\CSV\\\\user_reviews.csv\")"
   ]
  },
  {
   "cell_type": "markdown",
   "metadata": {},
   "source": [
    "### Creación del CSV\n",
    "\n",
    "Para realizar el análisis de sentimientos, se requiere combinar información de dos conjuntos de datos: steam_games y user_reviews. Se utilizarán las columnas developer de steam_games y sentiment_analysis de user_reviews. Además, se emplearán las columnas id de steam_games y item_id de user_reviews para concatenar los DataFrames."
   ]
  },
  {
   "cell_type": "code",
   "execution_count": 4,
   "metadata": {},
   "outputs": [],
   "source": [
    "#Concatenamos los dataframes\n",
    "analisis_sentimientos_df = steam_games[['id', 'developer']].merge(user_reviews[['item_id', 'sentiment_analysis']], left_on='id', right_on='item_id', how='inner')\n",
    "#Quitamos las columnas id e item_id porque no las vamos a ocupar\n",
    "analisis_sentimientos_df = analisis_sentimientos_df.drop(columns=['id', 'item_id'])"
   ]
  },
  {
   "cell_type": "code",
   "execution_count": 5,
   "metadata": {},
   "outputs": [
    {
     "data": {
      "text/html": [
       "<div>\n",
       "<style scoped>\n",
       "    .dataframe tbody tr th:only-of-type {\n",
       "        vertical-align: middle;\n",
       "    }\n",
       "\n",
       "    .dataframe tbody tr th {\n",
       "        vertical-align: top;\n",
       "    }\n",
       "\n",
       "    .dataframe thead th {\n",
       "        text-align: right;\n",
       "    }\n",
       "</style>\n",
       "<table border=\"1\" class=\"dataframe\">\n",
       "  <thead>\n",
       "    <tr style=\"text-align: right;\">\n",
       "      <th></th>\n",
       "      <th>developer</th>\n",
       "      <th>sentiment_analysis</th>\n",
       "    </tr>\n",
       "  </thead>\n",
       "  <tbody>\n",
       "    <tr>\n",
       "      <th>0</th>\n",
       "      <td>Stainless Games Ltd</td>\n",
       "      <td>1</td>\n",
       "    </tr>\n",
       "    <tr>\n",
       "      <th>1</th>\n",
       "      <td>Valve</td>\n",
       "      <td>2</td>\n",
       "    </tr>\n",
       "    <tr>\n",
       "      <th>2</th>\n",
       "      <td>Valve</td>\n",
       "      <td>0</td>\n",
       "    </tr>\n",
       "    <tr>\n",
       "      <th>3</th>\n",
       "      <td>Valve</td>\n",
       "      <td>2</td>\n",
       "    </tr>\n",
       "    <tr>\n",
       "      <th>4</th>\n",
       "      <td>Valve</td>\n",
       "      <td>2</td>\n",
       "    </tr>\n",
       "  </tbody>\n",
       "</table>\n",
       "</div>"
      ],
      "text/plain": [
       "             developer  sentiment_analysis\n",
       "0  Stainless Games Ltd                   1\n",
       "1                Valve                   2\n",
       "2                Valve                   0\n",
       "3                Valve                   2\n",
       "4                Valve                   2"
      ]
     },
     "execution_count": 5,
     "metadata": {},
     "output_type": "execute_result"
    }
   ],
   "source": [
    "analisis_sentimientos_df.head()"
   ]
  },
  {
   "cell_type": "markdown",
   "metadata": {},
   "source": [
    "Vamos a ajustar los valores en la columna `sentiment_analysis` de la siguiente manera:\n",
    "\n",
    "- 0 para representar \"Negativo\".\n",
    "- 1 para representar \"Neutral\".\n",
    "- 2 para representar \"Positivo\"."
   ]
  },
  {
   "cell_type": "code",
   "execution_count": 6,
   "metadata": {},
   "outputs": [],
   "source": [
    "# Convertir los valores en la columna 'sentiment_analysis' a int\n",
    "analisis_sentimientos_df['sentiment_analysis'] = analisis_sentimientos_df['sentiment_analysis'].astype(int)\n",
    "#Cambiamos los valores por positivo , negativo y neutral\n",
    "analisis_sentimientos_df['sentiment_analysis'] = analisis_sentimientos_df['sentiment_analysis'].replace({0: 'Negativo', 1: 'Neutral', 2: 'Positivo'})"
   ]
  },
  {
   "cell_type": "code",
   "execution_count": 7,
   "metadata": {},
   "outputs": [
    {
     "data": {
      "text/html": [
       "<div>\n",
       "<style scoped>\n",
       "    .dataframe tbody tr th:only-of-type {\n",
       "        vertical-align: middle;\n",
       "    }\n",
       "\n",
       "    .dataframe tbody tr th {\n",
       "        vertical-align: top;\n",
       "    }\n",
       "\n",
       "    .dataframe thead th {\n",
       "        text-align: right;\n",
       "    }\n",
       "</style>\n",
       "<table border=\"1\" class=\"dataframe\">\n",
       "  <thead>\n",
       "    <tr style=\"text-align: right;\">\n",
       "      <th></th>\n",
       "      <th>developer</th>\n",
       "      <th>sentiment_analysis</th>\n",
       "    </tr>\n",
       "  </thead>\n",
       "  <tbody>\n",
       "    <tr>\n",
       "      <th>0</th>\n",
       "      <td>Stainless Games Ltd</td>\n",
       "      <td>Neutral</td>\n",
       "    </tr>\n",
       "    <tr>\n",
       "      <th>1</th>\n",
       "      <td>Valve</td>\n",
       "      <td>Positivo</td>\n",
       "    </tr>\n",
       "    <tr>\n",
       "      <th>2</th>\n",
       "      <td>Valve</td>\n",
       "      <td>Negativo</td>\n",
       "    </tr>\n",
       "    <tr>\n",
       "      <th>3</th>\n",
       "      <td>Valve</td>\n",
       "      <td>Positivo</td>\n",
       "    </tr>\n",
       "    <tr>\n",
       "      <th>4</th>\n",
       "      <td>Valve</td>\n",
       "      <td>Positivo</td>\n",
       "    </tr>\n",
       "  </tbody>\n",
       "</table>\n",
       "</div>"
      ],
      "text/plain": [
       "             developer sentiment_analysis\n",
       "0  Stainless Games Ltd            Neutral\n",
       "1                Valve           Positivo\n",
       "2                Valve           Negativo\n",
       "3                Valve           Positivo\n",
       "4                Valve           Positivo"
      ]
     },
     "execution_count": 7,
     "metadata": {},
     "output_type": "execute_result"
    }
   ],
   "source": [
    "analisis_sentimientos_df.head()"
   ]
  },
  {
   "cell_type": "markdown",
   "metadata": {},
   "source": [
    "Agrupar los datos por el campo developer. Contando las veces que aparece cada valor en la columna sentiment_analysis para cada desarrollador."
   ]
  },
  {
   "cell_type": "code",
   "execution_count": 8,
   "metadata": {},
   "outputs": [],
   "source": [
    "# Agrupar los datos y contar los valores\n",
    "analisis_sentimientos_df = analisis_sentimientos_df.groupby('developer')['sentiment_analysis'].value_counts()\n"
   ]
  },
  {
   "cell_type": "code",
   "execution_count": 9,
   "metadata": {},
   "outputs": [
    {
     "data": {
      "text/plain": [
       "developer                              sentiment_analysis\n",
       "07th Expansion                         Neutral               2\n",
       "                                       Negativo              1\n",
       "10th Art Studio,Adventure Productions  Negativo              1\n",
       "                                       Positivo              1\n",
       "10tons Ltd                             Positivo              1\n",
       "Name: count, dtype: int64"
      ]
     },
     "execution_count": 9,
     "metadata": {},
     "output_type": "execute_result"
    }
   ],
   "source": [
    "analisis_sentimientos_df.head()"
   ]
  },
  {
   "cell_type": "markdown",
   "metadata": {},
   "source": [
    "Los resultados estén en una estructura de índice múltiple. Para facilitar el análisis y la visualización, desapilaremos los índices."
   ]
  },
  {
   "cell_type": "code",
   "execution_count": 10,
   "metadata": {},
   "outputs": [],
   "source": [
    "# Desapilar los índices\n",
    "analisis_sentimientos_df = analisis_sentimientos_df.unstack()\n",
    "# Resetear el índice\n",
    "analisis_sentimientos_df = analisis_sentimientos_df.reset_index()"
   ]
  },
  {
   "cell_type": "code",
   "execution_count": 11,
   "metadata": {},
   "outputs": [
    {
     "data": {
      "text/html": [
       "<div>\n",
       "<style scoped>\n",
       "    .dataframe tbody tr th:only-of-type {\n",
       "        vertical-align: middle;\n",
       "    }\n",
       "\n",
       "    .dataframe tbody tr th {\n",
       "        vertical-align: top;\n",
       "    }\n",
       "\n",
       "    .dataframe thead th {\n",
       "        text-align: right;\n",
       "    }\n",
       "</style>\n",
       "<table border=\"1\" class=\"dataframe\">\n",
       "  <thead>\n",
       "    <tr style=\"text-align: right;\">\n",
       "      <th>sentiment_analysis</th>\n",
       "      <th>developer</th>\n",
       "      <th>Negativo</th>\n",
       "      <th>Neutral</th>\n",
       "      <th>Positivo</th>\n",
       "    </tr>\n",
       "  </thead>\n",
       "  <tbody>\n",
       "    <tr>\n",
       "      <th>0</th>\n",
       "      <td>07th Expansion</td>\n",
       "      <td>1.0</td>\n",
       "      <td>2.0</td>\n",
       "      <td>NaN</td>\n",
       "    </tr>\n",
       "    <tr>\n",
       "      <th>1</th>\n",
       "      <td>10th Art Studio,Adventure Productions</td>\n",
       "      <td>1.0</td>\n",
       "      <td>NaN</td>\n",
       "      <td>1.0</td>\n",
       "    </tr>\n",
       "    <tr>\n",
       "      <th>2</th>\n",
       "      <td>10tons Ltd</td>\n",
       "      <td>NaN</td>\n",
       "      <td>NaN</td>\n",
       "      <td>1.0</td>\n",
       "    </tr>\n",
       "    <tr>\n",
       "      <th>3</th>\n",
       "      <td>11 bit studios</td>\n",
       "      <td>28.0</td>\n",
       "      <td>9.0</td>\n",
       "      <td>25.0</td>\n",
       "    </tr>\n",
       "    <tr>\n",
       "      <th>4</th>\n",
       "      <td>14° East</td>\n",
       "      <td>1.0</td>\n",
       "      <td>NaN</td>\n",
       "      <td>1.0</td>\n",
       "    </tr>\n",
       "  </tbody>\n",
       "</table>\n",
       "</div>"
      ],
      "text/plain": [
       "sentiment_analysis                              developer  Negativo  Neutral  \\\n",
       "0                                          07th Expansion       1.0      2.0   \n",
       "1                   10th Art Studio,Adventure Productions       1.0      NaN   \n",
       "2                                              10tons Ltd       NaN      NaN   \n",
       "3                                          11 bit studios      28.0      9.0   \n",
       "4                                                14° East       1.0      NaN   \n",
       "\n",
       "sentiment_analysis  Positivo  \n",
       "0                        NaN  \n",
       "1                        1.0  \n",
       "2                        1.0  \n",
       "3                       25.0  \n",
       "4                        1.0  "
      ]
     },
     "execution_count": 11,
     "metadata": {},
     "output_type": "execute_result"
    }
   ],
   "source": [
    "analisis_sentimientos_df.head()"
   ]
  },
  {
   "cell_type": "markdown",
   "metadata": {},
   "source": [
    "### Convertimos a CSV"
   ]
  },
  {
   "cell_type": "code",
   "execution_count": 12,
   "metadata": {},
   "outputs": [],
   "source": [
    "#Convertimos a CSV\n",
    "analisis_sentimientos_df.to_csv('..\\\\Datsets\\\\Archivos_API\\\\sentiment_analysis.csv', index=False)\n"
   ]
  },
  {
   "cell_type": "code",
   "execution_count": 13,
   "metadata": {},
   "outputs": [],
   "source": [
    "def sentiment_analysis(developer):\n",
    "    \"\"\"\n",
    "    Retorna un diccionario que muestra la cantidad de reseñas positivas, negativas y neutrales para un desarrollador específico.\n",
    "\n",
    "    Parameters:\n",
    "    - developer (str): El nombre del desarrollador para el cual se desea obtener el análisis de sentimientos.\n",
    "\n",
    "    Returns:\n",
    "    - dict: Un diccionario con el nombre del desarrollador como clave y una lista con la cantidad total de registros\n",
    "            de reseñas de usuarios categorizados con un análisis de sentimiento como valor.\n",
    "            Ejemplo de retorno: {'Valve': {'Negative': 182, 'Neutral': 120, 'Positive': 278}}\n",
    "\n",
    "            En caso de que no se encuentren datos para el desarrollador especificado, se retorna un mensaje informativo.\n",
    "            Ejemplo: \"No se encontraron datos para el desarrollador 'NombreDelDesarrollador'\".\n",
    "    \"\"\"\n",
    "    developer_column = analisis_sentimientos_df[\"developer\"].tolist()\n",
    "\n",
    "    if developer in developer_column:\n",
    "        index = developer_column.index(developer)\n",
    "        sentiment_counts = analisis_sentimientos_df.iloc[index, 1:].to_dict()\n",
    "        return {developer: sentiment_counts}\n",
    "    else:\n",
    "        return f\"No se encontraron datos para el desarrollador '{developer}'\"\n"
   ]
  }
 ],
 "metadata": {
  "kernelspec": {
   "display_name": "Python 3",
   "language": "python",
   "name": "python3"
  },
  "language_info": {
   "codemirror_mode": {
    "name": "ipython",
    "version": 3
   },
   "file_extension": ".py",
   "mimetype": "text/x-python",
   "name": "python",
   "nbconvert_exporter": "python",
   "pygments_lexer": "ipython3",
   "version": "3.11.6"
  }
 },
 "nbformat": 4,
 "nbformat_minor": 2
}
