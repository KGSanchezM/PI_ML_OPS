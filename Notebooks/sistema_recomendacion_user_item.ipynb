{
 "cells": [
  {
   "cell_type": "markdown",
   "metadata": {},
   "source": [
    "La otra propuesta para el sistema de recomendación debe aplicar el filtro user-item, esto es tomar un usuario, se encuentran usuarios similares y se recomiendan ítems que a esos usuarios similares les gustaron. En este caso el input es un usuario y el output es una lista de juegos que se le recomienda a ese usuario, en general se explican como “A usuarios que son similares a tí también les gustó…”. "
   ]
  },
  {
   "cell_type": "code",
   "execution_count": 1,
   "metadata": {},
   "outputs": [],
   "source": [
    "import pandas as pd\n",
    "import matplotlib.pyplot as plt\n",
    "import numpy as np\n",
    "from sklearn.metrics.pairwise import cosine_similarity"
   ]
  },
  {
   "cell_type": "markdown",
   "metadata": {},
   "source": [
    "Lectura del CSV"
   ]
  },
  {
   "cell_type": "code",
   "execution_count": 2,
   "metadata": {},
   "outputs": [],
   "source": [
    "steam_games = pd.read_csv('..\\\\Datsets\\\\CSV\\\\steam_games.csv')\n",
    "user_items = pd.read_csv('..\\\\Datsets\\\\CSV\\\\user_items.csv')\n",
    "user_reviews = pd.read_csv('..\\\\Datsets\\\\CSV\\\\user_reviews.csv')"
   ]
  },
  {
   "cell_type": "markdown",
   "metadata": {},
   "source": [
    "Colimas que necesito : user_id , items_count , item_id , item_name , playtime_forever y recommend\n",
    "Hacemos un left joins porque no todos los usuarios , han hecho recomendaciones\n"
   ]
  },
  {
   "cell_type": "code",
   "execution_count": 5,
   "metadata": {},
   "outputs": [],
   "source": [
    "df_user_item = pd.merge(user_items, user_reviews[['user_id', 'recommend']], on='user_id', how='left')\n",
    "\n",
    "# Seleccionar las columnas deseadas\n",
    "df_user_item = df_user_item[['user_id', 'items_count', 'item_id', 'item_name', 'playtime_forever', 'recommend']]"
   ]
  },
  {
   "cell_type": "code",
   "execution_count": 6,
   "metadata": {},
   "outputs": [
    {
     "data": {
      "text/html": [
       "<div>\n",
       "<style scoped>\n",
       "    .dataframe tbody tr th:only-of-type {\n",
       "        vertical-align: middle;\n",
       "    }\n",
       "\n",
       "    .dataframe tbody tr th {\n",
       "        vertical-align: top;\n",
       "    }\n",
       "\n",
       "    .dataframe thead th {\n",
       "        text-align: right;\n",
       "    }\n",
       "</style>\n",
       "<table border=\"1\" class=\"dataframe\">\n",
       "  <thead>\n",
       "    <tr style=\"text-align: right;\">\n",
       "      <th></th>\n",
       "      <th>user_id</th>\n",
       "      <th>items_count</th>\n",
       "      <th>item_id</th>\n",
       "      <th>item_name</th>\n",
       "      <th>playtime_forever</th>\n",
       "      <th>recommend</th>\n",
       "    </tr>\n",
       "  </thead>\n",
       "  <tbody>\n",
       "    <tr>\n",
       "      <th>0</th>\n",
       "      <td>76561197970982479</td>\n",
       "      <td>277</td>\n",
       "      <td>10</td>\n",
       "      <td>Counter-Strike</td>\n",
       "      <td>6</td>\n",
       "      <td>True</td>\n",
       "    </tr>\n",
       "    <tr>\n",
       "      <th>1</th>\n",
       "      <td>76561197970982479</td>\n",
       "      <td>277</td>\n",
       "      <td>10</td>\n",
       "      <td>Counter-Strike</td>\n",
       "      <td>6</td>\n",
       "      <td>True</td>\n",
       "    </tr>\n",
       "    <tr>\n",
       "      <th>2</th>\n",
       "      <td>76561197970982479</td>\n",
       "      <td>277</td>\n",
       "      <td>10</td>\n",
       "      <td>Counter-Strike</td>\n",
       "      <td>6</td>\n",
       "      <td>True</td>\n",
       "    </tr>\n",
       "    <tr>\n",
       "      <th>3</th>\n",
       "      <td>76561197970982479</td>\n",
       "      <td>277</td>\n",
       "      <td>20</td>\n",
       "      <td>Team Fortress Classic</td>\n",
       "      <td>0</td>\n",
       "      <td>True</td>\n",
       "    </tr>\n",
       "    <tr>\n",
       "      <th>4</th>\n",
       "      <td>76561197970982479</td>\n",
       "      <td>277</td>\n",
       "      <td>20</td>\n",
       "      <td>Team Fortress Classic</td>\n",
       "      <td>0</td>\n",
       "      <td>True</td>\n",
       "    </tr>\n",
       "    <tr>\n",
       "      <th>...</th>\n",
       "      <td>...</td>\n",
       "      <td>...</td>\n",
       "      <td>...</td>\n",
       "      <td>...</td>\n",
       "      <td>...</td>\n",
       "      <td>...</td>\n",
       "    </tr>\n",
       "    <tr>\n",
       "      <th>9965094</th>\n",
       "      <td>76561198329548331</td>\n",
       "      <td>7</td>\n",
       "      <td>346330</td>\n",
       "      <td>BrainBread 2</td>\n",
       "      <td>0</td>\n",
       "      <td>NaN</td>\n",
       "    </tr>\n",
       "    <tr>\n",
       "      <th>9965095</th>\n",
       "      <td>76561198329548331</td>\n",
       "      <td>7</td>\n",
       "      <td>373330</td>\n",
       "      <td>All Is Dust</td>\n",
       "      <td>0</td>\n",
       "      <td>NaN</td>\n",
       "    </tr>\n",
       "    <tr>\n",
       "      <th>9965096</th>\n",
       "      <td>76561198329548331</td>\n",
       "      <td>7</td>\n",
       "      <td>388490</td>\n",
       "      <td>One Way To Die: Steam Edition</td>\n",
       "      <td>3</td>\n",
       "      <td>NaN</td>\n",
       "    </tr>\n",
       "    <tr>\n",
       "      <th>9965097</th>\n",
       "      <td>76561198329548331</td>\n",
       "      <td>7</td>\n",
       "      <td>521570</td>\n",
       "      <td>You Have 10 Seconds 2</td>\n",
       "      <td>4</td>\n",
       "      <td>NaN</td>\n",
       "    </tr>\n",
       "    <tr>\n",
       "      <th>9965098</th>\n",
       "      <td>76561198329548331</td>\n",
       "      <td>7</td>\n",
       "      <td>519140</td>\n",
       "      <td>Minds Eyes</td>\n",
       "      <td>3</td>\n",
       "      <td>NaN</td>\n",
       "    </tr>\n",
       "  </tbody>\n",
       "</table>\n",
       "<p>9965099 rows × 6 columns</p>\n",
       "</div>"
      ],
      "text/plain": [
       "                   user_id  items_count  item_id  \\\n",
       "0        76561197970982479          277       10   \n",
       "1        76561197970982479          277       10   \n",
       "2        76561197970982479          277       10   \n",
       "3        76561197970982479          277       20   \n",
       "4        76561197970982479          277       20   \n",
       "...                    ...          ...      ...   \n",
       "9965094  76561198329548331            7   346330   \n",
       "9965095  76561198329548331            7   373330   \n",
       "9965096  76561198329548331            7   388490   \n",
       "9965097  76561198329548331            7   521570   \n",
       "9965098  76561198329548331            7   519140   \n",
       "\n",
       "                             item_name  playtime_forever recommend  \n",
       "0                       Counter-Strike                 6      True  \n",
       "1                       Counter-Strike                 6      True  \n",
       "2                       Counter-Strike                 6      True  \n",
       "3                Team Fortress Classic                 0      True  \n",
       "4                Team Fortress Classic                 0      True  \n",
       "...                                ...               ...       ...  \n",
       "9965094                   BrainBread 2                 0       NaN  \n",
       "9965095                    All Is Dust                 0       NaN  \n",
       "9965096  One Way To Die: Steam Edition                 3       NaN  \n",
       "9965097          You Have 10 Seconds 2                 4       NaN  \n",
       "9965098                     Minds Eyes                 3       NaN  \n",
       "\n",
       "[9965099 rows x 6 columns]"
      ]
     },
     "execution_count": 6,
     "metadata": {},
     "output_type": "execute_result"
    }
   ],
   "source": [
    "df_user_item"
   ]
  },
  {
   "cell_type": "code",
   "execution_count": 7,
   "metadata": {},
   "outputs": [],
   "source": [
    "# Agrupar por user_id, item_name y mantener las columnas necesarias\n",
    "df_user_item = df_user_item.groupby(['user_id', 'item_name']).agg({\n",
    "    'items_count': 'first',  # Puedes usar 'first' para mantener un valor único\n",
    "    'playtime_forever': 'sum',\n",
    "    'recommend': 'first'  # Similar a 'items_count', selecciona el primer valor\n",
    "}).reset_index()"
   ]
  },
  {
   "cell_type": "markdown",
   "metadata": {},
   "source": [
    "## Preprosesamiento de los datos"
   ]
  },
  {
   "cell_type": "markdown",
   "metadata": {},
   "source": [
    "Para saber que usuarios son parecidos con las columnas que tenemos son las columnas de items_count y playtime_forever"
   ]
  },
  {
   "cell_type": "code",
   "execution_count": 8,
   "metadata": {},
   "outputs": [],
   "source": [
    "# Agrupar por user_id\n",
    "df_user_item_ML = df_user_item.groupby(['user_id']).agg({\n",
    "    'items_count': 'first',  # Puedes usar 'first' para mantener un valor único\n",
    "    'playtime_forever': 'sum',\n",
    "}).reset_index()"
   ]
  },
  {
   "cell_type": "markdown",
   "metadata": {},
   "source": [
    "Por el EDA sabemos que las columnas items_counts y playtime_forever estan sesgadas a la derecha por lo que se aplicada una transformacion logaritmica"
   ]
  },
  {
   "cell_type": "code",
   "execution_count": 9,
   "metadata": {},
   "outputs": [],
   "source": [
    "# Aplicar transformación logarítmica a las columnas\n",
    "df_user_item_ML['items_count'] = np.log1p(df_user_item_ML['items_count'])\n",
    "df_user_item_ML['playtime_forever'] = np.log1p(df_user_item_ML['playtime_forever'])"
   ]
  },
  {
   "cell_type": "code",
   "execution_count": 10,
   "metadata": {},
   "outputs": [
    {
     "data": {
      "text/plain": [
       "Index(['user_id', 'items_count', 'playtime_forever'], dtype='object')"
      ]
     },
     "execution_count": 10,
     "metadata": {},
     "output_type": "execute_result"
    }
   ],
   "source": [
    "df_user_item_ML.columns"
   ]
  },
  {
   "cell_type": "markdown",
   "metadata": {},
   "source": [
    "Creamos un dataframe con dos columnas una del id del usuario y otra con su lista de recomendaciones"
   ]
  },
  {
   "cell_type": "code",
   "execution_count": 11,
   "metadata": {},
   "outputs": [],
   "source": [
    "# Rellenar los valores nulos en la columna 'recommend' con False\n",
    "df_user_item['recommend'] = df_user_item['recommend'].fillna(False)\n",
    "# Filtrar solo las filas con recommend igual a True\n",
    "df_user_item = df_user_item[df_user_item['recommend']]\n",
    "\n",
    "# Agrupar por user_id y agregar una lista de juegos recomendados\n",
    "df_user_item = df_user_item.groupby('user_id').agg({'item_name': list}).reset_index()\n"
   ]
  },
  {
   "cell_type": "code",
   "execution_count": 23,
   "metadata": {},
   "outputs": [
    {
     "data": {
      "text/html": [
       "<div>\n",
       "<style scoped>\n",
       "    .dataframe tbody tr th:only-of-type {\n",
       "        vertical-align: middle;\n",
       "    }\n",
       "\n",
       "    .dataframe tbody tr th {\n",
       "        vertical-align: top;\n",
       "    }\n",
       "\n",
       "    .dataframe thead th {\n",
       "        text-align: right;\n",
       "    }\n",
       "</style>\n",
       "<table border=\"1\" class=\"dataframe\">\n",
       "  <thead>\n",
       "    <tr style=\"text-align: right;\">\n",
       "      <th></th>\n",
       "      <th>user_id</th>\n",
       "      <th>item_name</th>\n",
       "    </tr>\n",
       "  </thead>\n",
       "  <tbody>\n",
       "    <tr>\n",
       "      <th>0</th>\n",
       "      <td>--000--</td>\n",
       "      <td>[ACE - Arena: Cyber Evolution, APB Reloaded, A...</td>\n",
       "    </tr>\n",
       "    <tr>\n",
       "      <th>1</th>\n",
       "      <td>--ace--</td>\n",
       "      <td>[8BitBoy, AdVenture Capitalist, BattleBlock Th...</td>\n",
       "    </tr>\n",
       "    <tr>\n",
       "      <th>2</th>\n",
       "      <td>--ionex--</td>\n",
       "      <td>[Another World, Call of Duty: Modern Warfare 2...</td>\n",
       "    </tr>\n",
       "    <tr>\n",
       "      <th>3</th>\n",
       "      <td>-2SV-vuLB-Kg</td>\n",
       "      <td>[16 Bit Arena, 16bit Trader, A grande bagun√ßa...</td>\n",
       "    </tr>\n",
       "    <tr>\n",
       "      <th>4</th>\n",
       "      <td>-Azsael-</td>\n",
       "      <td>[Amnesia: A Machine for Pigs, Anno 2070, Arcan...</td>\n",
       "    </tr>\n",
       "    <tr>\n",
       "      <th>...</th>\n",
       "      <td>...</td>\n",
       "      <td>...</td>\n",
       "    </tr>\n",
       "    <tr>\n",
       "      <th>20157</th>\n",
       "      <td>zwanzigdrei</td>\n",
       "      <td>[Always Sometimes Monsters, Archeblade, Awesom...</td>\n",
       "    </tr>\n",
       "    <tr>\n",
       "      <th>20158</th>\n",
       "      <td>zy0705</td>\n",
       "      <td>[Dota 2 Test, Marvel Heroes 2016, Realm of the...</td>\n",
       "    </tr>\n",
       "    <tr>\n",
       "      <th>20159</th>\n",
       "      <td>zynxgameth</td>\n",
       "      <td>[Awesomenauts, BattleBlock Theater, Broforce, ...</td>\n",
       "    </tr>\n",
       "    <tr>\n",
       "      <th>20160</th>\n",
       "      <td>zyr0n1c</td>\n",
       "      <td>[Agarest: Generations of War, America's Army: ...</td>\n",
       "    </tr>\n",
       "    <tr>\n",
       "      <th>20161</th>\n",
       "      <td>zzoptimuszz</td>\n",
       "      <td>[ARK: Survival Of The Fittest, Atlas Reactor, ...</td>\n",
       "    </tr>\n",
       "  </tbody>\n",
       "</table>\n",
       "<p>20162 rows × 2 columns</p>\n",
       "</div>"
      ],
      "text/plain": [
       "            user_id                                          item_name\n",
       "0           --000--  [ACE - Arena: Cyber Evolution, APB Reloaded, A...\n",
       "1           --ace--  [8BitBoy, AdVenture Capitalist, BattleBlock Th...\n",
       "2         --ionex--  [Another World, Call of Duty: Modern Warfare 2...\n",
       "3      -2SV-vuLB-Kg  [16 Bit Arena, 16bit Trader, A grande bagun√ßa...\n",
       "4          -Azsael-  [Amnesia: A Machine for Pigs, Anno 2070, Arcan...\n",
       "...             ...                                                ...\n",
       "20157   zwanzigdrei  [Always Sometimes Monsters, Archeblade, Awesom...\n",
       "20158        zy0705  [Dota 2 Test, Marvel Heroes 2016, Realm of the...\n",
       "20159    zynxgameth  [Awesomenauts, BattleBlock Theater, Broforce, ...\n",
       "20160       zyr0n1c  [Agarest: Generations of War, America's Army: ...\n",
       "20161   zzoptimuszz  [ARK: Survival Of The Fittest, Atlas Reactor, ...\n",
       "\n",
       "[20162 rows x 2 columns]"
      ]
     },
     "execution_count": 23,
     "metadata": {},
     "output_type": "execute_result"
    }
   ],
   "source": [
    "df_user_item"
   ]
  },
  {
   "cell_type": "markdown",
   "metadata": {},
   "source": [
    "### Modelo"
   ]
  },
  {
   "cell_type": "code",
   "execution_count": 15,
   "metadata": {},
   "outputs": [
    {
     "name": "stdout",
     "output_type": "stream",
     "text": [
      "                 user_id                                      similar_users\n",
      "0                --000--  [76561197963538874, 76561198006074188, 7656119...\n",
      "1                --ace--  [76561197994950912, 76561198037453247, 7656119...\n",
      "2              --ionex--  [76561197960499156, 2092000666, 76561198038604...\n",
      "3           -2SV-vuLB-Kg  [76561198043082457, 76561197967856025, 7656119...\n",
      "4      -404PageNotFound-  [12435gg, 76561198014300427, 76561197969020980...\n",
      "...                  ...                                                ...\n",
      "70907             zzonci  [stevieisawesome, killermemestar123, kydmar, m...\n",
      "70908        zzoptimuszz  [sparid, lynchyknight1, misterwolfshanks, piku...\n",
      "70909            zzydrax  [leejiajun, jerejosh2, maddydufall, secretlego...\n",
      "70910              zzyfo  [kennygetsu, l3wis992, ladysaphera, william079...\n",
      "70911         zzzmidmiss  [sbotfield0211, rawritspeter, samzero, jaice, ...\n",
      "\n",
      "[70912 rows x 2 columns]\n",
      "                 user_id                                      similar_users\n",
      "0                --000--  [76561197963538874, 76561198006074188, 7656119...\n",
      "1                --ace--  [76561197994950912, 76561198037453247, 7656119...\n",
      "2              --ionex--  [76561197960499156, 2092000666, 76561198038604...\n",
      "3           -2SV-vuLB-Kg  [76561198043082457, 76561197967856025, 7656119...\n",
      "4      -404PageNotFound-  [12435gg, 76561198014300427, 76561197969020980...\n",
      "...                  ...                                                ...\n",
      "70907             zzonci  [stevieisawesome, killermemestar123, kydmar, m...\n",
      "70908        zzoptimuszz  [sparid, lynchyknight1, misterwolfshanks, piku...\n",
      "70909            zzydrax  [leejiajun, jerejosh2, maddydufall, secretlego...\n",
      "70910              zzyfo  [kennygetsu, l3wis992, ladysaphera, william079...\n",
      "70911         zzzmidmiss  [sbotfield0211, rawritspeter, samzero, jaice, ...\n",
      "\n",
      "[70912 rows x 2 columns]\n"
     ]
    }
   ],
   "source": [
    "\n",
    "# Dividir el conjunto de datos en partes más pequeñas\n",
    "chunk_size = 10000\n",
    "num_chunks = len(df_user_item_ML) // chunk_size\n",
    "chunks = np.array_split(df_user_item_ML, num_chunks)\n",
    "\n",
    "# Inicializar una lista para almacenar los resultados\n",
    "similar_users_list = []\n",
    "\n",
    "# Encontrar el número mínimo de columnas entre todas las matrices\n",
    "min_columns = float('inf')\n",
    "\n",
    "# Encontrar y almacenar los 5 usuarios más similares para cada parte\n",
    "for chunk in chunks:\n",
    "    user_features = chunk[['items_count', 'playtime_forever']]\n",
    "    cosine_sim_chunk = cosine_similarity(user_features)\n",
    "\n",
    "    # Actualizar el número mínimo de columnas\n",
    "    min_columns = min(min_columns, cosine_sim_chunk.shape[1])\n",
    "    \n",
    "    # Encontrar los 5 usuarios más similares para cada usuario en la parte actual\n",
    "    for i, user_id in enumerate(chunk['user_id']):\n",
    "        similar_users = chunk['user_id'].iloc[cosine_sim_chunk[i].argsort()[::-1][1:6]].tolist()\n",
    "        similar_users_list.append({'user_id': user_id, 'similar_users': similar_users})\n",
    "\n",
    "# Ajustar todas las matrices para tener el mismo número de columnas\n",
    "adjusted_similar_users_list = [{'user_id': entry['user_id'], 'similar_users': entry['similar_users'][:min_columns]} for entry in similar_users_list]\n",
    "\n",
    "# Crear un DataFrame a partir de la lista de resultados\n",
    "result_df = pd.DataFrame(adjusted_similar_users_list)\n",
    "\n",
    "# Mostrar el DataFrame resultante\n",
    "print(result_df)\n",
    "\n",
    "\n",
    "# Dividir el conjunto de datos en partes más pequeñas\n",
    "chunk_size = 10000\n",
    "num_chunks = len(df_user_item_ML) // chunk_size\n",
    "chunks = np.array_split(df_user_item_ML, num_chunks)\n",
    "\n",
    "# Inicializar una lista para almacenar los resultados\n",
    "similar_users_list = []\n",
    "\n",
    "# Encontrar el número mínimo de columnas entre todas las matrices\n",
    "min_columns = float('inf')\n",
    "\n",
    "# Encontrar y almacenar los 5 usuarios más similares para cada parte\n",
    "for chunk in chunks:\n",
    "    user_features = chunk[['items_count', 'playtime_forever']]\n",
    "    cosine_sim_chunk = cosine_similarity(user_features)\n",
    "\n",
    "    # Actualizar el número mínimo de columnas\n",
    "    min_columns = min(min_columns, cosine_sim_chunk.shape[1])\n",
    "    \n",
    "    # Encontrar los 5 usuarios más similares para cada usuario en la parte actual\n",
    "    for i, user_id in enumerate(chunk['user_id']):\n",
    "        similar_users = chunk['user_id'].iloc[cosine_sim_chunk[i].argsort()[::-1][1:6]].tolist()\n",
    "        similar_users_list.append({'user_id': user_id, 'similar_users': similar_users})\n",
    "\n",
    "# Ajustar todas las matrices para tener el mismo número de columnas\n",
    "adjusted_similar_users_list = [{'user_id': entry['user_id'], 'similar_users': entry['similar_users'][:min_columns]} for entry in similar_users_list]\n",
    "\n",
    "# Crear un DataFrame a partir de la lista de resultados\n",
    "result_df = pd.DataFrame(adjusted_similar_users_list)\n"
   ]
  },
  {
   "cell_type": "code",
   "execution_count": 21,
   "metadata": {},
   "outputs": [],
   "source": [
    "# Realizar left join\n",
    "merged_df = pd.merge(result_df, df_user_item, how='left', left_on='user_id', right_on='user_id')\n",
    "\n",
    "# Agrupar por 'user_id' y crear una lista de juegos recomendados\n",
    "result_df_final = merged_df.groupby('user_id')['item_name'].apply(list).reset_index()\n",
    "\n",
    "# Renombrar las columnas\n",
    "result_df_final.columns = ['user_id', 'recomendaciones']\n"
   ]
  },
  {
   "cell_type": "code",
   "execution_count": 66,
   "metadata": {},
   "outputs": [],
   "source": [
    "## Explode la columna similar_users para tener un usuario similar por fila\n",
    "user_item = result_df.explode('similar_users')\n",
    "#Concatenamos similar_users con df_user_item[user_id]\n",
    "# Realizar left join\n",
    "user_item = pd.merge(user_item, df_user_item, how='left', left_on='similar_users', right_on='user_id')\n",
    "#Filtramos los nan\n",
    "user_item.dropna(inplace=True)\n",
    "#Seleccionamos las columnas que nos interesa\n",
    "# Seleccionar las columnas relevantes\n",
    "user_item = user_item[['user_id_x', 'item_name']]\n",
    "#Renombramos las columnas\n",
    "user_item.columns = ['user_id', 'recomendaciones']\n",
    "#Como hay mas de un usuario similar que hizo recomendaciones , hay varias filas por user_id , agrupamos\n",
    "user_item = user_item.groupby('user_id')['recomendaciones'].sum().reset_index()\n",
    "#Filtramos los primeros elementos de la lista de recomendaciones\n",
    "user_item['recomendaciones'] = user_item['recomendaciones'].apply(lambda x: x[:5])\n"
   ]
  },
  {
   "cell_type": "code",
   "execution_count": 67,
   "metadata": {},
   "outputs": [
    {
     "data": {
      "text/html": [
       "<div>\n",
       "<style scoped>\n",
       "    .dataframe tbody tr th:only-of-type {\n",
       "        vertical-align: middle;\n",
       "    }\n",
       "\n",
       "    .dataframe tbody tr th {\n",
       "        vertical-align: top;\n",
       "    }\n",
       "\n",
       "    .dataframe thead th {\n",
       "        text-align: right;\n",
       "    }\n",
       "</style>\n",
       "<table border=\"1\" class=\"dataframe\">\n",
       "  <thead>\n",
       "    <tr style=\"text-align: right;\">\n",
       "      <th></th>\n",
       "      <th>user_id</th>\n",
       "      <th>recomendaciones</th>\n",
       "    </tr>\n",
       "  </thead>\n",
       "  <tbody>\n",
       "    <tr>\n",
       "      <th>0</th>\n",
       "      <td>--000--</td>\n",
       "      <td>[ARK: Survival Evolved, ARK: Survival Of The F...</td>\n",
       "    </tr>\n",
       "    <tr>\n",
       "      <th>1</th>\n",
       "      <td>--ace--</td>\n",
       "      <td>[Alan Wake, Alan Wake's American Nightmare, As...</td>\n",
       "    </tr>\n",
       "    <tr>\n",
       "      <th>2</th>\n",
       "      <td>--ionex--</td>\n",
       "      <td>[A.V.A - Alliance of Valiant Arms, Afterfall I...</td>\n",
       "    </tr>\n",
       "    <tr>\n",
       "      <th>3</th>\n",
       "      <td>-2SV-vuLB-Kg</td>\n",
       "      <td>[Age of Empires II: HD Edition, Age of Empires...</td>\n",
       "    </tr>\n",
       "    <tr>\n",
       "      <th>4</th>\n",
       "      <td>-404PageNotFound-</td>\n",
       "      <td>[3DMark, 7 Days to Die, Age of Empires II: HD ...</td>\n",
       "    </tr>\n",
       "    <tr>\n",
       "      <th>...</th>\n",
       "      <td>...</td>\n",
       "      <td>...</td>\n",
       "    </tr>\n",
       "    <tr>\n",
       "      <th>51914</th>\n",
       "      <td>zzonci</td>\n",
       "      <td>[ACE COMBAT‚Ñ¢ ASSAULT HORIZON Enhanced Editio...</td>\n",
       "    </tr>\n",
       "    <tr>\n",
       "      <th>51915</th>\n",
       "      <td>zzoptimuszz</td>\n",
       "      <td>[7 Days to Die, Age of Empires II: HD Edition,...</td>\n",
       "    </tr>\n",
       "    <tr>\n",
       "      <th>51916</th>\n",
       "      <td>zzydrax</td>\n",
       "      <td>[ARK: Survival Evolved, ARK: Survival Of The F...</td>\n",
       "    </tr>\n",
       "    <tr>\n",
       "      <th>51917</th>\n",
       "      <td>zzyfo</td>\n",
       "      <td>[Ace of Spades, Anomaly Warzone Earth, Aquaria...</td>\n",
       "    </tr>\n",
       "    <tr>\n",
       "      <th>51918</th>\n",
       "      <td>zzzmidmiss</td>\n",
       "      <td>[ARK: Survival Evolved, ARK: Survival Of The F...</td>\n",
       "    </tr>\n",
       "  </tbody>\n",
       "</table>\n",
       "<p>51919 rows × 2 columns</p>\n",
       "</div>"
      ],
      "text/plain": [
       "                 user_id                                    recomendaciones\n",
       "0                --000--  [ARK: Survival Evolved, ARK: Survival Of The F...\n",
       "1                --ace--  [Alan Wake, Alan Wake's American Nightmare, As...\n",
       "2              --ionex--  [A.V.A - Alliance of Valiant Arms, Afterfall I...\n",
       "3           -2SV-vuLB-Kg  [Age of Empires II: HD Edition, Age of Empires...\n",
       "4      -404PageNotFound-  [3DMark, 7 Days to Die, Age of Empires II: HD ...\n",
       "...                  ...                                                ...\n",
       "51914             zzonci  [ACE COMBAT‚Ñ¢ ASSAULT HORIZON Enhanced Editio...\n",
       "51915        zzoptimuszz  [7 Days to Die, Age of Empires II: HD Edition,...\n",
       "51916            zzydrax  [ARK: Survival Evolved, ARK: Survival Of The F...\n",
       "51917              zzyfo  [Ace of Spades, Anomaly Warzone Earth, Aquaria...\n",
       "51918         zzzmidmiss  [ARK: Survival Evolved, ARK: Survival Of The F...\n",
       "\n",
       "[51919 rows x 2 columns]"
      ]
     },
     "execution_count": 67,
     "metadata": {},
     "output_type": "execute_result"
    }
   ],
   "source": [
    "user_item"
   ]
  },
  {
   "cell_type": "code",
   "execution_count": 68,
   "metadata": {},
   "outputs": [],
   "source": [
    "user_item.to_csv('..\\\\Datsets\\\\ModeloML\\\\recomendacion_user_item.csv', index=False)"
   ]
  },
  {
   "cell_type": "code",
   "execution_count": 69,
   "metadata": {},
   "outputs": [],
   "source": [
    "\n",
    "def recomendacion_user_item(user_id):\n",
    "    \"\"\"\n",
    "    Retorna la lista de recomendaciones para un usuario específico.\n",
    "\n",
    "    Parameters:\n",
    "    - user_item: DataFrame que contiene las columnas user_id y recomendaciones.\n",
    "    - user_id: El usuario para el cual se desea obtener las recomendaciones.\n",
    "\n",
    "    Returns:\n",
    "    - Lista de recomendaciones para el usuario especificado.\n",
    "    \"\"\"\n",
    "    # Filtra el DataFrame para obtener solo las filas correspondientes al usuario dado\n",
    "    usuario_filtro = user_item[user_item['user_id'] == user_id]\n",
    "\n",
    "    # Verifica si el usuario existe en el DataFrame\n",
    "    if usuario_filtro.empty:\n",
    "        return f\"No se encontraron recomendaciones para el usuario {user_id}\"\n",
    "\n",
    "    # Concatena las listas de recomendaciones correspondientes al usuario\n",
    "    recomendaciones_usuario = usuario_filtro['recomendaciones'].sum()[0:5]\n",
    "\n",
    "    return recomendaciones_usuario\n",
    "\n",
    "\n"
   ]
  },
  {
   "cell_type": "code",
   "execution_count": 70,
   "metadata": {},
   "outputs": [
    {
     "name": "stdout",
     "output_type": "stream",
     "text": [
      "Recomendaciones para el usuario --000--:\n",
      "['ARK: Survival Evolved', 'ARK: Survival Of The Fittest', 'Amnesia: The Dark Descent', 'Archeblade', 'Blacklight: Retribution']\n"
     ]
    }
   ],
   "source": [
    "# Ejemplo de uso:\n",
    "usuario_deseado = '--000--'\n",
    "recomendaciones_para_usuario = recomendacion_user_item (usuario_deseado)\n",
    "print(f\"Recomendaciones para el usuario {usuario_deseado}:\\n{recomendaciones_para_usuario}\")"
   ]
  }
 ],
 "metadata": {
  "kernelspec": {
   "display_name": "Python 3",
   "language": "python",
   "name": "python3"
  },
  "language_info": {
   "codemirror_mode": {
    "name": "ipython",
    "version": 3
   },
   "file_extension": ".py",
   "mimetype": "text/x-python",
   "name": "python",
   "nbconvert_exporter": "python",
   "pygments_lexer": "ipython3",
   "version": "3.11.6"
  }
 },
 "nbformat": 4,
 "nbformat_minor": 2
}
