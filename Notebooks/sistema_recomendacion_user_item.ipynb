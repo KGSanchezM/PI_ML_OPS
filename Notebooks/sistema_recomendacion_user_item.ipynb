{
 "cells": [
  {
   "cell_type": "markdown",
   "metadata": {},
   "source": [
    "# Recomendación Usuario-Item\n",
    "\n",
    "Crear un sistema de recomendación donde la entrada sea un usuario, identifique usuarios similares y recomiende juegos basados en las preferencias de esos usuarios. La entrada es un usuario, y la salida es una lista de juegos recomendados para ese usuario. Para lograr esto, se utilizará la similitud del coseno."
   ]
  },
  {
   "cell_type": "markdown",
   "metadata": {},
   "source": [
    "### Importamos las librerías"
   ]
  },
  {
   "cell_type": "code",
   "execution_count": 74,
   "metadata": {},
   "outputs": [],
   "source": [
    "import pandas as pd\n",
    "import matplotlib.pyplot as plt\n",
    "import numpy as np\n",
    "from sklearn.metrics.pairwise import cosine_similarity"
   ]
  },
  {
   "cell_type": "markdown",
   "metadata": {},
   "source": [
    "### Lectura del archivo CSV"
   ]
  },
  {
   "cell_type": "code",
   "execution_count": 75,
   "metadata": {},
   "outputs": [],
   "source": [
    "user_items = pd.read_csv('..\\\\Datsets\\\\CSV\\\\user_items.csv')\n",
    "user_reviews = pd.read_csv('..\\\\Datsets\\\\CSV\\\\user_reviews.csv')"
   ]
  },
  {
   "cell_type": "markdown",
   "metadata": {},
   "source": [
    "Columnas necesarias: user_id, items_count, item_id, item_name, playtime_forever y recommend.\n",
    "\n",
    "Realizamos un \"left join\" porque no todos los usuarios que están en el DataFrame de user_items han hecho recomendaciones."
   ]
  },
  {
   "cell_type": "code",
   "execution_count": 76,
   "metadata": {},
   "outputs": [],
   "source": [
    "#Concatenamos los dataframes\n",
    "df_usuario_item = pd.merge(user_items, user_reviews[['user_id', 'recommend']], on='user_id', how='left')\n",
    "\n",
    "# Seleccionar las columnas deseadas\n",
    "df_usuario_item = df_usuario_item[['user_id', 'items_count', 'item_id', 'item_name', 'playtime_forever', 'recommend']]"
   ]
  },
  {
   "cell_type": "code",
   "execution_count": 77,
   "metadata": {},
   "outputs": [
    {
     "data": {
      "text/html": [
       "<div>\n",
       "<style scoped>\n",
       "    .dataframe tbody tr th:only-of-type {\n",
       "        vertical-align: middle;\n",
       "    }\n",
       "\n",
       "    .dataframe tbody tr th {\n",
       "        vertical-align: top;\n",
       "    }\n",
       "\n",
       "    .dataframe thead th {\n",
       "        text-align: right;\n",
       "    }\n",
       "</style>\n",
       "<table border=\"1\" class=\"dataframe\">\n",
       "  <thead>\n",
       "    <tr style=\"text-align: right;\">\n",
       "      <th></th>\n",
       "      <th>user_id</th>\n",
       "      <th>items_count</th>\n",
       "      <th>item_id</th>\n",
       "      <th>item_name</th>\n",
       "      <th>playtime_forever</th>\n",
       "      <th>recommend</th>\n",
       "    </tr>\n",
       "  </thead>\n",
       "  <tbody>\n",
       "    <tr>\n",
       "      <th>0</th>\n",
       "      <td>76561197970982479</td>\n",
       "      <td>277</td>\n",
       "      <td>10</td>\n",
       "      <td>Counter-Strike</td>\n",
       "      <td>6</td>\n",
       "      <td>True</td>\n",
       "    </tr>\n",
       "    <tr>\n",
       "      <th>1</th>\n",
       "      <td>76561197970982479</td>\n",
       "      <td>277</td>\n",
       "      <td>10</td>\n",
       "      <td>Counter-Strike</td>\n",
       "      <td>6</td>\n",
       "      <td>True</td>\n",
       "    </tr>\n",
       "    <tr>\n",
       "      <th>2</th>\n",
       "      <td>76561197970982479</td>\n",
       "      <td>277</td>\n",
       "      <td>10</td>\n",
       "      <td>Counter-Strike</td>\n",
       "      <td>6</td>\n",
       "      <td>True</td>\n",
       "    </tr>\n",
       "    <tr>\n",
       "      <th>3</th>\n",
       "      <td>76561197970982479</td>\n",
       "      <td>277</td>\n",
       "      <td>20</td>\n",
       "      <td>Team Fortress Classic</td>\n",
       "      <td>0</td>\n",
       "      <td>True</td>\n",
       "    </tr>\n",
       "    <tr>\n",
       "      <th>4</th>\n",
       "      <td>76561197970982479</td>\n",
       "      <td>277</td>\n",
       "      <td>20</td>\n",
       "      <td>Team Fortress Classic</td>\n",
       "      <td>0</td>\n",
       "      <td>True</td>\n",
       "    </tr>\n",
       "  </tbody>\n",
       "</table>\n",
       "</div>"
      ],
      "text/plain": [
       "             user_id  items_count  item_id              item_name  \\\n",
       "0  76561197970982479          277       10         Counter-Strike   \n",
       "1  76561197970982479          277       10         Counter-Strike   \n",
       "2  76561197970982479          277       10         Counter-Strike   \n",
       "3  76561197970982479          277       20  Team Fortress Classic   \n",
       "4  76561197970982479          277       20  Team Fortress Classic   \n",
       "\n",
       "   playtime_forever recommend  \n",
       "0                 6      True  \n",
       "1                 6      True  \n",
       "2                 6      True  \n",
       "3                 0      True  \n",
       "4                 0      True  "
      ]
     },
     "execution_count": 77,
     "metadata": {},
     "output_type": "execute_result"
    }
   ],
   "source": [
    "df_usuario_item.head()"
   ]
  },
  {
   "cell_type": "markdown",
   "metadata": {},
   "source": [
    "Necesitamos agrupar por user_id e item_name. Dado que la columna items_count se repite para cada usuario, utilizaremos el primer valor. La columna playtime_forever se sumará por juego y por user_id. Similarmente, la columna recommend se manejará de la misma manera que item_name."
   ]
  },
  {
   "cell_type": "code",
   "execution_count": 78,
   "metadata": {},
   "outputs": [],
   "source": [
    "# Agrupar por user_id, item_name y mantener las columnas necesarias\n",
    "df_usuario_item = df_usuario_item.groupby(['user_id', 'item_name']).agg({\n",
    "    'items_count': 'first',  #  usar 'first' para mantener un valor único\n",
    "    'playtime_forever': 'sum',\n",
    "    'recommend': 'first'  # Similar a 'items_count', selecciona el primer valor\n",
    "}).reset_index()"
   ]
  },
  {
   "cell_type": "code",
   "execution_count": 79,
   "metadata": {},
   "outputs": [
    {
     "data": {
      "text/html": [
       "<div>\n",
       "<style scoped>\n",
       "    .dataframe tbody tr th:only-of-type {\n",
       "        vertical-align: middle;\n",
       "    }\n",
       "\n",
       "    .dataframe tbody tr th {\n",
       "        vertical-align: top;\n",
       "    }\n",
       "\n",
       "    .dataframe thead th {\n",
       "        text-align: right;\n",
       "    }\n",
       "</style>\n",
       "<table border=\"1\" class=\"dataframe\">\n",
       "  <thead>\n",
       "    <tr style=\"text-align: right;\">\n",
       "      <th></th>\n",
       "      <th>user_id</th>\n",
       "      <th>item_name</th>\n",
       "      <th>items_count</th>\n",
       "      <th>playtime_forever</th>\n",
       "      <th>recommend</th>\n",
       "    </tr>\n",
       "  </thead>\n",
       "  <tbody>\n",
       "    <tr>\n",
       "      <th>0</th>\n",
       "      <td>--000--</td>\n",
       "      <td>ACE - Arena: Cyber Evolution</td>\n",
       "      <td>58</td>\n",
       "      <td>0</td>\n",
       "      <td>True</td>\n",
       "    </tr>\n",
       "    <tr>\n",
       "      <th>1</th>\n",
       "      <td>--000--</td>\n",
       "      <td>APB Reloaded</td>\n",
       "      <td>58</td>\n",
       "      <td>2763</td>\n",
       "      <td>True</td>\n",
       "    </tr>\n",
       "    <tr>\n",
       "      <th>2</th>\n",
       "      <td>--000--</td>\n",
       "      <td>AdVenture Capitalist</td>\n",
       "      <td>58</td>\n",
       "      <td>0</td>\n",
       "      <td>True</td>\n",
       "    </tr>\n",
       "    <tr>\n",
       "      <th>3</th>\n",
       "      <td>--000--</td>\n",
       "      <td>Apotheon Arena</td>\n",
       "      <td>58</td>\n",
       "      <td>74</td>\n",
       "      <td>True</td>\n",
       "    </tr>\n",
       "    <tr>\n",
       "      <th>4</th>\n",
       "      <td>--000--</td>\n",
       "      <td>BLOCKADE 3D</td>\n",
       "      <td>58</td>\n",
       "      <td>445</td>\n",
       "      <td>True</td>\n",
       "    </tr>\n",
       "  </tbody>\n",
       "</table>\n",
       "</div>"
      ],
      "text/plain": [
       "   user_id                     item_name  items_count  playtime_forever  \\\n",
       "0  --000--  ACE - Arena: Cyber Evolution           58                 0   \n",
       "1  --000--                  APB Reloaded           58              2763   \n",
       "2  --000--          AdVenture Capitalist           58                 0   \n",
       "3  --000--                Apotheon Arena           58                74   \n",
       "4  --000--                   BLOCKADE 3D           58               445   \n",
       "\n",
       "  recommend  \n",
       "0      True  \n",
       "1      True  \n",
       "2      True  \n",
       "3      True  \n",
       "4      True  "
      ]
     },
     "execution_count": 79,
     "metadata": {},
     "output_type": "execute_result"
    }
   ],
   "source": [
    "df_usuario_item.head()"
   ]
  },
  {
   "cell_type": "markdown",
   "metadata": {},
   "source": [
    "Creamos un DataFrame que consta de dos columnas: la primera columna almacena el user_id y la segunda columna contiene listas de juegos recomendados por ese usuario. Este DataFrame resultará útil cuando trabajemos con el DataFrame de usuarios similares, permitiendo la concatenación de la información del usuario con sus respectivas recomendaciones de juegos."
   ]
  },
  {
   "cell_type": "code",
   "execution_count": 80,
   "metadata": {},
   "outputs": [],
   "source": [
    "# Rellenar los valores nulos en la columna 'recommend' con False\n",
    "df_usuario_item['recommend'] = df_usuario_item['recommend'].fillna(False)\n",
    "\n",
    "# Filtrar solo las filas con recommend igual a True\n",
    "df_usuario_recomendaciones = df_usuario_item[df_usuario_item['recommend']]\n",
    "\n",
    "# Agrupar por user_id y agregar una lista de juegos recomendados\n",
    "df_usuario_recomendaciones = df_usuario_recomendaciones.groupby('user_id').agg({'item_name': list}).reset_index()"
   ]
  },
  {
   "cell_type": "code",
   "execution_count": 81,
   "metadata": {},
   "outputs": [
    {
     "data": {
      "text/html": [
       "<div>\n",
       "<style scoped>\n",
       "    .dataframe tbody tr th:only-of-type {\n",
       "        vertical-align: middle;\n",
       "    }\n",
       "\n",
       "    .dataframe tbody tr th {\n",
       "        vertical-align: top;\n",
       "    }\n",
       "\n",
       "    .dataframe thead th {\n",
       "        text-align: right;\n",
       "    }\n",
       "</style>\n",
       "<table border=\"1\" class=\"dataframe\">\n",
       "  <thead>\n",
       "    <tr style=\"text-align: right;\">\n",
       "      <th></th>\n",
       "      <th>user_id</th>\n",
       "      <th>item_name</th>\n",
       "    </tr>\n",
       "  </thead>\n",
       "  <tbody>\n",
       "    <tr>\n",
       "      <th>0</th>\n",
       "      <td>--000--</td>\n",
       "      <td>[ACE - Arena: Cyber Evolution, APB Reloaded, A...</td>\n",
       "    </tr>\n",
       "    <tr>\n",
       "      <th>1</th>\n",
       "      <td>--ace--</td>\n",
       "      <td>[8BitBoy, AdVenture Capitalist, BattleBlock Th...</td>\n",
       "    </tr>\n",
       "    <tr>\n",
       "      <th>2</th>\n",
       "      <td>--ionex--</td>\n",
       "      <td>[Another World, Call of Duty: Modern Warfare 2...</td>\n",
       "    </tr>\n",
       "    <tr>\n",
       "      <th>3</th>\n",
       "      <td>-2SV-vuLB-Kg</td>\n",
       "      <td>[16 Bit Arena, 16bit Trader, A grande bagun√ßa...</td>\n",
       "    </tr>\n",
       "    <tr>\n",
       "      <th>4</th>\n",
       "      <td>-Azsael-</td>\n",
       "      <td>[Amnesia: A Machine for Pigs, Anno 2070, Arcan...</td>\n",
       "    </tr>\n",
       "  </tbody>\n",
       "</table>\n",
       "</div>"
      ],
      "text/plain": [
       "        user_id                                          item_name\n",
       "0       --000--  [ACE - Arena: Cyber Evolution, APB Reloaded, A...\n",
       "1       --ace--  [8BitBoy, AdVenture Capitalist, BattleBlock Th...\n",
       "2     --ionex--  [Another World, Call of Duty: Modern Warfare 2...\n",
       "3  -2SV-vuLB-Kg  [16 Bit Arena, 16bit Trader, A grande bagun√ßa...\n",
       "4      -Azsael-  [Amnesia: A Machine for Pigs, Anno 2070, Arcan..."
      ]
     },
     "execution_count": 81,
     "metadata": {},
     "output_type": "execute_result"
    }
   ],
   "source": [
    "df_usuario_recomendaciones.head()"
   ]
  },
  {
   "cell_type": "markdown",
   "metadata": {},
   "source": [
    "## Preprocesamiento de los Datos"
   ]
  },
  {
   "cell_type": "markdown",
   "metadata": {},
   "source": [
    "Para determinar la similitud entre usuarios, utilizaremos las columnas `items_count` y `playtime_forever`. Agruparemos por `user_id` para conocer la cantidad de juegos que tiene cada usuario y cuánto ha jugado en total."
   ]
  },
  {
   "cell_type": "code",
   "execution_count": 82,
   "metadata": {},
   "outputs": [],
   "source": [
    "# Agrupar por user_id\n",
    "df_user_item_ML = df_usuario_item.groupby(['user_id']).agg({\n",
    "    'items_count': 'first',  # Mantenemos un valor único\n",
    "    'playtime_forever': 'sum',\n",
    "}).reset_index()"
   ]
  },
  {
   "cell_type": "code",
   "execution_count": 83,
   "metadata": {},
   "outputs": [
    {
     "data": {
      "text/html": [
       "<div>\n",
       "<style scoped>\n",
       "    .dataframe tbody tr th:only-of-type {\n",
       "        vertical-align: middle;\n",
       "    }\n",
       "\n",
       "    .dataframe tbody tr th {\n",
       "        vertical-align: top;\n",
       "    }\n",
       "\n",
       "    .dataframe thead th {\n",
       "        text-align: right;\n",
       "    }\n",
       "</style>\n",
       "<table border=\"1\" class=\"dataframe\">\n",
       "  <thead>\n",
       "    <tr style=\"text-align: right;\">\n",
       "      <th></th>\n",
       "      <th>user_id</th>\n",
       "      <th>items_count</th>\n",
       "      <th>playtime_forever</th>\n",
       "    </tr>\n",
       "  </thead>\n",
       "  <tbody>\n",
       "    <tr>\n",
       "      <th>0</th>\n",
       "      <td>--000--</td>\n",
       "      <td>58</td>\n",
       "      <td>141027</td>\n",
       "    </tr>\n",
       "    <tr>\n",
       "      <th>1</th>\n",
       "      <td>--ace--</td>\n",
       "      <td>44</td>\n",
       "      <td>140764</td>\n",
       "    </tr>\n",
       "    <tr>\n",
       "      <th>2</th>\n",
       "      <td>--ionex--</td>\n",
       "      <td>23</td>\n",
       "      <td>96168</td>\n",
       "    </tr>\n",
       "    <tr>\n",
       "      <th>3</th>\n",
       "      <td>-2SV-vuLB-Kg</td>\n",
       "      <td>68</td>\n",
       "      <td>271245</td>\n",
       "    </tr>\n",
       "    <tr>\n",
       "      <th>4</th>\n",
       "      <td>-404PageNotFound-</td>\n",
       "      <td>149</td>\n",
       "      <td>231260</td>\n",
       "    </tr>\n",
       "  </tbody>\n",
       "</table>\n",
       "</div>"
      ],
      "text/plain": [
       "             user_id  items_count  playtime_forever\n",
       "0            --000--           58            141027\n",
       "1            --ace--           44            140764\n",
       "2          --ionex--           23             96168\n",
       "3       -2SV-vuLB-Kg           68            271245\n",
       "4  -404PageNotFound-          149            231260"
      ]
     },
     "execution_count": 83,
     "metadata": {},
     "output_type": "execute_result"
    }
   ],
   "source": [
    "df_user_item_ML.head()"
   ]
  },
  {
   "cell_type": "code",
   "execution_count": 67,
   "metadata": {},
   "outputs": [
    {
     "data": {
      "image/png": "[encoded data removed]",
      "text/plain": [
       "<Figure size 1200x400 with 2 Axes>"
      ]
     },
     "metadata": {},
     "output_type": "display_data"
    }
   ],
   "source": [
    "# Crear subplots\n",
    "fig, axs = plt.subplots(1, 2, figsize=(12, 4))\n",
    "\n",
    "# Histograma de 'items_count'\n",
    "axs[0].hist(df_user_item_ML['items_count'], bins=20, edgecolor='black')\n",
    "axs[0].set_title('Número de juegos por usuario')\n",
    "axs[0].set_xlabel('Cantidad de juegos')\n",
    "axs[0].set_ylabel('')\n",
    "\n",
    "# Histograma de 'playtime_forever'\n",
    "axs[1].hist(df_user_item_ML['playtime_forever'], bins=20, edgecolor='black')\n",
    "axs[1].set_title('Tiempo total de juego por usuario')\n",
    "axs[1].set_xlabel('tiempo total de juego')\n",
    "axs[1].set_ylabel('')\n",
    "\n",
    "# Ajustar diseño y mostrar los gráficos\n",
    "plt.tight_layout()\n",
    "plt.show()"
   ]
  },
  {
   "cell_type": "markdown",
   "metadata": {},
   "source": [
    "En el histograma, se evidencia que el rango de ambas columnas es considerablemente amplio. Para abordar esta variabilidad, se optará por aplicar una transformación logarítmica. Esta elección se basa en la capacidad de la transformación logarítmica para comprimir intervalos, aprovechando además que las variables en cuestión, items_count y playtime_forever, no pueden contener valores negativos. "
   ]
  },
  {
   "cell_type": "code",
   "execution_count": 68,
   "metadata": {},
   "outputs": [
    {
     "data": {
      "image/png": "[encoded data removed]",
      "text/plain": [
       "<Figure size 1200x400 with 2 Axes>"
      ]
     },
     "metadata": {},
     "output_type": "display_data"
    }
   ],
   "source": [
    "# Aplicar transformación logarítmica a las columnas\n",
    "df_user_item_ML['items_count'] = np.log1p(df_user_item_ML['items_count'])\n",
    "df_user_item_ML['playtime_forever'] = np.log1p(df_user_item_ML['playtime_forever'])\n",
    "\n",
    "# Crear subgráficos\n",
    "fig, axs = plt.subplots(1, 2, figsize=(12, 4))\n",
    "\n",
    "# Histograma de 'log_items_count'\n",
    "axs[0].hist(df_user_item_ML['items_count'], bins=20, edgecolor='black')\n",
    "axs[0].set_title('Número de juegos')\n",
    "axs[0].set_xlabel('Cantidad de juegos')\n",
    "axs[0].set_ylabel('')\n",
    "\n",
    "# Histograma de 'log_playtime_forever'\n",
    "axs[1].hist(df_user_item_ML['playtime_forever'], bins=20, edgecolor='black')\n",
    "axs[1].set_title('Tiempo total de juego')\n",
    "axs[1].set_xlabel('Tiempo total de juego')\n",
    "axs[1].set_ylabel('')\n",
    "\n",
    "# Ajustar diseño y mostrar los gráficos\n",
    "plt.tight_layout()\n",
    "plt.show()"
   ]
  },
  {
   "cell_type": "markdown",
   "metadata": {},
   "source": [
    "### Modelo\n",
    "\n",
    "Vamos a emplear la similitud del coseno  para identificar usuarios con preferencias similares."
   ]
  },
  {
   "cell_type": "code",
   "execution_count": 84,
   "metadata": {},
   "outputs": [],
   "source": [
    "\n",
    "# Seleccionar las características relevantes\n",
    "user_features = df_user_item_ML[['user_id', 'items_count', 'playtime_forever']].set_index('user_id')\n",
    "\n",
    "# Calcular la similitud del coseno entre todos los usuarios\n",
    "cosine_sim = cosine_similarity(user_features)\n",
    "\n",
    "# Inicializar una lista para almacenar los resultados de usuarios similares\n",
    "similar_users_list = []\n",
    "\n",
    "# Encontrar los 5 usuarios más similares para cada usuario\n",
    "for i, user_id in enumerate(user_features.index):\n",
    "    similar_users = user_features.index[cosine_sim[i].argsort()[::-1][1:6]].tolist()\n",
    "    similar_users_list.append({'user_id': user_id, 'similar_users': similar_users})\n",
    "\n",
    "# Crear un DataFrame a partir de la lista de resultados de usuarios similares\n",
    "result_df = pd.DataFrame(similar_users_list)\n"
   ]
  },
  {
   "cell_type": "markdown",
   "metadata": {},
   "source": [
    "El resultado es un dataframe que contiene una lista de 5 usuarios similares por cada user_id"
   ]
  },
  {
   "cell_type": "code",
   "execution_count": 86,
   "metadata": {},
   "outputs": [
    {
     "data": {
      "text/html": [
       "<div>\n",
       "<style scoped>\n",
       "    .dataframe tbody tr th:only-of-type {\n",
       "        vertical-align: middle;\n",
       "    }\n",
       "\n",
       "    .dataframe tbody tr th {\n",
       "        vertical-align: top;\n",
       "    }\n",
       "\n",
       "    .dataframe thead th {\n",
       "        text-align: right;\n",
       "    }\n",
       "</style>\n",
       "<table border=\"1\" class=\"dataframe\">\n",
       "  <thead>\n",
       "    <tr style=\"text-align: right;\">\n",
       "      <th></th>\n",
       "      <th>user_id</th>\n",
       "      <th>similar_users</th>\n",
       "    </tr>\n",
       "  </thead>\n",
       "  <tbody>\n",
       "    <tr>\n",
       "      <th>0</th>\n",
       "      <td>--000--</td>\n",
       "      <td>[metronomeiscool, --000--, SarcasticDynamics, ...</td>\n",
       "    </tr>\n",
       "    <tr>\n",
       "      <th>1</th>\n",
       "      <td>--ace--</td>\n",
       "      <td>[76561197990792016, --ace--, AncientSilverback...</td>\n",
       "    </tr>\n",
       "    <tr>\n",
       "      <th>2</th>\n",
       "      <td>--ionex--</td>\n",
       "      <td>[--ionex--, fhjao, ckdkdo1, ActionMedic, l3bz]</td>\n",
       "    </tr>\n",
       "    <tr>\n",
       "      <th>3</th>\n",
       "      <td>-2SV-vuLB-Kg</td>\n",
       "      <td>[76561198087693951, 76561198008302763, -2SV-vu...</td>\n",
       "    </tr>\n",
       "    <tr>\n",
       "      <th>4</th>\n",
       "      <td>-404PageNotFound-</td>\n",
       "      <td>[xXDannyXx18, 76561197971180788, 7656119808520...</td>\n",
       "    </tr>\n",
       "  </tbody>\n",
       "</table>\n",
       "</div>"
      ],
      "text/plain": [
       "             user_id                                      similar_users\n",
       "0            --000--  [metronomeiscool, --000--, SarcasticDynamics, ...\n",
       "1            --ace--  [76561197990792016, --ace--, AncientSilverback...\n",
       "2          --ionex--     [--ionex--, fhjao, ckdkdo1, ActionMedic, l3bz]\n",
       "3       -2SV-vuLB-Kg  [76561198087693951, 76561198008302763, -2SV-vu...\n",
       "4  -404PageNotFound-  [xXDannyXx18, 76561197971180788, 7656119808520..."
      ]
     },
     "execution_count": 86,
     "metadata": {},
     "output_type": "execute_result"
    }
   ],
   "source": [
    "result_df.head()"
   ]
  },
  {
   "cell_type": "markdown",
   "metadata": {},
   "source": [
    "Separamos en filas las listas de usuarios similares."
   ]
  },
  {
   "cell_type": "code",
   "execution_count": 101,
   "metadata": {},
   "outputs": [
    {
     "data": {
      "text/html": [
       "<div>\n",
       "<style scoped>\n",
       "    .dataframe tbody tr th:only-of-type {\n",
       "        vertical-align: middle;\n",
       "    }\n",
       "\n",
       "    .dataframe tbody tr th {\n",
       "        vertical-align: top;\n",
       "    }\n",
       "\n",
       "    .dataframe thead th {\n",
       "        text-align: right;\n",
       "    }\n",
       "</style>\n",
       "<table border=\"1\" class=\"dataframe\">\n",
       "  <thead>\n",
       "    <tr style=\"text-align: right;\">\n",
       "      <th></th>\n",
       "      <th>user_id</th>\n",
       "      <th>similar_users</th>\n",
       "    </tr>\n",
       "  </thead>\n",
       "  <tbody>\n",
       "    <tr>\n",
       "      <th>0</th>\n",
       "      <td>--000--</td>\n",
       "      <td>metronomeiscool</td>\n",
       "    </tr>\n",
       "    <tr>\n",
       "      <th>0</th>\n",
       "      <td>--000--</td>\n",
       "      <td>--000--</td>\n",
       "    </tr>\n",
       "    <tr>\n",
       "      <th>0</th>\n",
       "      <td>--000--</td>\n",
       "      <td>SarcasticDynamics</td>\n",
       "    </tr>\n",
       "    <tr>\n",
       "      <th>0</th>\n",
       "      <td>--000--</td>\n",
       "      <td>totesnotahacker</td>\n",
       "    </tr>\n",
       "    <tr>\n",
       "      <th>0</th>\n",
       "      <td>--000--</td>\n",
       "      <td>PokeyStabbyThing</td>\n",
       "    </tr>\n",
       "    <tr>\n",
       "      <th>1</th>\n",
       "      <td>--ace--</td>\n",
       "      <td>76561197990792016</td>\n",
       "    </tr>\n",
       "  </tbody>\n",
       "</table>\n",
       "</div>"
      ],
      "text/plain": [
       "   user_id      similar_users\n",
       "0  --000--    metronomeiscool\n",
       "0  --000--            --000--\n",
       "0  --000--  SarcasticDynamics\n",
       "0  --000--    totesnotahacker\n",
       "0  --000--   PokeyStabbyThing\n",
       "1  --ace--  76561197990792016"
      ]
     },
     "execution_count": 101,
     "metadata": {},
     "output_type": "execute_result"
    }
   ],
   "source": [
    "## Explode la columna similar_users para tener un usuario similar por fila\n",
    "usuarios_juegos = result_df.explode('similar_users')\n",
    "usuarios_juegos.head(6)"
   ]
  },
  {
   "cell_type": "markdown",
   "metadata": {},
   "source": [
    "Quitamos las filas donde el user_id sea igual a similar_users."
   ]
  },
  {
   "cell_type": "code",
   "execution_count": 102,
   "metadata": {},
   "outputs": [],
   "source": [
    "usuarios_juegos = usuarios_juegos[usuarios_juegos['user_id'] != usuarios_juegos['similar_users']]"
   ]
  },
  {
   "cell_type": "markdown",
   "metadata": {},
   "source": [
    "Concatenaremos el DataFrame de usuario_juegos con el DataFrame df_usuario_recomendaciones, utilizando la columna similar_users para relacionar los usuarios con sus respectivas recomendaciones. Como no todos los usuarios tienen recomendaciones se va a utilizar el left join."
   ]
  },
  {
   "cell_type": "code",
   "execution_count": 103,
   "metadata": {},
   "outputs": [
    {
     "data": {
      "text/html": [
       "<div>\n",
       "<style scoped>\n",
       "    .dataframe tbody tr th:only-of-type {\n",
       "        vertical-align: middle;\n",
       "    }\n",
       "\n",
       "    .dataframe tbody tr th {\n",
       "        vertical-align: top;\n",
       "    }\n",
       "\n",
       "    .dataframe thead th {\n",
       "        text-align: right;\n",
       "    }\n",
       "</style>\n",
       "<table border=\"1\" class=\"dataframe\">\n",
       "  <thead>\n",
       "    <tr style=\"text-align: right;\">\n",
       "      <th></th>\n",
       "      <th>user_id_x</th>\n",
       "      <th>similar_users</th>\n",
       "      <th>user_id_y</th>\n",
       "      <th>item_name</th>\n",
       "    </tr>\n",
       "  </thead>\n",
       "  <tbody>\n",
       "    <tr>\n",
       "      <th>0</th>\n",
       "      <td>--000--</td>\n",
       "      <td>metronomeiscool</td>\n",
       "      <td>metronomeiscool</td>\n",
       "      <td>[Age of Mythology: Extended Edition, Antichamb...</td>\n",
       "    </tr>\n",
       "    <tr>\n",
       "      <th>1</th>\n",
       "      <td>--000--</td>\n",
       "      <td>SarcasticDynamics</td>\n",
       "      <td>NaN</td>\n",
       "      <td>NaN</td>\n",
       "    </tr>\n",
       "    <tr>\n",
       "      <th>2</th>\n",
       "      <td>--000--</td>\n",
       "      <td>totesnotahacker</td>\n",
       "      <td>totesnotahacker</td>\n",
       "      <td>[7 Days to Die, Ace of Spades, Arma 2, Arma 2:...</td>\n",
       "    </tr>\n",
       "    <tr>\n",
       "      <th>3</th>\n",
       "      <td>--000--</td>\n",
       "      <td>PokeyStabbyThing</td>\n",
       "      <td>PokeyStabbyThing</td>\n",
       "      <td>[Ace of Spades, AdVenture Capitalist, Awesomen...</td>\n",
       "    </tr>\n",
       "    <tr>\n",
       "      <th>4</th>\n",
       "      <td>--ace--</td>\n",
       "      <td>76561197990792016</td>\n",
       "      <td>NaN</td>\n",
       "      <td>NaN</td>\n",
       "    </tr>\n",
       "  </tbody>\n",
       "</table>\n",
       "</div>"
      ],
      "text/plain": [
       "  user_id_x      similar_users         user_id_y  \\\n",
       "0   --000--    metronomeiscool   metronomeiscool   \n",
       "1   --000--  SarcasticDynamics               NaN   \n",
       "2   --000--    totesnotahacker   totesnotahacker   \n",
       "3   --000--   PokeyStabbyThing  PokeyStabbyThing   \n",
       "4   --ace--  76561197990792016               NaN   \n",
       "\n",
       "                                           item_name  \n",
       "0  [Age of Mythology: Extended Edition, Antichamb...  \n",
       "1                                                NaN  \n",
       "2  [7 Days to Die, Ace of Spades, Arma 2, Arma 2:...  \n",
       "3  [Ace of Spades, AdVenture Capitalist, Awesomen...  \n",
       "4                                                NaN  "
      ]
     },
     "execution_count": 103,
     "metadata": {},
     "output_type": "execute_result"
    }
   ],
   "source": [
    "usuarios_juegos = pd.merge(usuarios_juegos, df_usuario_recomendaciones, how='left', left_on='similar_users', right_on='user_id')\n",
    "usuarios_juegos.head(5)"
   ]
  },
  {
   "cell_type": "markdown",
   "metadata": {},
   "source": [
    "Filtramos los valores nulos"
   ]
  },
  {
   "cell_type": "code",
   "execution_count": 104,
   "metadata": {},
   "outputs": [
    {
     "data": {
      "text/html": [
       "<div>\n",
       "<style scoped>\n",
       "    .dataframe tbody tr th:only-of-type {\n",
       "        vertical-align: middle;\n",
       "    }\n",
       "\n",
       "    .dataframe tbody tr th {\n",
       "        vertical-align: top;\n",
       "    }\n",
       "\n",
       "    .dataframe thead th {\n",
       "        text-align: right;\n",
       "    }\n",
       "</style>\n",
       "<table border=\"1\" class=\"dataframe\">\n",
       "  <thead>\n",
       "    <tr style=\"text-align: right;\">\n",
       "      <th></th>\n",
       "      <th>user_id_x</th>\n",
       "      <th>similar_users</th>\n",
       "      <th>user_id_y</th>\n",
       "      <th>item_name</th>\n",
       "    </tr>\n",
       "  </thead>\n",
       "  <tbody>\n",
       "    <tr>\n",
       "      <th>0</th>\n",
       "      <td>--000--</td>\n",
       "      <td>metronomeiscool</td>\n",
       "      <td>metronomeiscool</td>\n",
       "      <td>[Age of Mythology: Extended Edition, Antichamb...</td>\n",
       "    </tr>\n",
       "    <tr>\n",
       "      <th>2</th>\n",
       "      <td>--000--</td>\n",
       "      <td>totesnotahacker</td>\n",
       "      <td>totesnotahacker</td>\n",
       "      <td>[7 Days to Die, Ace of Spades, Arma 2, Arma 2:...</td>\n",
       "    </tr>\n",
       "    <tr>\n",
       "      <th>3</th>\n",
       "      <td>--000--</td>\n",
       "      <td>PokeyStabbyThing</td>\n",
       "      <td>PokeyStabbyThing</td>\n",
       "      <td>[Ace of Spades, AdVenture Capitalist, Awesomen...</td>\n",
       "    </tr>\n",
       "    <tr>\n",
       "      <th>6</th>\n",
       "      <td>--ace--</td>\n",
       "      <td>yogidude</td>\n",
       "      <td>yogidude</td>\n",
       "      <td>[America's Army: Proving Grounds, Counter-Stri...</td>\n",
       "    </tr>\n",
       "    <tr>\n",
       "      <th>7</th>\n",
       "      <td>--ace--</td>\n",
       "      <td>76561198065723606</td>\n",
       "      <td>76561198065723606</td>\n",
       "      <td>[Counter-Strike Nexon: Zombies, Counter-Strike...</td>\n",
       "    </tr>\n",
       "  </tbody>\n",
       "</table>\n",
       "</div>"
      ],
      "text/plain": [
       "  user_id_x      similar_users          user_id_y  \\\n",
       "0   --000--    metronomeiscool    metronomeiscool   \n",
       "2   --000--    totesnotahacker    totesnotahacker   \n",
       "3   --000--   PokeyStabbyThing   PokeyStabbyThing   \n",
       "6   --ace--           yogidude           yogidude   \n",
       "7   --ace--  76561198065723606  76561198065723606   \n",
       "\n",
       "                                           item_name  \n",
       "0  [Age of Mythology: Extended Edition, Antichamb...  \n",
       "2  [7 Days to Die, Ace of Spades, Arma 2, Arma 2:...  \n",
       "3  [Ace of Spades, AdVenture Capitalist, Awesomen...  \n",
       "6  [America's Army: Proving Grounds, Counter-Stri...  \n",
       "7  [Counter-Strike Nexon: Zombies, Counter-Strike...  "
      ]
     },
     "execution_count": 104,
     "metadata": {},
     "output_type": "execute_result"
    }
   ],
   "source": [
    "usuarios_juegos.dropna(inplace=True)\n",
    "usuarios_juegos.head()"
   ]
  },
  {
   "cell_type": "markdown",
   "metadata": {},
   "source": [
    "Las columnas de interés son user_id_x e item_name."
   ]
  },
  {
   "cell_type": "code",
   "execution_count": 105,
   "metadata": {},
   "outputs": [],
   "source": [
    "#Nos quedamos con las columnas relevantes\n",
    "usuarios_juegos = usuarios_juegos[['user_id_x', 'item_name']]\n",
    "#Renombramos las columnas\n",
    "usuarios_juegos.columns = ['user_id', 'recomendaciones']"
   ]
  },
  {
   "cell_type": "code",
   "execution_count": 106,
   "metadata": {},
   "outputs": [
    {
     "data": {
      "text/html": [
       "<div>\n",
       "<style scoped>\n",
       "    .dataframe tbody tr th:only-of-type {\n",
       "        vertical-align: middle;\n",
       "    }\n",
       "\n",
       "    .dataframe tbody tr th {\n",
       "        vertical-align: top;\n",
       "    }\n",
       "\n",
       "    .dataframe thead th {\n",
       "        text-align: right;\n",
       "    }\n",
       "</style>\n",
       "<table border=\"1\" class=\"dataframe\">\n",
       "  <thead>\n",
       "    <tr style=\"text-align: right;\">\n",
       "      <th></th>\n",
       "      <th>user_id</th>\n",
       "      <th>recomendaciones</th>\n",
       "    </tr>\n",
       "  </thead>\n",
       "  <tbody>\n",
       "    <tr>\n",
       "      <th>0</th>\n",
       "      <td>--000--</td>\n",
       "      <td>[Age of Mythology: Extended Edition, Antichamb...</td>\n",
       "    </tr>\n",
       "    <tr>\n",
       "      <th>2</th>\n",
       "      <td>--000--</td>\n",
       "      <td>[7 Days to Die, Ace of Spades, Arma 2, Arma 2:...</td>\n",
       "    </tr>\n",
       "    <tr>\n",
       "      <th>3</th>\n",
       "      <td>--000--</td>\n",
       "      <td>[Ace of Spades, AdVenture Capitalist, Awesomen...</td>\n",
       "    </tr>\n",
       "    <tr>\n",
       "      <th>6</th>\n",
       "      <td>--ace--</td>\n",
       "      <td>[America's Army: Proving Grounds, Counter-Stri...</td>\n",
       "    </tr>\n",
       "    <tr>\n",
       "      <th>7</th>\n",
       "      <td>--ace--</td>\n",
       "      <td>[Counter-Strike Nexon: Zombies, Counter-Strike...</td>\n",
       "    </tr>\n",
       "  </tbody>\n",
       "</table>\n",
       "</div>"
      ],
      "text/plain": [
       "   user_id                                    recomendaciones\n",
       "0  --000--  [Age of Mythology: Extended Edition, Antichamb...\n",
       "2  --000--  [7 Days to Die, Ace of Spades, Arma 2, Arma 2:...\n",
       "3  --000--  [Ace of Spades, AdVenture Capitalist, Awesomen...\n",
       "6  --ace--  [America's Army: Proving Grounds, Counter-Stri...\n",
       "7  --ace--  [Counter-Strike Nexon: Zombies, Counter-Strike..."
      ]
     },
     "execution_count": 106,
     "metadata": {},
     "output_type": "execute_result"
    }
   ],
   "source": [
    "usuarios_juegos.head()"
   ]
  },
  {
   "cell_type": "markdown",
   "metadata": {},
   "source": [
    "Hay usuarios para los cuales más de un usuario similar ha realizado recomendaciones. Por lo que, procederemos a agrupar por la columna user_id."
   ]
  },
  {
   "cell_type": "code",
   "execution_count": 107,
   "metadata": {},
   "outputs": [
    {
     "data": {
      "text/html": [
       "<div>\n",
       "<style scoped>\n",
       "    .dataframe tbody tr th:only-of-type {\n",
       "        vertical-align: middle;\n",
       "    }\n",
       "\n",
       "    .dataframe tbody tr th {\n",
       "        vertical-align: top;\n",
       "    }\n",
       "\n",
       "    .dataframe thead th {\n",
       "        text-align: right;\n",
       "    }\n",
       "</style>\n",
       "<table border=\"1\" class=\"dataframe\">\n",
       "  <thead>\n",
       "    <tr style=\"text-align: right;\">\n",
       "      <th></th>\n",
       "      <th>user_id</th>\n",
       "      <th>recomendaciones</th>\n",
       "    </tr>\n",
       "  </thead>\n",
       "  <tbody>\n",
       "    <tr>\n",
       "      <th>0</th>\n",
       "      <td>--000--</td>\n",
       "      <td>[Age of Mythology: Extended Edition, Antichamb...</td>\n",
       "    </tr>\n",
       "    <tr>\n",
       "      <th>1</th>\n",
       "      <td>--ace--</td>\n",
       "      <td>[America's Army: Proving Grounds, Counter-Stri...</td>\n",
       "    </tr>\n",
       "    <tr>\n",
       "      <th>2</th>\n",
       "      <td>--ionex--</td>\n",
       "      <td>[Archeblade, Back to Bed, Blender 2.77, Border...</td>\n",
       "    </tr>\n",
       "    <tr>\n",
       "      <th>3</th>\n",
       "      <td>-Azsael-</td>\n",
       "      <td>[8BitMMO, Ace of Spades, Adorables, Afterfall ...</td>\n",
       "    </tr>\n",
       "    <tr>\n",
       "      <th>4</th>\n",
       "      <td>-Beave-</td>\n",
       "      <td>[3DMark, 404Sight, A Story About My Uncle, A V...</td>\n",
       "    </tr>\n",
       "  </tbody>\n",
       "</table>\n",
       "</div>"
      ],
      "text/plain": [
       "     user_id                                    recomendaciones\n",
       "0    --000--  [Age of Mythology: Extended Edition, Antichamb...\n",
       "1    --ace--  [America's Army: Proving Grounds, Counter-Stri...\n",
       "2  --ionex--  [Archeblade, Back to Bed, Blender 2.77, Border...\n",
       "3   -Azsael-  [8BitMMO, Ace of Spades, Adorables, Afterfall ...\n",
       "4    -Beave-  [3DMark, 404Sight, A Story About My Uncle, A V..."
      ]
     },
     "execution_count": 107,
     "metadata": {},
     "output_type": "execute_result"
    }
   ],
   "source": [
    "usuarios_juegos = usuarios_juegos.groupby('user_id')['recomendaciones'].sum().reset_index()\n",
    "usuarios_juegos.head()"
   ]
  },
  {
   "cell_type": "markdown",
   "metadata": {},
   "source": [
    "Finalmente, nos limitaremos a conservar únicamente las primeras 5 recomendaciones para cada usuario."
   ]
  },
  {
   "cell_type": "code",
   "execution_count": 108,
   "metadata": {},
   "outputs": [],
   "source": [
    "usuarios_juegos['recomendaciones'] = usuarios_juegos['recomendaciones'].apply(lambda x: x[:5])"
   ]
  },
  {
   "cell_type": "code",
   "execution_count": 109,
   "metadata": {},
   "outputs": [
    {
     "data": {
      "text/html": [
       "<div>\n",
       "<style scoped>\n",
       "    .dataframe tbody tr th:only-of-type {\n",
       "        vertical-align: middle;\n",
       "    }\n",
       "\n",
       "    .dataframe tbody tr th {\n",
       "        vertical-align: top;\n",
       "    }\n",
       "\n",
       "    .dataframe thead th {\n",
       "        text-align: right;\n",
       "    }\n",
       "</style>\n",
       "<table border=\"1\" class=\"dataframe\">\n",
       "  <thead>\n",
       "    <tr style=\"text-align: right;\">\n",
       "      <th></th>\n",
       "      <th>user_id</th>\n",
       "      <th>recomendaciones</th>\n",
       "    </tr>\n",
       "  </thead>\n",
       "  <tbody>\n",
       "    <tr>\n",
       "      <th>0</th>\n",
       "      <td>--000--</td>\n",
       "      <td>[Age of Mythology: Extended Edition, Antichamb...</td>\n",
       "    </tr>\n",
       "    <tr>\n",
       "      <th>1</th>\n",
       "      <td>--ace--</td>\n",
       "      <td>[America's Army: Proving Grounds, Counter-Stri...</td>\n",
       "    </tr>\n",
       "    <tr>\n",
       "      <th>2</th>\n",
       "      <td>--ionex--</td>\n",
       "      <td>[Archeblade, Back to Bed, Blender 2.77, Border...</td>\n",
       "    </tr>\n",
       "    <tr>\n",
       "      <th>3</th>\n",
       "      <td>-Azsael-</td>\n",
       "      <td>[8BitMMO, Ace of Spades, Adorables, Afterfall ...</td>\n",
       "    </tr>\n",
       "    <tr>\n",
       "      <th>4</th>\n",
       "      <td>-Beave-</td>\n",
       "      <td>[3DMark, 404Sight, A Story About My Uncle, A V...</td>\n",
       "    </tr>\n",
       "  </tbody>\n",
       "</table>\n",
       "</div>"
      ],
      "text/plain": [
       "     user_id                                    recomendaciones\n",
       "0    --000--  [Age of Mythology: Extended Edition, Antichamb...\n",
       "1    --ace--  [America's Army: Proving Grounds, Counter-Stri...\n",
       "2  --ionex--  [Archeblade, Back to Bed, Blender 2.77, Border...\n",
       "3   -Azsael-  [8BitMMO, Ace of Spades, Adorables, Afterfall ...\n",
       "4    -Beave-  [3DMark, 404Sight, A Story About My Uncle, A V..."
      ]
     },
     "execution_count": 109,
     "metadata": {},
     "output_type": "execute_result"
    }
   ],
   "source": [
    ".head()"
   ]
  },
  {
   "cell_type": "markdown",
   "metadata": {},
   "source": [
    "### Exportación a CSV\n",
    "\n",
    "Exportamos el DataFrame usuarios_juegos a un archivo CSV."
   ]
  },
  {
   "cell_type": "code",
   "execution_count": 110,
   "metadata": {},
   "outputs": [],
   "source": [
    "usuarios_juegos.to_csv('..\\\\Datsets\\\\Modelo_ML\\\\recomendacion_user_item.csv', index=False)"
   ]
  },
  {
   "cell_type": "markdown",
   "metadata": {},
   "source": [
    "### Función para consultar las recomendaciones por usuario\n"
   ]
  },
  {
   "cell_type": "code",
   "execution_count": 111,
   "metadata": {},
   "outputs": [],
   "source": [
    "\n",
    "def recomendacion_user_item(user_id):\n",
    "    \"\"\"\n",
    "    Retorna la lista de recomendaciones para un usuario específico.\n",
    "\n",
    "    Parameters:\n",
    "    - user_id: El usuario para el cual se desea obtener las recomendaciones.\n",
    "\n",
    "    Returns:\n",
    "    - Lista de recomendaciones para el usuario especificado.\n",
    "    \"\"\"\n",
    "    # Filtra el DataFrame para obtener solo las filas correspondientes al usuario dado\n",
    "    usuario_filtro = usuarios_juegos[usuarios_juegos['user_id'] == user_id]\n",
    "\n",
    "    # Verifica si el usuario existe en el DataFrame\n",
    "    if usuario_filtro.empty:\n",
    "        return f\"No se encontraron recomendaciones para el usuario {user_id}\"\n",
    "\n",
    "    # Concatena las listas de recomendaciones correspondientes al usuario\n",
    "    recomendaciones_usuario = usuario_filtro['recomendaciones'].sum()\n",
    "\n",
    "    return recomendaciones_usuario\n",
    "\n",
    "\n"
   ]
  },
  {
   "cell_type": "code",
   "execution_count": 113,
   "metadata": {},
   "outputs": [
    {
     "name": "stdout",
     "output_type": "stream",
     "text": [
      "Recomendaciones para el usuario --000--:\n",
      "['Age of Mythology: Extended Edition', 'Antichamber', 'ArcheAge', \"Assassin's Creed IV Black Flag\", 'Batman: Arkham Asylum GOTY Edition']\n"
     ]
    }
   ],
   "source": [
    "usuario_deseado = '--000--'\n",
    "recomendaciones_para_usuario = recomendacion_user_item (usuario_deseado)\n",
    "print(f\"Recomendaciones para el usuario {usuario_deseado}:\\n{recomendaciones_para_usuario}\")"
   ]
  }
 ],
 "metadata": {
  "kernelspec": {
   "display_name": "Python 3",
   "language": "python",
   "name": "python3"
  },
  "language_info": {
   "codemirror_mode": {
    "name": "ipython",
    "version": 3
   },
   "file_extension": ".py",
   "mimetype": "text/x-python",
   "name": "python",
   "nbconvert_exporter": "python",
   "pygments_lexer": "ipython3",
   "version": "3.11.6"
  }
 },
 "nbformat": 4,
 "nbformat_minor": 2
}
