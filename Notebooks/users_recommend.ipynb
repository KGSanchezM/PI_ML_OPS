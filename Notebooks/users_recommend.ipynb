{
 "cells": [
  {
   "cell_type": "markdown",
   "metadata": {},
   "source": [
    "def UsersRecommend( año : int ): Devuelve el top 3 de juegos MÁS recomendados por usuarios para el año dado. (reviews.recommend = True y comentarios positivos/neutrales)\n",
    "Ejemplo de retorno: [{\"Puesto 1\" : X}, {\"Puesto 2\" : Y},{\"Puesto 3\" : Z}]"
   ]
  },
  {
   "cell_type": "code",
   "execution_count": 5,
   "metadata": {},
   "outputs": [],
   "source": [
    "import pandas as pd"
   ]
  },
  {
   "cell_type": "code",
   "execution_count": 17,
   "metadata": {},
   "outputs": [],
   "source": [
    "steam_games = pd.read_csv(\"..\\\\Datsets\\\\CSV\\\\steam_games.csv\")\n",
    "user_items =pd.read_csv(\"..\\\\Datsets\\\\CSV\\\\user_items.csv\")\n",
    "user_reviews =pd.read_csv(\"..\\\\Datsets\\\\CSV\\\\user_reviews.csv\")"
   ]
  },
  {
   "cell_type": "code",
   "execution_count": 18,
   "metadata": {},
   "outputs": [],
   "source": [
    "# Combinar DataFrames basado en las columnas id y item_id\n",
    "df_UsersRecommend = pd.merge(user_reviews, steam_games, left_on='item_id', right_on='id', how='inner')\n",
    "# Seleccionar las columnas necesarias\n",
    "selected_columns = ['app_name', 'posted_year', 'recommend', 'sentiment_analysis']\n",
    "df_UsersRecommend = df_UsersRecommend[selected_columns]\n",
    "#Filtramos los comentarios positivos y neutrales\n",
    "df_UsersRecommend =df_UsersRecommend[df_UsersRecommend['sentiment_analysis']!=0]\n",
    "#Agrupamos por app_name , posted_year y sumamos la cantidad de recomendaciones\n",
    "df_UsersRecommend = df_UsersRecommend.groupby(['app_name', 'posted_year']).agg({'recommend': 'sum'}).reset_index()\n",
    "df_UsersRecommend = df_UsersRecommend.sort_values('recommend',ascending=False)\n"
   ]
  },
  {
   "cell_type": "code",
   "execution_count": 11,
   "metadata": {},
   "outputs": [],
   "source": [
    "df_UsersRecommend.to_csv('..\\\\Datsets\\\\archivos_API\\\\UsersRecommend.csv', index=False)\n"
   ]
  },
  {
   "cell_type": "markdown",
   "metadata": {},
   "source": [
    "Funcion"
   ]
  },
  {
   "cell_type": "code",
   "execution_count": 19,
   "metadata": {},
   "outputs": [],
   "source": [
    "def UsersRecommend(anio):\n",
    "    # Filtrar las revisiones para el año dado y recomendaciones positivas/neutrales\n",
    "    filtered_reviews = df_UsersRecommend[df_UsersRecommend['posted_year'] == anio]\n",
    "\n",
    "    # Verificar si hay revisiones para el año dado\n",
    "    if filtered_reviews.empty:\n",
    "        return f\"No hay recomendaciones para el año {anio}\"\n",
    "\n",
    "    # Ordenar en orden descendente por la cantidad de recomendaciones\n",
    "    sorted_df = filtered_reviews.sort_values('recommend', ascending=False)\n",
    "\n",
    "    # Crear una única línea de resultado\n",
    "    result = {\n",
    "        \"Puesto 1\": sorted_df.iloc[0]['app_name'],\n",
    "        \"Puesto 2\": sorted_df.iloc[1]['app_name'],\n",
    "        \"Puesto 3\": sorted_df.iloc[2]['app_name']\n",
    "    }\n",
    "\n",
    "    return result\n",
    "\n",
    "\n"
   ]
  },
  {
   "cell_type": "code",
   "execution_count": 24,
   "metadata": {},
   "outputs": [
    {
     "data": {
      "text/plain": [
       "{'Puesto 1': 'Team Fortress 2',\n",
       " 'Puesto 2': \"Garry's Mod\",\n",
       " 'Puesto 3': 'Dota 2'}"
      ]
     },
     "execution_count": 24,
     "metadata": {},
     "output_type": "execute_result"
    }
   ],
   "source": [
    "UsersRecommend(2013)"
   ]
  }
 ],
 "metadata": {
  "kernelspec": {
   "display_name": "Python 3",
   "language": "python",
   "name": "python3"
  },
  "language_info": {
   "codemirror_mode": {
    "name": "ipython",
    "version": 3
   },
   "file_extension": ".py",
   "mimetype": "text/x-python",
   "name": "python",
   "nbconvert_exporter": "python",
   "pygments_lexer": "ipython3",
   "version": "3.11.6"
  }
 },
 "nbformat": 4,
 "nbformat_minor": 2
}
