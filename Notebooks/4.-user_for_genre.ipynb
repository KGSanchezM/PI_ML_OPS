{
 "cells": [
  {
   "cell_type": "markdown",
   "metadata": {},
   "source": [
    "# UserForGenre\n",
    "\n",
    "Definir una función que identifique el usuario con la mayor cantidad de horas jugadas en el género especificado y proporcione una lista que muestre la acumulación de horas jugadas por año.\n",
    "\n",
    "def UserForGenre( genero : str ): \n",
    "Ejemplo de retorno: {\"Usuario con más horas jugadas para Género X\" : us213ndjss09sdf, \"Horas jugadas\":[{Año: 2013, Horas: 203}, {Año: 2012, Horas: 100}, {Año: 2011, Horas: 23}]}"
   ]
  },
  {
   "cell_type": "markdown",
   "metadata": {},
   "source": [
    "### Importamos las librerías"
   ]
  },
  {
   "cell_type": "code",
   "execution_count": 1,
   "metadata": {},
   "outputs": [],
   "source": [
    "import pandas as pd\n",
    "import ast"
   ]
  },
  {
   "cell_type": "markdown",
   "metadata": {},
   "source": [
    "### Lectura de los archivos CSV"
   ]
  },
  {
   "cell_type": "code",
   "execution_count": 2,
   "metadata": {},
   "outputs": [],
   "source": [
    "steam_games = pd.read_csv(\"..\\\\Datsets\\\\CSV\\\\steam_games.csv\")\n",
    "user_items =pd.read_csv(\"..\\\\Datsets\\\\CSV\\\\user_items.csv\")"
   ]
  },
  {
   "cell_type": "markdown",
   "metadata": {},
   "source": [
    "La información necesaria para esta consulta se encuentra en los dataframes `steam_games` y `user_items`. Del dataframe `steam_games`, requerimos las columnas 'genres' y 'release_year', mientras que del dataframe `user_items` necesitamos los datos de 'playtime_forever' y 'user_id'. Para lograr esto, procederemos a concatenar los dataframes utilizando la columna 'item_id'."
   ]
  },
  {
   "cell_type": "code",
   "execution_count": 3,
   "metadata": {},
   "outputs": [
    {
     "data": {
      "text/html": [
       "<div>\n",
       "<style scoped>\n",
       "    .dataframe tbody tr th:only-of-type {\n",
       "        vertical-align: middle;\n",
       "    }\n",
       "\n",
       "    .dataframe tbody tr th {\n",
       "        vertical-align: top;\n",
       "    }\n",
       "\n",
       "    .dataframe thead th {\n",
       "        text-align: right;\n",
       "    }\n",
       "</style>\n",
       "<table border=\"1\" class=\"dataframe\">\n",
       "  <thead>\n",
       "    <tr style=\"text-align: right;\">\n",
       "      <th></th>\n",
       "      <th>genres</th>\n",
       "      <th>release_year</th>\n",
       "      <th>playtime_forever</th>\n",
       "      <th>user_id</th>\n",
       "    </tr>\n",
       "  </thead>\n",
       "  <tbody>\n",
       "    <tr>\n",
       "      <th>0</th>\n",
       "      <td>['Action', 'Strategy']</td>\n",
       "      <td>2000.0</td>\n",
       "      <td>6</td>\n",
       "      <td>76561197970982479</td>\n",
       "    </tr>\n",
       "    <tr>\n",
       "      <th>1</th>\n",
       "      <td>['Action', 'Strategy']</td>\n",
       "      <td>2000.0</td>\n",
       "      <td>0</td>\n",
       "      <td>js41637</td>\n",
       "    </tr>\n",
       "    <tr>\n",
       "      <th>2</th>\n",
       "      <td>['Action', 'Strategy']</td>\n",
       "      <td>2000.0</td>\n",
       "      <td>0</td>\n",
       "      <td>Riot-Punch</td>\n",
       "    </tr>\n",
       "    <tr>\n",
       "      <th>3</th>\n",
       "      <td>['Action', 'Strategy']</td>\n",
       "      <td>2000.0</td>\n",
       "      <td>93</td>\n",
       "      <td>doctr</td>\n",
       "    </tr>\n",
       "    <tr>\n",
       "      <th>4</th>\n",
       "      <td>['Action', 'Strategy']</td>\n",
       "      <td>2000.0</td>\n",
       "      <td>108</td>\n",
       "      <td>corrupted_soul</td>\n",
       "    </tr>\n",
       "  </tbody>\n",
       "</table>\n",
       "</div>"
      ],
      "text/plain": [
       "                   genres  release_year  playtime_forever            user_id\n",
       "0  ['Action', 'Strategy']        2000.0                 6  76561197970982479\n",
       "1  ['Action', 'Strategy']        2000.0                 0            js41637\n",
       "2  ['Action', 'Strategy']        2000.0                 0         Riot-Punch\n",
       "3  ['Action', 'Strategy']        2000.0                93              doctr\n",
       "4  ['Action', 'Strategy']        2000.0               108     corrupted_soul"
      ]
     },
     "execution_count": 3,
     "metadata": {},
     "output_type": "execute_result"
    }
   ],
   "source": [
    "# Unir los DataFrames usando las columnas 'id' en steam_games y 'item_id' en user_items\n",
    "df_UserForGenre = pd.merge(user_items, steam_games, left_on='item_id', right_on='id', how='inner')\n",
    "\n",
    "# Seleccionar las columnas requeridas\n",
    "df_UserForGenre = df_UserForGenre[['genres', 'release_year', 'playtime_forever', 'user_id']]\n",
    "\n",
    "df_UserForGenre.head()"
   ]
  },
  {
   "cell_type": "markdown",
   "metadata": {},
   "source": [
    "Expandimos las listas de la columna genres en filas."
   ]
  },
  {
   "cell_type": "code",
   "execution_count": 4,
   "metadata": {},
   "outputs": [
    {
     "data": {
      "text/html": [
       "<div>\n",
       "<style scoped>\n",
       "    .dataframe tbody tr th:only-of-type {\n",
       "        vertical-align: middle;\n",
       "    }\n",
       "\n",
       "    .dataframe tbody tr th {\n",
       "        vertical-align: top;\n",
       "    }\n",
       "\n",
       "    .dataframe thead th {\n",
       "        text-align: right;\n",
       "    }\n",
       "</style>\n",
       "<table border=\"1\" class=\"dataframe\">\n",
       "  <thead>\n",
       "    <tr style=\"text-align: right;\">\n",
       "      <th></th>\n",
       "      <th>genres</th>\n",
       "      <th>release_year</th>\n",
       "      <th>playtime_forever</th>\n",
       "      <th>user_id</th>\n",
       "    </tr>\n",
       "  </thead>\n",
       "  <tbody>\n",
       "    <tr>\n",
       "      <th>0</th>\n",
       "      <td>Action</td>\n",
       "      <td>2000.0</td>\n",
       "      <td>6</td>\n",
       "      <td>76561197970982479</td>\n",
       "    </tr>\n",
       "    <tr>\n",
       "      <th>1</th>\n",
       "      <td>Strategy</td>\n",
       "      <td>2000.0</td>\n",
       "      <td>6</td>\n",
       "      <td>76561197970982479</td>\n",
       "    </tr>\n",
       "    <tr>\n",
       "      <th>2</th>\n",
       "      <td>Action</td>\n",
       "      <td>2000.0</td>\n",
       "      <td>0</td>\n",
       "      <td>js41637</td>\n",
       "    </tr>\n",
       "    <tr>\n",
       "      <th>3</th>\n",
       "      <td>Strategy</td>\n",
       "      <td>2000.0</td>\n",
       "      <td>0</td>\n",
       "      <td>js41637</td>\n",
       "    </tr>\n",
       "    <tr>\n",
       "      <th>4</th>\n",
       "      <td>Action</td>\n",
       "      <td>2000.0</td>\n",
       "      <td>0</td>\n",
       "      <td>Riot-Punch</td>\n",
       "    </tr>\n",
       "  </tbody>\n",
       "</table>\n",
       "</div>"
      ],
      "text/plain": [
       "     genres  release_year  playtime_forever            user_id\n",
       "0    Action        2000.0                 6  76561197970982479\n",
       "1  Strategy        2000.0                 6  76561197970982479\n",
       "2    Action        2000.0                 0            js41637\n",
       "3  Strategy        2000.0                 0            js41637\n",
       "4    Action        2000.0                 0         Riot-Punch"
      ]
     },
     "execution_count": 4,
     "metadata": {},
     "output_type": "execute_result"
    }
   ],
   "source": [
    "# Verificar si 'genres' contiene NaN antes de aplicar ast.literal_eval\n",
    "df_UserForGenre['genres'] = df_UserForGenre['genres'].apply(lambda x: ast.literal_eval(x) if pd.notna(x) else [])\n",
    "#Expandimos las listas en columnas\n",
    "df_UserForGenre = df_UserForGenre.explode('genres').reset_index(drop=True)\n",
    "df_UserForGenre.head()"
   ]
  },
  {
   "cell_type": "markdown",
   "metadata": {},
   "source": [
    "Buscamos al usuario que tiene la mayor cantidad de horas jugadas para cada género"
   ]
  },
  {
   "cell_type": "code",
   "execution_count": 5,
   "metadata": {},
   "outputs": [],
   "source": [
    "# Encontrar el user_id con la mayor cantidad de horas jugadas por género\n",
    "jugador_mas_horas = df_UserForGenre.groupby(['genres', 'user_id'])['playtime_forever'].sum().reset_index()\n",
    "\n",
    "# Encontrar el índice del user_id con la mayor cantidad de horas jugadas por género\n",
    "indice = jugador_mas_horas.groupby('genres')['playtime_forever'].idxmax()\n",
    "\n",
    "# Filtrar el DataFrame original usando los índices encontrados\n",
    "jugador_mas_horas = jugador_mas_horas.loc[indice]"
   ]
  },
  {
   "cell_type": "code",
   "execution_count": 6,
   "metadata": {},
   "outputs": [
    {
     "data": {
      "text/html": [
       "<div>\n",
       "<style scoped>\n",
       "    .dataframe tbody tr th:only-of-type {\n",
       "        vertical-align: middle;\n",
       "    }\n",
       "\n",
       "    .dataframe tbody tr th {\n",
       "        vertical-align: top;\n",
       "    }\n",
       "\n",
       "    .dataframe thead th {\n",
       "        text-align: right;\n",
       "    }\n",
       "</style>\n",
       "<table border=\"1\" class=\"dataframe\">\n",
       "  <thead>\n",
       "    <tr style=\"text-align: right;\">\n",
       "      <th></th>\n",
       "      <th>genres</th>\n",
       "      <th>user_id</th>\n",
       "      <th>playtime_forever</th>\n",
       "    </tr>\n",
       "  </thead>\n",
       "  <tbody>\n",
       "    <tr>\n",
       "      <th>51298</th>\n",
       "      <td>Action</td>\n",
       "      <td>Sp3ctre</td>\n",
       "      <td>1978403</td>\n",
       "    </tr>\n",
       "    <tr>\n",
       "      <th>117882</th>\n",
       "      <td>Adventure</td>\n",
       "      <td>REBAS_AS_F-T</td>\n",
       "      <td>2700123</td>\n",
       "    </tr>\n",
       "    <tr>\n",
       "      <th>136676</th>\n",
       "      <td>Audio Production</td>\n",
       "      <td>Lickidactyl</td>\n",
       "      <td>109916</td>\n",
       "    </tr>\n",
       "    <tr>\n",
       "      <th>181416</th>\n",
       "      <td>Casual</td>\n",
       "      <td>REBAS_AS_F-T</td>\n",
       "      <td>1521355</td>\n",
       "    </tr>\n",
       "    <tr>\n",
       "      <th>199976</th>\n",
       "      <td>Early Access</td>\n",
       "      <td>76561197978756659</td>\n",
       "      <td>316969</td>\n",
       "    </tr>\n",
       "  </tbody>\n",
       "</table>\n",
       "</div>"
      ],
      "text/plain": [
       "                  genres            user_id  playtime_forever\n",
       "51298             Action            Sp3ctre           1978403\n",
       "117882         Adventure       REBAS_AS_F-T           2700123\n",
       "136676  Audio Production        Lickidactyl            109916\n",
       "181416            Casual       REBAS_AS_F-T           1521355\n",
       "199976      Early Access  76561197978756659            316969"
      ]
     },
     "execution_count": 6,
     "metadata": {},
     "output_type": "execute_result"
    }
   ],
   "source": [
    "jugador_mas_horas.head()"
   ]
  },
  {
   "cell_type": "markdown",
   "metadata": {},
   "source": [
    "Concatenamos los DataFrames jugador_mas_horas y df_UserForGenre para retener únicamente al jugador que ha acumulado la mayor cantidad de horas por género del DataFrame df_UserForGenre. Además, conservamos la información sobre la cantidad de horas jugadas por año de lanzamiento."
   ]
  },
  {
   "cell_type": "code",
   "execution_count": 7,
   "metadata": {},
   "outputs": [
    {
     "data": {
      "text/html": [
       "<div>\n",
       "<style scoped>\n",
       "    .dataframe tbody tr th:only-of-type {\n",
       "        vertical-align: middle;\n",
       "    }\n",
       "\n",
       "    .dataframe tbody tr th {\n",
       "        vertical-align: top;\n",
       "    }\n",
       "\n",
       "    .dataframe thead th {\n",
       "        text-align: right;\n",
       "    }\n",
       "</style>\n",
       "<table border=\"1\" class=\"dataframe\">\n",
       "  <thead>\n",
       "    <tr style=\"text-align: right;\">\n",
       "      <th></th>\n",
       "      <th>genres</th>\n",
       "      <th>release_year</th>\n",
       "      <th>playtime_forever</th>\n",
       "      <th>user_id</th>\n",
       "    </tr>\n",
       "  </thead>\n",
       "  <tbody>\n",
       "    <tr>\n",
       "      <th>0</th>\n",
       "      <td>Action</td>\n",
       "      <td>2000.0</td>\n",
       "      <td>70644</td>\n",
       "      <td>Sp3ctre</td>\n",
       "    </tr>\n",
       "    <tr>\n",
       "      <th>1</th>\n",
       "      <td>Action</td>\n",
       "      <td>1999.0</td>\n",
       "      <td>44</td>\n",
       "      <td>Sp3ctre</td>\n",
       "    </tr>\n",
       "    <tr>\n",
       "      <th>2</th>\n",
       "      <td>Action</td>\n",
       "      <td>1999.0</td>\n",
       "      <td>0</td>\n",
       "      <td>Sp3ctre</td>\n",
       "    </tr>\n",
       "    <tr>\n",
       "      <th>3</th>\n",
       "      <td>Action</td>\n",
       "      <td>1998.0</td>\n",
       "      <td>0</td>\n",
       "      <td>Sp3ctre</td>\n",
       "    </tr>\n",
       "    <tr>\n",
       "      <th>4</th>\n",
       "      <td>Action</td>\n",
       "      <td>2001.0</td>\n",
       "      <td>13</td>\n",
       "      <td>Sp3ctre</td>\n",
       "    </tr>\n",
       "  </tbody>\n",
       "</table>\n",
       "</div>"
      ],
      "text/plain": [
       "   genres  release_year  playtime_forever  user_id\n",
       "0  Action        2000.0             70644  Sp3ctre\n",
       "1  Action        1999.0                44  Sp3ctre\n",
       "2  Action        1999.0                 0  Sp3ctre\n",
       "3  Action        1998.0                 0  Sp3ctre\n",
       "4  Action        2001.0                13  Sp3ctre"
      ]
     },
     "execution_count": 7,
     "metadata": {},
     "output_type": "execute_result"
    }
   ],
   "source": [
    "# Concatenamos los DataFrames\n",
    "df_UserForGenre = pd.merge(df_UserForGenre, jugador_mas_horas[['genres', 'user_id']], on=['genres','user_id'])\n",
    "df_UserForGenre.head()"
   ]
  },
  {
   "cell_type": "markdown",
   "metadata": {},
   "source": [
    "Filtramos los valores para eliminar las entradas donde la cantidad de horas jugadas (playtime_forever) es igual a 0."
   ]
  },
  {
   "cell_type": "code",
   "execution_count": 8,
   "metadata": {},
   "outputs": [
    {
     "data": {
      "text/html": [
       "<div>\n",
       "<style scoped>\n",
       "    .dataframe tbody tr th:only-of-type {\n",
       "        vertical-align: middle;\n",
       "    }\n",
       "\n",
       "    .dataframe tbody tr th {\n",
       "        vertical-align: top;\n",
       "    }\n",
       "\n",
       "    .dataframe thead th {\n",
       "        text-align: right;\n",
       "    }\n",
       "</style>\n",
       "<table border=\"1\" class=\"dataframe\">\n",
       "  <thead>\n",
       "    <tr style=\"text-align: right;\">\n",
       "      <th></th>\n",
       "      <th>genres</th>\n",
       "      <th>release_year</th>\n",
       "      <th>playtime_forever</th>\n",
       "      <th>user_id</th>\n",
       "    </tr>\n",
       "  </thead>\n",
       "  <tbody>\n",
       "    <tr>\n",
       "      <th>0</th>\n",
       "      <td>Action</td>\n",
       "      <td>2000.0</td>\n",
       "      <td>70644</td>\n",
       "      <td>Sp3ctre</td>\n",
       "    </tr>\n",
       "    <tr>\n",
       "      <th>1</th>\n",
       "      <td>Action</td>\n",
       "      <td>1999.0</td>\n",
       "      <td>44</td>\n",
       "      <td>Sp3ctre</td>\n",
       "    </tr>\n",
       "    <tr>\n",
       "      <th>4</th>\n",
       "      <td>Action</td>\n",
       "      <td>2001.0</td>\n",
       "      <td>13</td>\n",
       "      <td>Sp3ctre</td>\n",
       "    </tr>\n",
       "    <tr>\n",
       "      <th>5</th>\n",
       "      <td>Action</td>\n",
       "      <td>2010.0</td>\n",
       "      <td>249</td>\n",
       "      <td>Sp3ctre</td>\n",
       "    </tr>\n",
       "    <tr>\n",
       "      <th>6</th>\n",
       "      <td>Action</td>\n",
       "      <td>2004.0</td>\n",
       "      <td>122426</td>\n",
       "      <td>Sp3ctre</td>\n",
       "    </tr>\n",
       "  </tbody>\n",
       "</table>\n",
       "</div>"
      ],
      "text/plain": [
       "   genres  release_year  playtime_forever  user_id\n",
       "0  Action        2000.0             70644  Sp3ctre\n",
       "1  Action        1999.0                44  Sp3ctre\n",
       "4  Action        2001.0                13  Sp3ctre\n",
       "5  Action        2010.0               249  Sp3ctre\n",
       "6  Action        2004.0            122426  Sp3ctre"
      ]
     },
     "execution_count": 8,
     "metadata": {},
     "output_type": "execute_result"
    }
   ],
   "source": [
    "df_UserForGenre = df_UserForGenre[df_UserForGenre['playtime_forever']>0]\n",
    "df_UserForGenre.head()"
   ]
  },
  {
   "cell_type": "markdown",
   "metadata": {},
   "source": [
    "Agrupamos por release_year"
   ]
  },
  {
   "cell_type": "code",
   "execution_count": 9,
   "metadata": {},
   "outputs": [
    {
     "data": {
      "text/html": [
       "<div>\n",
       "<style scoped>\n",
       "    .dataframe tbody tr th:only-of-type {\n",
       "        vertical-align: middle;\n",
       "    }\n",
       "\n",
       "    .dataframe tbody tr th {\n",
       "        vertical-align: top;\n",
       "    }\n",
       "\n",
       "    .dataframe thead th {\n",
       "        text-align: right;\n",
       "    }\n",
       "</style>\n",
       "<table border=\"1\" class=\"dataframe\">\n",
       "  <thead>\n",
       "    <tr style=\"text-align: right;\">\n",
       "      <th></th>\n",
       "      <th>genres</th>\n",
       "      <th>release_year</th>\n",
       "      <th>user_id</th>\n",
       "      <th>playtime_forever</th>\n",
       "    </tr>\n",
       "  </thead>\n",
       "  <tbody>\n",
       "    <tr>\n",
       "      <th>0</th>\n",
       "      <td>Action</td>\n",
       "      <td>1995.0</td>\n",
       "      <td>Sp3ctre</td>\n",
       "      <td>217</td>\n",
       "    </tr>\n",
       "    <tr>\n",
       "      <th>1</th>\n",
       "      <td>Action</td>\n",
       "      <td>1997.0</td>\n",
       "      <td>Sp3ctre</td>\n",
       "      <td>242</td>\n",
       "    </tr>\n",
       "    <tr>\n",
       "      <th>2</th>\n",
       "      <td>Action</td>\n",
       "      <td>1999.0</td>\n",
       "      <td>Sp3ctre</td>\n",
       "      <td>44</td>\n",
       "    </tr>\n",
       "    <tr>\n",
       "      <th>3</th>\n",
       "      <td>Action</td>\n",
       "      <td>2000.0</td>\n",
       "      <td>Sp3ctre</td>\n",
       "      <td>70644</td>\n",
       "    </tr>\n",
       "    <tr>\n",
       "      <th>4</th>\n",
       "      <td>Action</td>\n",
       "      <td>2001.0</td>\n",
       "      <td>Sp3ctre</td>\n",
       "      <td>250</td>\n",
       "    </tr>\n",
       "  </tbody>\n",
       "</table>\n",
       "</div>"
      ],
      "text/plain": [
       "   genres  release_year  user_id  playtime_forever\n",
       "0  Action        1995.0  Sp3ctre               217\n",
       "1  Action        1997.0  Sp3ctre               242\n",
       "2  Action        1999.0  Sp3ctre                44\n",
       "3  Action        2000.0  Sp3ctre             70644\n",
       "4  Action        2001.0  Sp3ctre               250"
      ]
     },
     "execution_count": 9,
     "metadata": {},
     "output_type": "execute_result"
    }
   ],
   "source": [
    "df_UserForGenre = df_UserForGenre.groupby(['genres', 'release_year','user_id'])['playtime_forever'].sum().reset_index()\n",
    "df_UserForGenre.head()"
   ]
  },
  {
   "cell_type": "markdown",
   "metadata": {},
   "source": [
    "### Convertimos a CSV"
   ]
  },
  {
   "cell_type": "code",
   "execution_count": 10,
   "metadata": {},
   "outputs": [],
   "source": [
    "#Convertimos a CSV\n",
    "df_UserForGenre.to_csv('..\\\\Datsets\\\\Archivos_API\\\\UserForGenre.csv', index=False)"
   ]
  },
  {
   "cell_type": "markdown",
   "metadata": {},
   "source": [
    "### Función"
   ]
  },
  {
   "cell_type": "code",
   "execution_count": 11,
   "metadata": {},
   "outputs": [],
   "source": [
    "def UserForGenre(genre):\n",
    "    # Filtrar el DataFrame por el género dado\n",
    "    genero = df_UserForGenre[df_UserForGenre['genres'] == genre]\n",
    "\n",
    "    # Crear una lista de diccionarios para las horas jugadas por año\n",
    "    horas_anio = [{'Año': int(year), 'Horas': int(playtime)} for year, playtime in genero[['release_year', 'playtime_forever']].values]\n",
    "\n",
    "    # Crear el diccionario de salida\n",
    "    resultado = {\n",
    "        'Usuario con más horas jugadas para género '+ genre: genero.iloc[0]['user_id'],\n",
    "        \"Horas jugadas\": horas_anio\n",
    "    }\n",
    "\n",
    "    return resultado\n"
   ]
  },
  {
   "cell_type": "code",
   "execution_count": 12,
   "metadata": {},
   "outputs": [
    {
     "name": "stdout",
     "output_type": "stream",
     "text": [
      "{'Usuario con más horas jugadas para género Action': 'Sp3ctre', 'Horas jugadas': [{'Año': 1995, 'Horas': 217}, {'Año': 1997, 'Horas': 242}, {'Año': 1999, 'Horas': 44}, {'Año': 2000, 'Horas': 70644}, {'Año': 2001, 'Horas': 250}, {'Año': 2002, 'Horas': 238}, {'Año': 2003, 'Horas': 7744}, {'Año': 2004, 'Horas': 127411}, {'Año': 2005, 'Horas': 21339}, {'Año': 2006, 'Horas': 90253}, {'Año': 2007, 'Horas': 112794}, {'Año': 2008, 'Horas': 8533}, {'Año': 2009, 'Horas': 108771}, {'Año': 2010, 'Horas': 82766}, {'Año': 2011, 'Horas': 155459}, {'Año': 2012, 'Horas': 384238}, {'Año': 2013, 'Horas': 122158}, {'Año': 2014, 'Horas': 132864}, {'Año': 2015, 'Horas': 389314}, {'Año': 2016, 'Horas': 30195}, {'Año': 2017, 'Horas': 43327}]}\n"
     ]
    }
   ],
   "source": [
    "genre_result = UserForGenre('Action')\n",
    "print(genre_result)"
   ]
  }
 ],
 "metadata": {
  "kernelspec": {
   "display_name": "Python 3",
   "language": "python",
   "name": "python3"
  },
  "language_info": {
   "codemirror_mode": {
    "name": "ipython",
    "version": 3
   },
   "file_extension": ".py",
   "mimetype": "text/x-python",
   "name": "python",
   "nbconvert_exporter": "python",
   "pygments_lexer": "ipython3",
   "version": "3.11.6"
  }
 },
 "nbformat": 4,
 "nbformat_minor": 2
}
