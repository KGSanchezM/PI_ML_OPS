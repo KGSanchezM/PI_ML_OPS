{
 "cells": [
  {
   "cell_type": "markdown",
   "metadata": {},
   "source": [
    "# PlayTimeGenre\n",
    "\n",
    "Crear una función que tenga como entrada una cadena de texto representando un género y nos devuelva el año con más horas jugadas para dicho género. Para hacer esto se va a crear el CSV con la información necesaria para realizar la consulta, ya que se debe deployar en Render y los datasets son muy pesados para cargarlos.\n",
    "\n",
    "def PlayTimeGenre( genero : str ): Debe devolver año con mas horas jugadas para dicho género.\n",
    "Ejemplo de retorno: {\"Año de lanzamiento con más horas jugadas para Género X\" : 2013}\n"
   ]
  },
  {
   "cell_type": "markdown",
   "metadata": {},
   "source": [
    "### Importamos las librerías"
   ]
  },
  {
   "cell_type": "code",
   "execution_count": 1,
   "metadata": {},
   "outputs": [],
   "source": [
    "import pandas as pd\n",
    "import ast"
   ]
  },
  {
   "cell_type": "markdown",
   "metadata": {},
   "source": [
    "### Lectura del archivo CSV"
   ]
  },
  {
   "cell_type": "code",
   "execution_count": 2,
   "metadata": {},
   "outputs": [],
   "source": [
    "steam_games = pd.read_csv(\"..\\\\Datsets\\\\CSV\\\\steam_games.csv\")\n",
    "user_items =pd.read_csv(\"..\\\\Datsets\\\\CSV\\\\user_items.csv\")"
   ]
  },
  {
   "cell_type": "markdown",
   "metadata": {},
   "source": [
    "### Creación del CSV para la función PlayTimeGenre\n",
    "\n",
    "La información que necesitamos incluye los géneros, el año de lanzamiento y el tiempo jugado en total por cada juego. Para ello, vamos a utilizar las columnas 'id', 'genres', 'release_year' del conjunto de datos `steam_games`, y las columnas 'item_id' y 'playtime_forever' del conjunto de datos `user_items`. Vamos a concatenar los DataFrames a través de las columnas 'id' e 'item_id'.\n",
    "\n",
    "1. **Columnas de steam_games:**\n",
    "    - 'id'\n",
    "    - 'genres'\n",
    "    - 'release_year'\n",
    "\n",
    "2. **Columnas de user_items:**\n",
    "    - 'item_id'\n",
    "    - 'playtime_forever'\n",
    "\n",
    "Vamos a realizar la concatenación utilizando las columnas 'id' e 'item_id'.\n"
   ]
  },
  {
   "cell_type": "code",
   "execution_count": 6,
   "metadata": {},
   "outputs": [],
   "source": [
    "# Combinar DataFrames utilizando las variables en español\n",
    "tiempo_juego_genero = pd.merge(steam_games[['id', 'genres', 'release_year']],\n",
    "                               user_items[['item_id', 'playtime_forever']],\n",
    "                               left_on='id', right_on='item_id', how='inner')\n",
    "\n",
    "# Eliminar las columnas duplicadas 'item_id' e 'id'\n",
    "tiempo_juego_genero = tiempo_juego_genero.drop(columns=['item_id'], axis=1)\n"
   ]
  },
  {
   "cell_type": "code",
   "execution_count": 13,
   "metadata": {},
   "outputs": [
    {
     "data": {
      "text/html": [
       "<div>\n",
       "<style scoped>\n",
       "    .dataframe tbody tr th:only-of-type {\n",
       "        vertical-align: middle;\n",
       "    }\n",
       "\n",
       "    .dataframe tbody tr th {\n",
       "        vertical-align: top;\n",
       "    }\n",
       "\n",
       "    .dataframe thead th {\n",
       "        text-align: right;\n",
       "    }\n",
       "</style>\n",
       "<table border=\"1\" class=\"dataframe\">\n",
       "  <thead>\n",
       "    <tr style=\"text-align: right;\">\n",
       "      <th></th>\n",
       "      <th>id</th>\n",
       "      <th>genres</th>\n",
       "      <th>release_year</th>\n",
       "      <th>playtime_forever</th>\n",
       "    </tr>\n",
       "  </thead>\n",
       "  <tbody>\n",
       "    <tr>\n",
       "      <th>0</th>\n",
       "      <td>282010.0</td>\n",
       "      <td>['Racing', 'Action', 'Indie']</td>\n",
       "      <td>1997.0</td>\n",
       "      <td>5</td>\n",
       "    </tr>\n",
       "    <tr>\n",
       "      <th>1</th>\n",
       "      <td>282010.0</td>\n",
       "      <td>['Racing', 'Action', 'Indie']</td>\n",
       "      <td>1997.0</td>\n",
       "      <td>0</td>\n",
       "    </tr>\n",
       "    <tr>\n",
       "      <th>2</th>\n",
       "      <td>282010.0</td>\n",
       "      <td>['Racing', 'Action', 'Indie']</td>\n",
       "      <td>1997.0</td>\n",
       "      <td>0</td>\n",
       "    </tr>\n",
       "    <tr>\n",
       "      <th>3</th>\n",
       "      <td>282010.0</td>\n",
       "      <td>['Racing', 'Action', 'Indie']</td>\n",
       "      <td>1997.0</td>\n",
       "      <td>0</td>\n",
       "    </tr>\n",
       "    <tr>\n",
       "      <th>4</th>\n",
       "      <td>282010.0</td>\n",
       "      <td>['Racing', 'Action', 'Indie']</td>\n",
       "      <td>1997.0</td>\n",
       "      <td>13</td>\n",
       "    </tr>\n",
       "  </tbody>\n",
       "</table>\n",
       "</div>"
      ],
      "text/plain": [
       "         id                         genres  release_year  playtime_forever\n",
       "0  282010.0  ['Racing', 'Action', 'Indie']        1997.0                 5\n",
       "1  282010.0  ['Racing', 'Action', 'Indie']        1997.0                 0\n",
       "2  282010.0  ['Racing', 'Action', 'Indie']        1997.0                 0\n",
       "3  282010.0  ['Racing', 'Action', 'Indie']        1997.0                 0\n",
       "4  282010.0  ['Racing', 'Action', 'Indie']        1997.0                13"
      ]
     },
     "execution_count": 13,
     "metadata": {},
     "output_type": "execute_result"
    }
   ],
   "source": [
    "tiempo_juego_genero.head()"
   ]
  },
  {
   "cell_type": "markdown",
   "metadata": {},
   "source": [
    "Agrupar la columna 'playtime_forever' por cada 'id' para obtener el tiempo total jugado por cada juego"
   ]
  },
  {
   "cell_type": "code",
   "execution_count": 14,
   "metadata": {},
   "outputs": [],
   "source": [
    "#Agrupamos por playtime_forever por id\n",
    "tiempo_juego_genero = tiempo_juego_genero.groupby(['genres', 'release_year', 'id'])['playtime_forever'].sum().reset_index()"
   ]
  },
  {
   "cell_type": "code",
   "execution_count": 15,
   "metadata": {},
   "outputs": [
    {
     "data": {
      "text/html": [
       "<div>\n",
       "<style scoped>\n",
       "    .dataframe tbody tr th:only-of-type {\n",
       "        vertical-align: middle;\n",
       "    }\n",
       "\n",
       "    .dataframe tbody tr th {\n",
       "        vertical-align: top;\n",
       "    }\n",
       "\n",
       "    .dataframe thead th {\n",
       "        text-align: right;\n",
       "    }\n",
       "</style>\n",
       "<table border=\"1\" class=\"dataframe\">\n",
       "  <thead>\n",
       "    <tr style=\"text-align: right;\">\n",
       "      <th></th>\n",
       "      <th>genres</th>\n",
       "      <th>release_year</th>\n",
       "      <th>id</th>\n",
       "      <th>playtime_forever</th>\n",
       "    </tr>\n",
       "  </thead>\n",
       "  <tbody>\n",
       "    <tr>\n",
       "      <th>0</th>\n",
       "      <td>['Action', 'Adventure', 'Casual', 'Indie']</td>\n",
       "      <td>2016.0</td>\n",
       "      <td>499460.0</td>\n",
       "      <td>13</td>\n",
       "    </tr>\n",
       "    <tr>\n",
       "      <th>1</th>\n",
       "      <td>['Action', 'Adventure', 'Casual', 'Indie']</td>\n",
       "      <td>2016.0</td>\n",
       "      <td>514890.0</td>\n",
       "      <td>2</td>\n",
       "    </tr>\n",
       "    <tr>\n",
       "      <th>2</th>\n",
       "      <td>['Action', 'Adventure', 'Casual', 'Strategy']</td>\n",
       "      <td>2015.0</td>\n",
       "      <td>355020.0</td>\n",
       "      <td>0</td>\n",
       "    </tr>\n",
       "    <tr>\n",
       "      <th>3</th>\n",
       "      <td>['Action', 'Adventure', 'Casual']</td>\n",
       "      <td>1999.0</td>\n",
       "      <td>20.0</td>\n",
       "      <td>960524</td>\n",
       "    </tr>\n",
       "    <tr>\n",
       "      <th>4</th>\n",
       "      <td>['Action', 'Adventure', 'Casual']</td>\n",
       "      <td>2009.0</td>\n",
       "      <td>319170.0</td>\n",
       "      <td>5581</td>\n",
       "    </tr>\n",
       "  </tbody>\n",
       "</table>\n",
       "</div>"
      ],
      "text/plain": [
       "                                          genres  release_year        id  \\\n",
       "0     ['Action', 'Adventure', 'Casual', 'Indie']        2016.0  499460.0   \n",
       "1     ['Action', 'Adventure', 'Casual', 'Indie']        2016.0  514890.0   \n",
       "2  ['Action', 'Adventure', 'Casual', 'Strategy']        2015.0  355020.0   \n",
       "3              ['Action', 'Adventure', 'Casual']        1999.0      20.0   \n",
       "4              ['Action', 'Adventure', 'Casual']        2009.0  319170.0   \n",
       "\n",
       "   playtime_forever  \n",
       "0                13  \n",
       "1                 2  \n",
       "2                 0  \n",
       "3            960524  \n",
       "4              5581  "
      ]
     },
     "execution_count": 15,
     "metadata": {},
     "output_type": "execute_result"
    }
   ],
   "source": [
    "tiempo_juego_genero.head()"
   ]
  },
  {
   "cell_type": "markdown",
   "metadata": {},
   "source": [
    "Expandimos las listas en la columna 'genres'"
   ]
  },
  {
   "cell_type": "code",
   "execution_count": 16,
   "metadata": {},
   "outputs": [],
   "source": [
    "#Convertimos la columna genres a tipo lista\n",
    "tiempo_juego_genero['genres'] = tiempo_juego_genero['genres'].apply(ast.literal_eval)\n",
    "#Expandimos las listas en columnas\n",
    "tiempo_juego_genero = tiempo_juego_genero.explode('genres').reset_index(drop=True)"
   ]
  },
  {
   "cell_type": "code",
   "execution_count": 17,
   "metadata": {},
   "outputs": [
    {
     "data": {
      "text/html": [
       "<div>\n",
       "<style scoped>\n",
       "    .dataframe tbody tr th:only-of-type {\n",
       "        vertical-align: middle;\n",
       "    }\n",
       "\n",
       "    .dataframe tbody tr th {\n",
       "        vertical-align: top;\n",
       "    }\n",
       "\n",
       "    .dataframe thead th {\n",
       "        text-align: right;\n",
       "    }\n",
       "</style>\n",
       "<table border=\"1\" class=\"dataframe\">\n",
       "  <thead>\n",
       "    <tr style=\"text-align: right;\">\n",
       "      <th></th>\n",
       "      <th>genres</th>\n",
       "      <th>release_year</th>\n",
       "      <th>id</th>\n",
       "      <th>playtime_forever</th>\n",
       "    </tr>\n",
       "  </thead>\n",
       "  <tbody>\n",
       "    <tr>\n",
       "      <th>0</th>\n",
       "      <td>Action</td>\n",
       "      <td>2016.0</td>\n",
       "      <td>499460.0</td>\n",
       "      <td>13</td>\n",
       "    </tr>\n",
       "    <tr>\n",
       "      <th>1</th>\n",
       "      <td>Adventure</td>\n",
       "      <td>2016.0</td>\n",
       "      <td>499460.0</td>\n",
       "      <td>13</td>\n",
       "    </tr>\n",
       "    <tr>\n",
       "      <th>2</th>\n",
       "      <td>Casual</td>\n",
       "      <td>2016.0</td>\n",
       "      <td>499460.0</td>\n",
       "      <td>13</td>\n",
       "    </tr>\n",
       "    <tr>\n",
       "      <th>3</th>\n",
       "      <td>Indie</td>\n",
       "      <td>2016.0</td>\n",
       "      <td>499460.0</td>\n",
       "      <td>13</td>\n",
       "    </tr>\n",
       "    <tr>\n",
       "      <th>4</th>\n",
       "      <td>Action</td>\n",
       "      <td>2016.0</td>\n",
       "      <td>514890.0</td>\n",
       "      <td>2</td>\n",
       "    </tr>\n",
       "  </tbody>\n",
       "</table>\n",
       "</div>"
      ],
      "text/plain": [
       "      genres  release_year        id  playtime_forever\n",
       "0     Action        2016.0  499460.0                13\n",
       "1  Adventure        2016.0  499460.0                13\n",
       "2     Casual        2016.0  499460.0                13\n",
       "3      Indie        2016.0  499460.0                13\n",
       "4     Action        2016.0  514890.0                 2"
      ]
     },
     "execution_count": 17,
     "metadata": {},
     "output_type": "execute_result"
    }
   ],
   "source": [
    "tiempo_juego_genero.head()"
   ]
  },
  {
   "cell_type": "markdown",
   "metadata": {},
   "source": [
    "Agrupamos por 'genres' y 'release_year', sumando las horas jugadas para cada combinación."
   ]
  },
  {
   "cell_type": "code",
   "execution_count": 18,
   "metadata": {},
   "outputs": [],
   "source": [
    "#Agrupamos por genero y año de lanzamiento\n",
    "tiempo_juego_genero = tiempo_juego_genero.groupby(['release_year', 'genres'])['playtime_forever'].sum().reset_index()"
   ]
  },
  {
   "cell_type": "code",
   "execution_count": 19,
   "metadata": {},
   "outputs": [
    {
     "data": {
      "text/html": [
       "<div>\n",
       "<style scoped>\n",
       "    .dataframe tbody tr th:only-of-type {\n",
       "        vertical-align: middle;\n",
       "    }\n",
       "\n",
       "    .dataframe tbody tr th {\n",
       "        vertical-align: top;\n",
       "    }\n",
       "\n",
       "    .dataframe thead th {\n",
       "        text-align: right;\n",
       "    }\n",
       "</style>\n",
       "<table border=\"1\" class=\"dataframe\">\n",
       "  <thead>\n",
       "    <tr style=\"text-align: right;\">\n",
       "      <th></th>\n",
       "      <th>release_year</th>\n",
       "      <th>genres</th>\n",
       "      <th>playtime_forever</th>\n",
       "    </tr>\n",
       "  </thead>\n",
       "  <tbody>\n",
       "    <tr>\n",
       "      <th>0</th>\n",
       "      <td>1983.0</td>\n",
       "      <td>Action</td>\n",
       "      <td>3473</td>\n",
       "    </tr>\n",
       "    <tr>\n",
       "      <th>1</th>\n",
       "      <td>1983.0</td>\n",
       "      <td>Adventure</td>\n",
       "      <td>3473</td>\n",
       "    </tr>\n",
       "    <tr>\n",
       "      <th>2</th>\n",
       "      <td>1983.0</td>\n",
       "      <td>Casual</td>\n",
       "      <td>3473</td>\n",
       "    </tr>\n",
       "    <tr>\n",
       "      <th>3</th>\n",
       "      <td>1984.0</td>\n",
       "      <td>Action</td>\n",
       "      <td>384</td>\n",
       "    </tr>\n",
       "    <tr>\n",
       "      <th>4</th>\n",
       "      <td>1984.0</td>\n",
       "      <td>Adventure</td>\n",
       "      <td>384</td>\n",
       "    </tr>\n",
       "  </tbody>\n",
       "</table>\n",
       "</div>"
      ],
      "text/plain": [
       "   release_year     genres  playtime_forever\n",
       "0        1983.0     Action              3473\n",
       "1        1983.0  Adventure              3473\n",
       "2        1983.0     Casual              3473\n",
       "3        1984.0     Action               384\n",
       "4        1984.0  Adventure               384"
      ]
     },
     "execution_count": 19,
     "metadata": {},
     "output_type": "execute_result"
    }
   ],
   "source": [
    "tiempo_juego_genero.head()"
   ]
  },
  {
   "cell_type": "markdown",
   "metadata": {},
   "source": [
    "El resultado es un DataFrame que contiene la información de cuántas horas se han jugado por género y año de lanzamiento. Convertiremos este DataFrame a un archivo CSV para alimentar la API."
   ]
  },
  {
   "cell_type": "code",
   "execution_count": 20,
   "metadata": {},
   "outputs": [],
   "source": [
    "# Guardar el DataFrame en un archivo CSV\n",
    "tiempo_juego_genero.to_csv('..\\\\Datsets\\\\Archivos_API\\\\PlayTimeGenre.csv', index=False)\n"
   ]
  },
  {
   "cell_type": "markdown",
   "metadata": {},
   "source": [
    "Creación de la función para consultar el año con más horas jugadas por género"
   ]
  },
  {
   "cell_type": "code",
   "execution_count": 26,
   "metadata": {},
   "outputs": [],
   "source": [
    "def PlayTimeGenre(genero):\n",
    "    \"\"\"\n",
    "    Función que toma como entrada un género y devuelve el año con la máxima cantidad de horas jugadas para ese género.\n",
    "\n",
    "    Parámetros:\n",
    "    - genero (str): Género para el cual se busca el año con más horas jugadas.\n",
    "\n",
    "    Ejemplo de retorno:\n",
    "    - Para un género existente: 2013\n",
    "    - Para un género no encontrado: \"No se encontraron datos para el género 'Género X'\"\n",
    "    \"\"\"\n",
    "    # Filtra el DataFrame para el género especificado\n",
    "\n",
    "    df_genero = tiempo_juego_genero[tiempo_juego_genero['genres'] == genero]\n",
    "\n",
    "    # Verifica si el género está presente en el DataFrame\n",
    "    if not df_genero.empty:\n",
    "        # Encuentra el año con la máxima cantidad de horas jugadas\n",
    "        anio_mas_jugado = df_genero.loc[df_genero['playtime_forever'].idxmax()]['release_year']\n",
    "        return f'Año de lanzamiento con más horas jugadas para el género {genero} : {int(anio_mas_jugado)}'\n",
    "    else:\n",
    "        return f\"No se encontraron datos para el género '{genero}'\"\n"
   ]
  }
 ],
 "metadata": {
  "kernelspec": {
   "display_name": "Python 3",
   "language": "python",
   "name": "python3"
  },
  "language_info": {
   "codemirror_mode": {
    "name": "ipython",
    "version": 3
   },
   "file_extension": ".py",
   "mimetype": "text/x-python",
   "name": "python",
   "nbconvert_exporter": "python",
   "pygments_lexer": "ipython3",
   "version": "3.11.6"
  }
 },
 "nbformat": 4,
 "nbformat_minor": 2
}
