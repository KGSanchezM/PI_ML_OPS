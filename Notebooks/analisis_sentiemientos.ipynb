{
 "cells": [
  {
   "cell_type": "markdown",
   "metadata": {},
   "source": [
    "# Análisis de Sentimientos\n",
    "\n",
    "Vamos a analizar los textos de las reseñas de `user_reviews` para crear la columna `sentiment_analysis`. Esta columna tendrá un valor de 0 si es negativo, 1 si es neutral, o 2 si es positivo. En caso de que no haya una reseña escrita, se le asignará un valor de 1.\n"
   ]
  },
  {
   "cell_type": "markdown",
   "metadata": {},
   "source": [
    "### Importación de las librerias"
   ]
  },
  {
   "cell_type": "code",
   "execution_count": 7,
   "metadata": {},
   "outputs": [
    {
     "name": "stderr",
     "output_type": "stream",
     "text": [
      "[nltk_data] Downloading package vader_lexicon to\n",
      "[nltk_data]     C:\\Users\\Grethel\\AppData\\Roaming\\nltk_data...\n",
      "[nltk_data]   Package vader_lexicon is already up-to-date!\n"
     ]
    },
    {
     "data": {
      "text/plain": [
       "True"
      ]
     },
     "execution_count": 7,
     "metadata": {},
     "output_type": "execute_result"
    }
   ],
   "source": [
    "import pandas as pd\n",
    "from nltk.sentiment import SentimentIntensityAnalyzer\n",
    "import nltk\n",
    "nltk.download('vader_lexicon')"
   ]
  },
  {
   "cell_type": "markdown",
   "metadata": {},
   "source": [
    "### Lectura del CSV"
   ]
  },
  {
   "cell_type": "code",
   "execution_count": 8,
   "metadata": {},
   "outputs": [],
   "source": [
    "# leemos el archivo\n",
    "user_reviews = pd.read_csv(\"..\\\\Datsets\\\\CSV\\\\user_reviews.csv\")"
   ]
  },
  {
   "cell_type": "markdown",
   "metadata": {},
   "source": [
    "### Función para Asignar Etiquetas\n",
    "\n",
    "Esta función se empleará para asignar etiquetas numéricas según el umbral del analizador de sentimientos SentimentIntensityAnalyzer.\n",
    "\n",
    "Esta función recibe un puntaje de sentimiento como entrada y asigna etiquetas numéricas según umbrales predefinidos.\n",
    "\n",
    "**Parámetros:**\n",
    "- `score` (float): Puntaje de sentimiento obtenido del análisis.\n",
    "\n",
    "**Retorno:**\n",
    "- `int`: Etiqueta numérica asignada, donde:\n",
    "- `2` indica sentimiento positivo,\n",
    "- `0` indica sentimiento negativo, y\n",
    "- `1` indica neutralidad.\n"
   ]
  },
  {
   "cell_type": "code",
   "execution_count": 9,
   "metadata": {},
   "outputs": [],
   "source": [
    "def asignar_etiqueta(sentimiento):\n",
    "    \"\"\"\n",
    "    Función para Asignar Etiquetas Numéricas a los Sentimientos\n",
    "\n",
    "    Esta función recibe un puntaje de sentimiento como entrada y asigna etiquetas numéricas según umbrales predefinidos.\n",
    "\n",
    "    Parámetros:\n",
    "    - sentimiento (float): Puntaje de sentimiento obtenido del análisis.\n",
    "\n",
    "    Retorno:\n",
    "    - int: Etiqueta numérica asignada, donde:\n",
    "           - 2 indica sentimiento positivo,\n",
    "           - 0 indica sentimiento negativo, y\n",
    "           - 1 indica neutralidad.\n",
    "\n",
    "    Ejemplo de Uso:\n",
    "    ```python\n",
    "    puntaje_sentimiento = analizar_sentimiento(texto)\n",
    "    etiqueta_asignada = asignar_etiqueta(puntaje_sentimiento)\n",
    "    print(f\"Etiqueta Asignada: {etiqueta_asignada}\")\n",
    "    ```\n",
    "    \"\"\"\n",
    "    if sentimiento >= 0.05:\n",
    "        return 2  # Sentimiento positivo\n",
    "    elif sentimiento <= -0.04:\n",
    "        return 0  # Sentimiento negativo\n",
    "    else:\n",
    "        return 1  # Neutral\n"
   ]
  },
  {
   "cell_type": "markdown",
   "metadata": {},
   "source": [
    "Las filas de la columna 'review' que contengan valores nulos se van a reemplazar por cadenas vacías\n",
    "para que el analizador de sentimientos les dé un valor de 0."
   ]
  },
  {
   "cell_type": "code",
   "execution_count": 10,
   "metadata": {},
   "outputs": [],
   "source": [
    "# Rellenar valores nulos con una cadena vacía\n",
    "user_reviews['review'].fillna('', inplace=True)"
   ]
  },
  {
   "cell_type": "markdown",
   "metadata": {},
   "source": [
    "### Modelo"
   ]
  },
  {
   "cell_type": "markdown",
   "metadata": {},
   "source": [
    "Utilizaremos la librería NLTK (Natural Language Toolkit) para realizar un análisis de sentimientos de las revisiones de usuarios.\n",
    "\n",
    "1. **Inicializar el analizador de sentimientos de NLTK:**\n",
    "   Aquí, se crea una instancia del analizador de sentimientos SentimentIntensityAnalyzer de NLTK. Este analizador asigna un puntaje de sentimiento a cada revisión.\n",
    "\n",
    "2. **Aplicar el análisis de sentimiento y asignar etiquetas numéricas:**\n",
    "   Se aplica el análisis de sentimiento a la columna 'review' del DataFrame 'user_reviews'. El puntaje de sentimiento se obtiene mediante la función `sid.polarity_scores(x)['compound']`, donde 'x' es cada revisión. Luego, se utiliza la función `asignar_etiqueta` para asignar etiquetas numéricas (positivo, negativo, neutral) basadas en los puntajes de sentimiento.\n",
    "\n",
    "3. **Borrar la columna 'review':**\n",
    "   Finalmente, se elimina la columna original 'review' del DataFrame 'user_reviews', ya que ahora tenemos la información de sentimiento y ya no necesitamos las revisiones individuales."
   ]
  },
  {
   "cell_type": "code",
   "execution_count": 11,
   "metadata": {},
   "outputs": [],
   "source": [
    "# Inicializar el analizador de sentimientos de NLTK\n",
    "sid = SentimentIntensityAnalyzer()\n",
    "\n",
    "# Aplicar el análisis de sentimiento y asignar etiquetas numéricas\n",
    "user_reviews['sentiment_score'] = user_reviews['review'].apply(lambda x: sid.polarity_scores(x)['compound'])\n",
    "user_reviews['sentiment_analysis'] = user_reviews['sentiment_score'].apply(asignar_etiqueta)\n",
    "\n",
    "# Borramos la columa reviews\n",
    "user_reviews.drop(columns=[\"review\"],inplace=True)\n"
   ]
  },
  {
   "cell_type": "markdown",
   "metadata": {},
   "source": [
    "### Exportar a CSV\n",
    "\n",
    "\n",
    "Exportar a CSV y reemplazar el archivo 'user_reviews' con este, que ahora incluye dos columnas adicionales relacionadas con el análisis de sentimientos."
   ]
  },
  {
   "cell_type": "code",
   "execution_count": null,
   "metadata": {},
   "outputs": [],
   "source": [
    "# Convertir el DataFrame 'user_reviews' a CSV\n",
    "user_reviews.to_csv(\"..\\\\Datsets\\\\CSV\\\\user_reviews.csv\", index=False)"
   ]
  }
 ],
 "metadata": {
  "kernelspec": {
   "display_name": "Python 3",
   "language": "python",
   "name": "python3"
  },
  "language_info": {
   "codemirror_mode": {
    "name": "ipython",
    "version": 3
   },
   "file_extension": ".py",
   "mimetype": "text/x-python",
   "name": "python",
   "nbconvert_exporter": "python",
   "pygments_lexer": "ipython3",
   "version": "3.11.6"
  }
 },
 "nbformat": 4,
 "nbformat_minor": 2
}
